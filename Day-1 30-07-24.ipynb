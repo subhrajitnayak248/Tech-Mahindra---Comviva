{
 "cells": [
  {
   "attachments": {
    "Python.jpeg": {
     "image/jpeg": "[encoded data removed]"
    }
   },
   "cell_type": "markdown",
   "id": "5e0301d7",
   "metadata": {},
   "source": [
    "![Python.jpeg](attachment:Python.jpeg)"
   ]
  },
  {
   "cell_type": "markdown",
   "id": "9f0ec285",
   "metadata": {},
   "source": [
    "# Python Course"
   ]
  },
  {
   "cell_type": "markdown",
   "id": "b42b8261",
   "metadata": {},
   "source": [
    "* Data Types\n",
    "* Input output Statements\n",
    "* Operators\n",
    "* Arithmetic\n",
    "* Comparison\n",
    "* logical \n",
    "* bitwise"
   ]
  },
  {
   "cell_type": "markdown",
   "id": "54f2b792",
   "metadata": {},
   "source": [
    "## Input Output Statements"
   ]
  },
  {
   "cell_type": "markdown",
   "id": "4563893f",
   "metadata": {},
   "source": [
    "### print() Function "
   ]
  },
  {
   "cell_type": "code",
   "execution_count": 4,
   "id": "6647e36c",
   "metadata": {},
   "outputs": [
    {
     "name": "stdout",
     "output_type": "stream",
     "text": [
      "hi\n"
     ]
    }
   ],
   "source": [
    "print(\"hi\")"
   ]
  },
  {
   "cell_type": "code",
   "execution_count": 5,
   "id": "313380e3",
   "metadata": {},
   "outputs": [
    {
     "name": "stdout",
     "output_type": "stream",
     "text": [
      "Hi Students\n"
     ]
    }
   ],
   "source": [
    "print(\"Hi\",\"Students\")"
   ]
  },
  {
   "cell_type": "code",
   "execution_count": 6,
   "id": "104a597c",
   "metadata": {},
   "outputs": [
    {
     "name": "stdout",
     "output_type": "stream",
     "text": [
      "hi!Students\n"
     ]
    }
   ],
   "source": [
    "print(\"hi\",\"Students\", sep='!')"
   ]
  },
  {
   "cell_type": "code",
   "execution_count": 7,
   "id": "f8b02ecb",
   "metadata": {},
   "outputs": [
    {
     "name": "stdout",
     "output_type": "stream",
     "text": [
      "30/07/2024\n"
     ]
    }
   ],
   "source": [
    "print(\"30\",\"07\",\"2024\", sep='/')"
   ]
  },
  {
   "cell_type": "code",
   "execution_count": 8,
   "id": "0a859a7f",
   "metadata": {},
   "outputs": [
    {
     "name": "stdout",
     "output_type": "stream",
     "text": [
      "hi\n",
      "Students\n"
     ]
    }
   ],
   "source": [
    "print(\"hi\")\n",
    "print(\"Students\")"
   ]
  },
  {
   "cell_type": "code",
   "execution_count": 9,
   "id": "57d9439f",
   "metadata": {},
   "outputs": [
    {
     "name": "stdout",
     "output_type": "stream",
     "text": [
      "hi\n",
      "Students\n",
      "Session started\n"
     ]
    }
   ],
   "source": [
    "print(\"hi\")\n",
    "print(\"Students\")\n",
    "print(\"Session started\")"
   ]
  },
  {
   "cell_type": "code",
   "execution_count": 10,
   "id": "43b8d4aa",
   "metadata": {},
   "outputs": [
    {
     "name": "stdout",
     "output_type": "stream",
     "text": [
      "hi,Students,Session started\n"
     ]
    }
   ],
   "source": [
    "print(\"hi\",end=',')\n",
    "print(\"Students\",end=',')\n",
    "print(\"Session started\")"
   ]
  },
  {
   "cell_type": "code",
   "execution_count": 11,
   "id": "caa35041",
   "metadata": {},
   "outputs": [
    {
     "name": "stdout",
     "output_type": "stream",
     "text": [
      "hi Students Session started\n"
     ]
    }
   ],
   "source": [
    "print(\"hi\",end=' ')\n",
    "print(\"Students\",end=' ')\n",
    "print(\"Session started\")"
   ]
  },
  {
   "cell_type": "code",
   "execution_count": 12,
   "id": "02593967",
   "metadata": {},
   "outputs": [
    {
     "name": "stdout",
     "output_type": "stream",
     "text": [
      "hi Students!Session started\n"
     ]
    }
   ],
   "source": [
    "print(\"hi\",end=' ')\n",
    "print(\"Students\",end='!')\n",
    "print(\"Session started\")"
   ]
  },
  {
   "cell_type": "code",
   "execution_count": 13,
   "id": "727649a0",
   "metadata": {},
   "outputs": [
    {
     "name": "stdout",
     "output_type": "stream",
     "text": [
      "Hello, Students\n"
     ]
    }
   ],
   "source": [
    "print(\"Hello, Students\")"
   ]
  },
  {
   "cell_type": "code",
   "execution_count": 22,
   "id": "26508052",
   "metadata": {},
   "outputs": [
    {
     "name": "stdout",
     "output_type": "stream",
     "text": [
      "SAILAJA\n"
     ]
    }
   ],
   "source": [
    "name = \"Sailaja\"\n",
    "print(name.upper())"
   ]
  },
  {
   "cell_type": "markdown",
   "id": "bc57329e",
   "metadata": {},
   "source": [
    "## type() function"
   ]
  },
  {
   "cell_type": "code",
   "execution_count": 15,
   "id": "a7cef3f1",
   "metadata": {},
   "outputs": [
    {
     "data": {
      "text/plain": [
       "str"
      ]
     },
     "execution_count": 15,
     "metadata": {},
     "output_type": "execute_result"
    }
   ],
   "source": [
    "type(name)"
   ]
  },
  {
   "cell_type": "code",
   "execution_count": 16,
   "id": "8aa444f4",
   "metadata": {},
   "outputs": [
    {
     "ename": "NameError",
     "evalue": "name 'dtype' is not defined",
     "output_type": "error",
     "traceback": [
      "\u001b[1;31m---------------------------------------------------------------------------\u001b[0m",
      "\u001b[1;31mNameError\u001b[0m                                 Traceback (most recent call last)",
      "Cell \u001b[1;32mIn[16], line 1\u001b[0m\n\u001b[1;32m----> 1\u001b[0m dtype(name)\n",
      "\u001b[1;31mNameError\u001b[0m: name 'dtype' is not defined"
     ]
    }
   ],
   "source": [
    "dtype(name)"
   ]
  },
  {
   "cell_type": "code",
   "execution_count": 17,
   "id": "06dfd094",
   "metadata": {},
   "outputs": [],
   "source": [
    "age = 49"
   ]
  },
  {
   "cell_type": "code",
   "execution_count": 18,
   "id": "f66f7f84",
   "metadata": {},
   "outputs": [
    {
     "data": {
      "text/plain": [
       "int"
      ]
     },
     "execution_count": 18,
     "metadata": {},
     "output_type": "execute_result"
    }
   ],
   "source": [
    "type(age)"
   ]
  },
  {
   "cell_type": "code",
   "execution_count": 19,
   "id": "c43486f8",
   "metadata": {},
   "outputs": [
    {
     "data": {
      "text/plain": [
       "float"
      ]
     },
     "execution_count": 19,
     "metadata": {},
     "output_type": "execute_result"
    }
   ],
   "source": [
    "height = 5.1\n",
    "type(height)"
   ]
  },
  {
   "cell_type": "code",
   "execution_count": 20,
   "id": "522b6421",
   "metadata": {},
   "outputs": [
    {
     "data": {
      "text/plain": [
       "str"
      ]
     },
     "execution_count": 20,
     "metadata": {},
     "output_type": "execute_result"
    }
   ],
   "source": [
    "gender = 'f'\n",
    "type(gender)"
   ]
  },
  {
   "cell_type": "code",
   "execution_count": null,
   "id": "9842d390",
   "metadata": {},
   "outputs": [],
   "source": [
    "# a+ib \n",
    "# a real part\n",
    "# b imaginary part"
   ]
  },
  {
   "cell_type": "code",
   "execution_count": 21,
   "id": "ec1c6a56",
   "metadata": {},
   "outputs": [
    {
     "data": {
      "text/plain": [
       "complex"
      ]
     },
     "execution_count": 21,
     "metadata": {},
     "output_type": "execute_result"
    }
   ],
   "source": [
    "# a+jb\n",
    "C1=1+2j\n",
    "type(C1)"
   ]
  },
  {
   "cell_type": "code",
   "execution_count": null,
   "id": "818747ae",
   "metadata": {},
   "outputs": [],
   "source": []
  },
  {
   "cell_type": "markdown",
   "id": "9a791ea6",
   "metadata": {},
   "source": [
    "## input() function"
   ]
  },
  {
   "cell_type": "code",
   "execution_count": 23,
   "id": "fa8078b7",
   "metadata": {},
   "outputs": [
    {
     "name": "stdout",
     "output_type": "stream",
     "text": [
      "enter your nameSailaja\n"
     ]
    },
    {
     "data": {
      "text/plain": [
       "'Sailaja'"
      ]
     },
     "execution_count": 23,
     "metadata": {},
     "output_type": "execute_result"
    }
   ],
   "source": [
    "input(\"enter your name\")"
   ]
  },
  {
   "cell_type": "code",
   "execution_count": 24,
   "id": "d42f172a",
   "metadata": {},
   "outputs": [
    {
     "name": "stdout",
     "output_type": "stream",
     "text": [
      "enter your namesailaja\n"
     ]
    }
   ],
   "source": [
    "name=input(\"enter your name\")"
   ]
  },
  {
   "cell_type": "code",
   "execution_count": 25,
   "id": "81028c0d",
   "metadata": {},
   "outputs": [
    {
     "name": "stdout",
     "output_type": "stream",
     "text": [
      "SAILAJA\n"
     ]
    }
   ],
   "source": [
    "print(name.upper())"
   ]
  },
  {
   "cell_type": "code",
   "execution_count": 26,
   "id": "0914886e",
   "metadata": {},
   "outputs": [
    {
     "name": "stdout",
     "output_type": "stream",
     "text": [
      "Welcome SAILAJA\n"
     ]
    }
   ],
   "source": [
    "print(\"Welcome\", name.upper())"
   ]
  },
  {
   "cell_type": "code",
   "execution_count": 27,
   "id": "c8bd9370",
   "metadata": {},
   "outputs": [
    {
     "name": "stdout",
     "output_type": "stream",
     "text": [
      "enter your age49\n",
      "You are 49 years old\n"
     ]
    }
   ],
   "source": [
    "age=input(\"enter your age\")\n",
    "print(\"You are\",age, \"years old\")"
   ]
  },
  {
   "cell_type": "code",
   "execution_count": 28,
   "id": "87f2b84a",
   "metadata": {},
   "outputs": [
    {
     "ename": "TypeError",
     "evalue": "can only concatenate str (not \"int\") to str",
     "output_type": "error",
     "traceback": [
      "\u001b[1;31m---------------------------------------------------------------------------\u001b[0m",
      "\u001b[1;31mTypeError\u001b[0m                                 Traceback (most recent call last)",
      "Cell \u001b[1;32mIn[28], line 2\u001b[0m\n\u001b[0;32m      1\u001b[0m \u001b[38;5;66;03m# what will be my age after 5 years\u001b[39;00m\n\u001b[1;32m----> 2\u001b[0m \u001b[38;5;28mprint\u001b[39m(\u001b[38;5;124m\"\u001b[39m\u001b[38;5;124mAfter 5 years my age is\u001b[39m\u001b[38;5;124m\"\u001b[39m, age\u001b[38;5;241m+\u001b[39m\u001b[38;5;241m5\u001b[39m, \u001b[38;5;124m\"\u001b[39m\u001b[38;5;124myears\u001b[39m\u001b[38;5;124m\"\u001b[39m)\n",
      "\u001b[1;31mTypeError\u001b[0m: can only concatenate str (not \"int\") to str"
     ]
    }
   ],
   "source": [
    "# what will be my age after 5 years\n",
    "print(\"After 5 years my age is\", age+5, \"years\")"
   ]
  },
  {
   "cell_type": "code",
   "execution_count": 29,
   "id": "35900764",
   "metadata": {},
   "outputs": [
    {
     "data": {
      "text/plain": [
       "str"
      ]
     },
     "execution_count": 29,
     "metadata": {},
     "output_type": "execute_result"
    }
   ],
   "source": [
    "type(age)"
   ]
  },
  {
   "cell_type": "markdown",
   "id": "9a1cfa6d",
   "metadata": {},
   "source": [
    "## Explicit and implicit conversion"
   ]
  },
  {
   "cell_type": "code",
   "execution_count": null,
   "id": "34d32d71",
   "metadata": {},
   "outputs": [],
   "source": [
    "# convert string to integer"
   ]
  },
  {
   "cell_type": "code",
   "execution_count": 30,
   "id": "c105b493",
   "metadata": {},
   "outputs": [
    {
     "name": "stdout",
     "output_type": "stream",
     "text": [
      "enter your age49\n",
      "You are 49 years old\n"
     ]
    }
   ],
   "source": [
    "age=int(input(\"enter your age\"))\n",
    "print(\"You are\",age, \"years old\")"
   ]
  },
  {
   "cell_type": "code",
   "execution_count": 31,
   "id": "38b23eb8",
   "metadata": {},
   "outputs": [
    {
     "data": {
      "text/plain": [
       "int"
      ]
     },
     "execution_count": 31,
     "metadata": {},
     "output_type": "execute_result"
    }
   ],
   "source": [
    "type(age)"
   ]
  },
  {
   "cell_type": "code",
   "execution_count": 32,
   "id": "742b2b0d",
   "metadata": {},
   "outputs": [
    {
     "name": "stdout",
     "output_type": "stream",
     "text": [
      "After 5 years my age is 54 years\n"
     ]
    }
   ],
   "source": [
    "# what will be my age after 5 years\n",
    "print(\"After 5 years my age is\", age+5, \"years\")"
   ]
  },
  {
   "cell_type": "code",
   "execution_count": 33,
   "id": "aeb72685",
   "metadata": {},
   "outputs": [],
   "source": [
    "a=0"
   ]
  },
  {
   "cell_type": "code",
   "execution_count": 34,
   "id": "37e51223",
   "metadata": {},
   "outputs": [
    {
     "data": {
      "text/plain": [
       "int"
      ]
     },
     "execution_count": 34,
     "metadata": {},
     "output_type": "execute_result"
    }
   ],
   "source": [
    "type(a)"
   ]
  },
  {
   "cell_type": "code",
   "execution_count": 35,
   "id": "087ec74d",
   "metadata": {},
   "outputs": [
    {
     "data": {
      "text/plain": [
       "False"
      ]
     },
     "execution_count": 35,
     "metadata": {},
     "output_type": "execute_result"
    }
   ],
   "source": [
    "bool(a)"
   ]
  },
  {
   "cell_type": "code",
   "execution_count": 36,
   "id": "b9845a3a",
   "metadata": {},
   "outputs": [
    {
     "data": {
      "text/plain": [
       "True"
      ]
     },
     "execution_count": 36,
     "metadata": {},
     "output_type": "execute_result"
    }
   ],
   "source": [
    "bool(age)"
   ]
  },
  {
   "cell_type": "code",
   "execution_count": 37,
   "id": "5af2bd35",
   "metadata": {},
   "outputs": [
    {
     "data": {
      "text/plain": [
       "bool"
      ]
     },
     "execution_count": 37,
     "metadata": {},
     "output_type": "execute_result"
    }
   ],
   "source": [
    "a=True\n",
    "type(a)"
   ]
  },
  {
   "cell_type": "code",
   "execution_count": 38,
   "id": "d9fb6b6e",
   "metadata": {},
   "outputs": [
    {
     "data": {
      "text/plain": [
       "bool"
      ]
     },
     "execution_count": 38,
     "metadata": {},
     "output_type": "execute_result"
    }
   ],
   "source": [
    "a=False\n",
    "type(a)"
   ]
  },
  {
   "cell_type": "code",
   "execution_count": 39,
   "id": "00e203fd",
   "metadata": {},
   "outputs": [
    {
     "data": {
      "text/plain": [
       "True"
      ]
     },
     "execution_count": 39,
     "metadata": {},
     "output_type": "execute_result"
    }
   ],
   "source": [
    "bool(-1)"
   ]
  },
  {
   "cell_type": "code",
   "execution_count": 40,
   "id": "aadabc22",
   "metadata": {},
   "outputs": [
    {
     "data": {
      "text/plain": [
       "False"
      ]
     },
     "execution_count": 40,
     "metadata": {},
     "output_type": "execute_result"
    }
   ],
   "source": [
    "bool(0)"
   ]
  },
  {
   "cell_type": "code",
   "execution_count": 42,
   "id": "fd7695eb",
   "metadata": {},
   "outputs": [
    {
     "data": {
      "text/plain": [
       "True"
      ]
     },
     "execution_count": 42,
     "metadata": {},
     "output_type": "execute_result"
    }
   ],
   "source": [
    "bool(-0.1)"
   ]
  },
  {
   "cell_type": "code",
   "execution_count": 43,
   "id": "6600f699",
   "metadata": {},
   "outputs": [
    {
     "data": {
      "text/plain": [
       "False"
      ]
     },
     "execution_count": 43,
     "metadata": {},
     "output_type": "execute_result"
    }
   ],
   "source": [
    "bool(0.0)"
   ]
  },
  {
   "cell_type": "code",
   "execution_count": null,
   "id": "2e7ce61a",
   "metadata": {},
   "outputs": [],
   "source": []
  },
  {
   "cell_type": "markdown",
   "id": "07edb260",
   "metadata": {},
   "source": [
    "## Operators\n",
    "* Arithmetic\n",
    "* Assignment\n",
    "* Logical\n",
    "* Comparison\n",
    "* Identity\n",
    "* Bitwise\n",
    "* Membership"
   ]
  },
  {
   "cell_type": "markdown",
   "id": "93b099ba",
   "metadata": {},
   "source": [
    "### Arithmetic: + - * / // % **"
   ]
  },
  {
   "cell_type": "code",
   "execution_count": 46,
   "id": "b1bcc051",
   "metadata": {},
   "outputs": [],
   "source": [
    "x = 10\n",
    "y = 10"
   ]
  },
  {
   "cell_type": "code",
   "execution_count": 51,
   "id": "3413d856",
   "metadata": {},
   "outputs": [
    {
     "name": "stdout",
     "output_type": "stream",
     "text": [
      "x+y 20\n",
      "x-y 0\n",
      "x*y 100\n",
      "x/y 1.0\n",
      "x//y 1\n",
      "x**y 10000000000\n",
      "x%y 0\n"
     ]
    }
   ],
   "source": [
    "print('x+y', x+y)\n",
    "print('x-y',x-y)\n",
    "print('x*y',x*y)\n",
    "print('x/y',x/y)\n",
    "print('x//y',x//y)\n",
    "print('x**y',x**y)\n",
    "print('x%y',x%y)"
   ]
  },
  {
   "cell_type": "code",
   "execution_count": 53,
   "id": "10571188",
   "metadata": {},
   "outputs": [
    {
     "name": "stdout",
     "output_type": "stream",
     "text": [
      "x/y 7.5\n",
      "x//y 7\n",
      "x%y 1\n"
     ]
    }
   ],
   "source": [
    "x = 15\n",
    "y = 2\n",
    "print('x/y',x/y)  # Division\n",
    "print('x//y',x//y)# Floor Division\n",
    "print('x%y',x%y)# Modulus "
   ]
  },
  {
   "cell_type": "code",
   "execution_count": 55,
   "id": "ae5e669f",
   "metadata": {},
   "outputs": [
    {
     "name": "stdout",
     "output_type": "stream",
     "text": [
      "x/y 5.666666666666667\n",
      "x//y 5\n",
      "x%y 2\n"
     ]
    }
   ],
   "source": [
    "x = 17\n",
    "y = 3\n",
    "print('x/y',x/y)  # Division floating -point\n",
    "print('x//y',x//y)# Floor Division (largest integer less than or euqual to 5.666666666)\n",
    "print('x%y',x%y)# Modulus "
   ]
  },
  {
   "cell_type": "code",
   "execution_count": null,
   "id": "509c1aa2",
   "metadata": {},
   "outputs": [],
   "source": [
    "\n"
   ]
  },
  {
   "cell_type": "markdown",
   "id": "37dc3bbf",
   "metadata": {},
   "source": [
    "## Assignment = += -= *= /="
   ]
  },
  {
   "cell_type": "code",
   "execution_count": 59,
   "id": "a460a949",
   "metadata": {},
   "outputs": [],
   "source": [
    "# x = 10\n",
    "age = 49"
   ]
  },
  {
   "cell_type": "code",
   "execution_count": 56,
   "id": "307fc75f",
   "metadata": {},
   "outputs": [],
   "source": [
    "new_age = age + 1"
   ]
  },
  {
   "cell_type": "code",
   "execution_count": 57,
   "id": "de481a68",
   "metadata": {},
   "outputs": [
    {
     "name": "stdout",
     "output_type": "stream",
     "text": [
      "49\n",
      "50\n"
     ]
    }
   ],
   "source": [
    "print(age)\n",
    "print(new_age)"
   ]
  },
  {
   "cell_type": "code",
   "execution_count": 58,
   "id": "6ea5ffa5",
   "metadata": {},
   "outputs": [
    {
     "name": "stdout",
     "output_type": "stream",
     "text": [
      "50\n"
     ]
    }
   ],
   "source": [
    "age = age + 1\n",
    "print(age)"
   ]
  },
  {
   "cell_type": "code",
   "execution_count": 60,
   "id": "28c83718",
   "metadata": {},
   "outputs": [],
   "source": [
    "age +=1"
   ]
  },
  {
   "cell_type": "code",
   "execution_count": 61,
   "id": "765d3432",
   "metadata": {},
   "outputs": [
    {
     "data": {
      "text/plain": [
       "50"
      ]
     },
     "execution_count": 61,
     "metadata": {},
     "output_type": "execute_result"
    }
   ],
   "source": [
    "age"
   ]
  },
  {
   "cell_type": "code",
   "execution_count": 62,
   "id": "43e7d4ec",
   "metadata": {},
   "outputs": [
    {
     "data": {
      "text/plain": [
       "49"
      ]
     },
     "execution_count": 62,
     "metadata": {},
     "output_type": "execute_result"
    }
   ],
   "source": [
    "age -=1\n",
    "age"
   ]
  },
  {
   "cell_type": "code",
   "execution_count": 63,
   "id": "ae88cd7d",
   "metadata": {},
   "outputs": [
    {
     "data": {
      "text/plain": [
       "5.0"
      ]
     },
     "execution_count": 63,
     "metadata": {},
     "output_type": "execute_result"
    }
   ],
   "source": [
    "x = 10\n",
    "x /=2\n",
    "x"
   ]
  },
  {
   "cell_type": "code",
   "execution_count": null,
   "id": "ba8e0559",
   "metadata": {},
   "outputs": [],
   "source": []
  },
  {
   "cell_type": "code",
   "execution_count": null,
   "id": "db6562c8",
   "metadata": {},
   "outputs": [],
   "source": [
    "## logical AND OR NOT\n",
    "# state: True False"
   ]
  },
  {
   "cell_type": "code",
   "execution_count": 64,
   "id": "5f9ad770",
   "metadata": {},
   "outputs": [
    {
     "data": {
      "text/plain": [
       "3"
      ]
     },
     "execution_count": 64,
     "metadata": {},
     "output_type": "execute_result"
    }
   ],
   "source": [
    "2 and 3"
   ]
  },
  {
   "cell_type": "code",
   "execution_count": 65,
   "id": "8134fbc6",
   "metadata": {},
   "outputs": [
    {
     "name": "stdout",
     "output_type": "stream",
     "text": [
      "3\n"
     ]
    }
   ],
   "source": [
    "print( 2 and 3)"
   ]
  },
  {
   "cell_type": "code",
   "execution_count": 66,
   "id": "d9b33c00",
   "metadata": {},
   "outputs": [
    {
     "data": {
      "text/plain": [
       "0"
      ]
     },
     "execution_count": 66,
     "metadata": {},
     "output_type": "execute_result"
    }
   ],
   "source": [
    "0 and 3"
   ]
  },
  {
   "cell_type": "code",
   "execution_count": 67,
   "id": "55b69186",
   "metadata": {},
   "outputs": [
    {
     "data": {
      "text/plain": [
       "5"
      ]
     },
     "execution_count": 67,
     "metadata": {},
     "output_type": "execute_result"
    }
   ],
   "source": [
    "12345 and 5"
   ]
  },
  {
   "cell_type": "code",
   "execution_count": 68,
   "id": "877702fd",
   "metadata": {},
   "outputs": [
    {
     "data": {
      "text/plain": [
       "5"
      ]
     },
     "execution_count": 68,
     "metadata": {},
     "output_type": "execute_result"
    }
   ],
   "source": [
    "1 and 2 and 3 and 4 and 5"
   ]
  },
  {
   "cell_type": "code",
   "execution_count": 69,
   "id": "10a426e6",
   "metadata": {},
   "outputs": [
    {
     "data": {
      "text/plain": [
       "0"
      ]
     },
     "execution_count": 69,
     "metadata": {},
     "output_type": "execute_result"
    }
   ],
   "source": [
    "0 and 2 and 3 and 4 and 5"
   ]
  },
  {
   "cell_type": "code",
   "execution_count": 70,
   "id": "16b30f51",
   "metadata": {},
   "outputs": [
    {
     "data": {
      "text/plain": [
       "2"
      ]
     },
     "execution_count": 70,
     "metadata": {},
     "output_type": "execute_result"
    }
   ],
   "source": [
    "2 or 3"
   ]
  },
  {
   "cell_type": "code",
   "execution_count": null,
   "id": "575e56d1",
   "metadata": {},
   "outputs": [],
   "source": [
    "# or Truth Table\n",
    "T T T\n",
    "T F T\n",
    "F T T\n",
    "F F F"
   ]
  },
  {
   "cell_type": "code",
   "execution_count": null,
   "id": "b9169f0e",
   "metadata": {},
   "outputs": [],
   "source": [
    "# and Truth Table\n",
    "T T T\n",
    "T F F\n",
    "F T F\n",
    "F F F"
   ]
  },
  {
   "cell_type": "code",
   "execution_count": 71,
   "id": "5c757138",
   "metadata": {},
   "outputs": [
    {
     "data": {
      "text/plain": [
       "11"
      ]
     },
     "execution_count": 71,
     "metadata": {},
     "output_type": "execute_result"
    }
   ],
   "source": [
    "## Logical Expressions\n",
    "2+3 and 5+6"
   ]
  },
  {
   "cell_type": "code",
   "execution_count": null,
   "id": "240a643e",
   "metadata": {},
   "outputs": [],
   "source": []
  },
  {
   "cell_type": "code",
   "execution_count": 72,
   "id": "16729a64",
   "metadata": {},
   "outputs": [],
   "source": [
    "# Comparison < > <= >= != ==\n",
    "# result is boolean (true false)"
   ]
  },
  {
   "cell_type": "code",
   "execution_count": 73,
   "id": "c9e885d0",
   "metadata": {},
   "outputs": [
    {
     "data": {
      "text/plain": [
       "True"
      ]
     },
     "execution_count": 73,
     "metadata": {},
     "output_type": "execute_result"
    }
   ],
   "source": [
    "5 == 5"
   ]
  },
  {
   "cell_type": "code",
   "execution_count": 74,
   "id": "6c357490",
   "metadata": {},
   "outputs": [
    {
     "data": {
      "text/plain": [
       "False"
      ]
     },
     "execution_count": 74,
     "metadata": {},
     "output_type": "execute_result"
    }
   ],
   "source": [
    "5 != 5"
   ]
  },
  {
   "cell_type": "code",
   "execution_count": 75,
   "id": "4cab650c",
   "metadata": {},
   "outputs": [
    {
     "data": {
      "text/plain": [
       "False"
      ]
     },
     "execution_count": 75,
     "metadata": {},
     "output_type": "execute_result"
    }
   ],
   "source": [
    "5 > 5"
   ]
  },
  {
   "cell_type": "code",
   "execution_count": 76,
   "id": "5f0ec61e",
   "metadata": {},
   "outputs": [
    {
     "data": {
      "text/plain": [
       "True"
      ]
     },
     "execution_count": 76,
     "metadata": {},
     "output_type": "execute_result"
    }
   ],
   "source": [
    "5 >= 5  # 5 > 5 or 5 == 5"
   ]
  },
  {
   "cell_type": "code",
   "execution_count": null,
   "id": "c25daf7b",
   "metadata": {},
   "outputs": [],
   "source": []
  },
  {
   "cell_type": "code",
   "execution_count": null,
   "id": "23dbd6ee",
   "metadata": {},
   "outputs": [],
   "source": [
    "## Bitwise  &(and) |(or) ^(xor) ~(not) leftshift (<<)  rightshift(>>) "
   ]
  },
  {
   "cell_type": "code",
   "execution_count": 78,
   "id": "6b9990e9",
   "metadata": {},
   "outputs": [
    {
     "data": {
      "text/plain": [
       "'0b101'"
      ]
     },
     "execution_count": 78,
     "metadata": {},
     "output_type": "execute_result"
    }
   ],
   "source": [
    "# 5 & 3\n",
    "# binary form of 5  \n",
    "bin(5)"
   ]
  },
  {
   "cell_type": "code",
   "execution_count": 80,
   "id": "7fd6e59f",
   "metadata": {},
   "outputs": [
    {
     "data": {
      "text/plain": [
       "'101'"
      ]
     },
     "execution_count": 80,
     "metadata": {},
     "output_type": "execute_result"
    }
   ],
   "source": [
    "# eliminate the prefix 0b\n",
    "n1=bin(5)[2:]\n",
    "n1"
   ]
  },
  {
   "cell_type": "code",
   "execution_count": 81,
   "id": "72558b81",
   "metadata": {},
   "outputs": [
    {
     "data": {
      "text/plain": [
       "'11'"
      ]
     },
     "execution_count": 81,
     "metadata": {},
     "output_type": "execute_result"
    }
   ],
   "source": [
    "n2=bin(3)[2:]\n",
    "n2"
   ]
  },
  {
   "cell_type": "code",
   "execution_count": 82,
   "id": "f44e8f2b",
   "metadata": {},
   "outputs": [
    {
     "data": {
      "text/plain": [
       "'0b11'"
      ]
     },
     "execution_count": 82,
     "metadata": {},
     "output_type": "execute_result"
    }
   ],
   "source": [
    "bin(3)"
   ]
  },
  {
   "cell_type": "code",
   "execution_count": null,
   "id": "124ad4e9",
   "metadata": {},
   "outputs": [],
   "source": [
    "# 0101 & 0011  4-bit representation\n",
    "# rightmost (least significant bit)\n",
    "# leftmost  (most significant bit)\n",
    "# if both bits are 1 then result is 1 otherwise 0 \n",
    "# 0 0 0\n",
    "# 1 0 0\n",
    "# 0 1 0 \n",
    "# 1 1 1"
   ]
  },
  {
   "cell_type": "code",
   "execution_count": 83,
   "id": "92198ef6",
   "metadata": {},
   "outputs": [
    {
     "data": {
      "text/plain": [
       "'0b100011'"
      ]
     },
     "execution_count": 83,
     "metadata": {},
     "output_type": "execute_result"
    }
   ],
   "source": [
    "35 & 53\n",
    "bin(35)"
   ]
  },
  {
   "cell_type": "code",
   "execution_count": 84,
   "id": "69ea1295",
   "metadata": {},
   "outputs": [
    {
     "data": {
      "text/plain": [
       "'0b110101'"
      ]
     },
     "execution_count": 84,
     "metadata": {},
     "output_type": "execute_result"
    }
   ],
   "source": [
    "bin(53)"
   ]
  },
  {
   "cell_type": "code",
   "execution_count": null,
   "id": "41605e99",
   "metadata": {},
   "outputs": [],
   "source": [
    "# 100011 & 110101 6-bit representation\n",
    "100011 \n",
    "110101 \n",
    "------\n",
    "100001\n",
    "------\n",
    "\n",
    "decimal is 33"
   ]
  },
  {
   "cell_type": "code",
   "execution_count": 86,
   "id": "2af7501e",
   "metadata": {},
   "outputs": [],
   "source": [
    "# OR |\n",
    "# if both bits are 0 then result is 0 otherwise 1\n",
    "# 0 0 0\n",
    "# 1 0 1\n",
    "# 0 1 1 \n",
    "# 1 1 1"
   ]
  },
  {
   "cell_type": "code",
   "execution_count": null,
   "id": "43b251e4",
   "metadata": {},
   "outputs": [],
   "source": [
    "# 35 | 53\n",
    "# 100011 | 110101 6-bit representation\n",
    "100011 \n",
    "110101 \n",
    "------\n",
    "110111\n",
    "------\n",
    "\n",
    "decimal is 55"
   ]
  },
  {
   "cell_type": "code",
   "execution_count": 87,
   "id": "cd68f355",
   "metadata": {},
   "outputs": [
    {
     "ename": "TypeError",
     "evalue": "int() can't convert non-string with explicit base",
     "output_type": "error",
     "traceback": [
      "\u001b[1;31m---------------------------------------------------------------------------\u001b[0m",
      "\u001b[1;31mTypeError\u001b[0m                                 Traceback (most recent call last)",
      "Cell \u001b[1;32mIn[87], line 1\u001b[0m\n\u001b[1;32m----> 1\u001b[0m ans\u001b[38;5;241m=\u001b[39m \u001b[38;5;28mint\u001b[39m(\u001b[38;5;241m100011\u001b[39m,\u001b[38;5;241m2\u001b[39m)\n\u001b[0;32m      2\u001b[0m ans\n",
      "\u001b[1;31mTypeError\u001b[0m: int() can't convert non-string with explicit base"
     ]
    }
   ],
   "source": [
    "ans= int(100011,2)\n",
    "ans"
   ]
  },
  {
   "cell_type": "code",
   "execution_count": 90,
   "id": "36a94956",
   "metadata": {},
   "outputs": [
    {
     "data": {
      "text/plain": [
       "35"
      ]
     },
     "execution_count": 90,
     "metadata": {},
     "output_type": "execute_result"
    }
   ],
   "source": [
    "ans= int('100011',2)  #Binary to decimal \n",
    "ans"
   ]
  },
  {
   "cell_type": "code",
   "execution_count": 89,
   "id": "e37bb84a",
   "metadata": {},
   "outputs": [
    {
     "data": {
      "text/plain": [
       "55"
      ]
     },
     "execution_count": 89,
     "metadata": {},
     "output_type": "execute_result"
    }
   ],
   "source": [
    "# 110111\n",
    "ans= int('110111',2)\n",
    "ans"
   ]
  },
  {
   "cell_type": "code",
   "execution_count": null,
   "id": "4a4eaa47",
   "metadata": {},
   "outputs": [],
   "source": []
  }
 ],
 "metadata": {
  "kernelspec": {
   "display_name": "Python 3 (ipykernel)",
   "language": "python",
   "name": "python3"
  },
  "language_info": {
   "codemirror_mode": {
    "name": "ipython",
    "version": 3
   },
   "file_extension": ".py",
   "mimetype": "text/x-python",
   "name": "python",
   "nbconvert_exporter": "python",
   "pygments_lexer": "ipython3",
   "version": "3.11.5"
  }
 },
 "nbformat": 4,
 "nbformat_minor": 5
}
