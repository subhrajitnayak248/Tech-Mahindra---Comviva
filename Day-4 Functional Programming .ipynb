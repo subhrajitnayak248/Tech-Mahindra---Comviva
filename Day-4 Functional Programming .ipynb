{
 "cells": [
  {
   "cell_type": "code",
   "execution_count": 1,
   "id": "fc00abf7",
   "metadata": {},
   "outputs": [
    {
     "ename": "SyntaxError",
     "evalue": "invalid syntax (3130155489.py, line 1)",
     "output_type": "error",
     "traceback": [
      "\u001b[1;36m  Cell \u001b[1;32mIn[1], line 1\u001b[1;36m\u001b[0m\n\u001b[1;33m    Last session:\u001b[0m\n\u001b[1;37m         ^\u001b[0m\n\u001b[1;31mSyntaxError\u001b[0m\u001b[1;31m:\u001b[0m invalid syntax\n"
     ]
    }
   ],
   "source": [
    "Last session:\n",
    "set-operations frozenset\n",
    "dictionary\n",
    "tuples\n",
    "comprehensions\n",
    "user defined function\n",
    "lambda \n",
    "\n"
   ]
  },
  {
   "cell_type": "code",
   "execution_count": null,
   "id": "cf8aa045",
   "metadata": {},
   "outputs": [],
   "source": [
    "Higher order functions: function can take the argument as a function or function can reurn a function as a result\n",
    "pure functions: produce the same output for the same input\n",
    "functional programming\n",
    "Imperative programming"
   ]
  },
  {
   "cell_type": "code",
   "execution_count": null,
   "id": "a2edff09",
   "metadata": {},
   "outputs": [
    {
     "name": "stdout",
     "output_type": "stream",
     "text": [
      "16\n"
     ]
    }
   ],
   "source": [
    "# Higher order functions\n",
    "def sqr_2(func, data):        # sqr_1,2\n",
    "    return func(func(data))   # sqr_1(sqr_1(2))\n",
    "\n",
    "def sqr_1(n):\n",
    "    return n*n\n",
    "\n",
    "print(sqr_2(sqr_1,2))"
   ]
  },
  {
   "cell_type": "code",
   "execution_count": null,
   "id": "8d7241b8",
   "metadata": {},
   "outputs": [
    {
     "name": "stdout",
     "output_type": "stream",
     "text": [
      "5\n"
     ]
    }
   ],
   "source": [
    "# pure functions: \n",
    "def add(a,b):\n",
    "    return a+b\n",
    "\n",
    "print(add(2,3))"
   ]
  },
  {
   "cell_type": "code",
   "execution_count": null,
   "id": "0f08cd17",
   "metadata": {},
   "outputs": [
    {
     "ename": "NameError",
     "evalue": "name 'datatime' is not defined",
     "output_type": "error",
     "traceback": [
      "\u001b[1;31m---------------------------------------------------------------------------\u001b[0m",
      "\u001b[1;31mNameError\u001b[0m                                 Traceback (most recent call last)",
      "Cell \u001b[1;32mIn[3], line 3\u001b[0m\n\u001b[0;32m      1\u001b[0m \u001b[38;5;28;01mfrom\u001b[39;00m \u001b[38;5;21;01mdatetime\u001b[39;00m \u001b[38;5;28;01mimport\u001b[39;00m datetime\n\u001b[1;32m----> 3\u001b[0m \u001b[38;5;28mprint\u001b[39m(datatime\u001b[38;5;241m.\u001b[39mnow())\n",
      "\u001b[1;31mNameError\u001b[0m: name 'datatime' is not defined"
     ]
    }
   ],
   "source": [
    "from datetime import datetime\n",
    "\n",
    "print(datatime.now())"
   ]
  },
  {
   "cell_type": "code",
   "execution_count": null,
   "id": "4fbe0336",
   "metadata": {},
   "outputs": [
    {
     "name": "stdout",
     "output_type": "stream",
     "text": [
      "2024-08-05 17:54:22.037759\n"
     ]
    }
   ],
   "source": [
    "from datetime import datetime\n",
    "\n",
    "print(datetime.now())"
   ]
  },
  {
   "cell_type": "code",
   "execution_count": null,
   "id": "96c4c4f9",
   "metadata": {},
   "outputs": [
    {
     "name": "stdout",
     "output_type": "stream",
     "text": [
      "2024-08-05 17:54:52.157542\n"
     ]
    }
   ],
   "source": [
    "from datetime import datetime\n",
    "\n",
    "print(datetime.now())"
   ]
  },
  {
   "cell_type": "code",
   "execution_count": null,
   "id": "82294f7f",
   "metadata": {},
   "outputs": [],
   "source": []
  },
  {
   "cell_type": "code",
   "execution_count": null,
   "id": "4902a274",
   "metadata": {},
   "outputs": [],
   "source": [
    "Lambda is used in functional programming\n",
    "enables higher order functions (map filter)\n",
    "function compisition"
   ]
  },
  {
   "cell_type": "code",
   "execution_count": null,
   "id": "3502a74d",
   "metadata": {},
   "outputs": [],
   "source": [
    "Lambda map() reduce() filter()"
   ]
  },
  {
   "cell_type": "markdown",
   "id": "6de102ee",
   "metadata": {},
   "source": [
    "# map()"
   ]
  },
  {
   "cell_type": "code",
   "execution_count": null,
   "id": "468a82f0",
   "metadata": {},
   "outputs": [
    {
     "data": {
      "text/plain": [
       "4"
      ]
     },
     "execution_count": 6,
     "metadata": {},
     "output_type": "execute_result"
    }
   ],
   "source": [
    "# map()\n",
    "L1=['sailaja','kumar','thakur','singh']\n",
    "# based on the length of the string sort the list items\n",
    "(lambda i:len(i))(L1)"
   ]
  },
  {
   "cell_type": "code",
   "execution_count": null,
   "id": "979ceb74",
   "metadata": {},
   "outputs": [],
   "source": [
    "# map(function, iter_items)\n",
    "# list(map(function, iter_items))"
   ]
  },
  {
   "cell_type": "code",
   "execution_count": null,
   "id": "bc3aa19a",
   "metadata": {},
   "outputs": [
    {
     "name": "stdout",
     "output_type": "stream",
     "text": [
      "['SAILAJA', 'KUMAR', 'THAKUR', 'SINGH']\n"
     ]
    }
   ],
   "source": [
    "print(list(map(str.upper,L1)))"
   ]
  },
  {
   "cell_type": "code",
   "execution_count": null,
   "id": "b303b60d",
   "metadata": {},
   "outputs": [
    {
     "data": {
      "text/plain": [
       "<map at 0x223320400a0>"
      ]
     },
     "execution_count": 8,
     "metadata": {},
     "output_type": "execute_result"
    }
   ],
   "source": [
    "map(str.upper,L1)"
   ]
  },
  {
   "cell_type": "code",
   "execution_count": null,
   "id": "71cee12c",
   "metadata": {},
   "outputs": [
    {
     "name": "stdout",
     "output_type": "stream",
     "text": [
      "[1, 4, 9, 16, 25, 36]\n"
     ]
    }
   ],
   "source": [
    "L2=[1,2,3,4,5,6]\n",
    "def sqr_1(n):\n",
    "    return n*n\n",
    "\n",
    "res=[]\n",
    "for i in L2:\n",
    "    res.append(sqr_1(i))\n",
    "print(res)\n",
    "    "
   ]
  },
  {
   "cell_type": "code",
   "execution_count": null,
   "id": "ddfec6e1",
   "metadata": {},
   "outputs": [
    {
     "name": "stdout",
     "output_type": "stream",
     "text": [
      "[1, 4, 9, 16, 25, 36]\n"
     ]
    }
   ],
   "source": [
    "print(list(map(lambda i:i*i,L2)))"
   ]
  },
  {
   "cell_type": "code",
   "execution_count": null,
   "id": "39e7a7de",
   "metadata": {},
   "outputs": [],
   "source": []
  },
  {
   "cell_type": "code",
   "execution_count": null,
   "id": "cc4b3b4b",
   "metadata": {},
   "outputs": [
    {
     "data": {
      "text/plain": [
       "4"
      ]
     },
     "execution_count": 6,
     "metadata": {},
     "output_type": "execute_result"
    }
   ],
   "source": [
    "# map()\n",
    "L1=['sailaja','kumar','thakur','singh']\n",
    "# based on the length of the string sort the list items\n",
    "(lambda i:len(i))(L1)"
   ]
  },
  {
   "cell_type": "code",
   "execution_count": null,
   "id": "dcbffaa9",
   "metadata": {},
   "outputs": [
    {
     "name": "stdout",
     "output_type": "stream",
     "text": [
      "[7, 5, 6, 5]\n"
     ]
    }
   ],
   "source": [
    "print(list(map(lambda i :len(i),L1)))"
   ]
  },
  {
   "cell_type": "code",
   "execution_count": null,
   "id": "8caf12f0",
   "metadata": {},
   "outputs": [
    {
     "name": "stdout",
     "output_type": "stream",
     "text": [
      "['kumar', 'singh', 'thakur', 'sailaja']\n"
     ]
    }
   ],
   "source": [
    "print(sorted(L1,key=len))"
   ]
  },
  {
   "cell_type": "code",
   "execution_count": null,
   "id": "3a3f6669",
   "metadata": {},
   "outputs": [],
   "source": []
  },
  {
   "cell_type": "markdown",
   "id": "ef51194c",
   "metadata": {},
   "source": [
    "# filter()"
   ]
  },
  {
   "cell_type": "code",
   "execution_count": null,
   "id": "34917a6f",
   "metadata": {},
   "outputs": [],
   "source": [
    "# filter(function, iterable)\n",
    "# list(filter(function, iterable))\n"
   ]
  },
  {
   "cell_type": "code",
   "execution_count": null,
   "id": "70f040af",
   "metadata": {},
   "outputs": [],
   "source": [
    "L3=[1,2,3,4,5,6,7,8,9,10]\n",
    "# find the sum of square of even numbers"
   ]
  },
  {
   "cell_type": "code",
   "execution_count": null,
   "id": "c84c06ba",
   "metadata": {},
   "outputs": [
    {
     "name": "stdout",
     "output_type": "stream",
     "text": [
      "[2, 4, 6, 8, 10]\n"
     ]
    }
   ],
   "source": [
    "# filter the data\n",
    "print(list(filter(lambda i:i%2==0,L3)))"
   ]
  },
  {
   "cell_type": "code",
   "execution_count": null,
   "id": "0afa42af",
   "metadata": {},
   "outputs": [
    {
     "name": "stdout",
     "output_type": "stream",
     "text": [
      "[1, 4, 9, 16, 25, 36, 49, 64, 81, 100]\n"
     ]
    }
   ],
   "source": [
    "# find the square\n",
    "print(list(map(lambda i:i*i,L3)))"
   ]
  },
  {
   "cell_type": "code",
   "execution_count": null,
   "id": "2b195186",
   "metadata": {},
   "outputs": [
    {
     "name": "stdout",
     "output_type": "stream",
     "text": [
      "[4, 16, 36, 64, 100]\n"
     ]
    }
   ],
   "source": [
    "# find the square\n",
    "print(list(map(lambda i:i*i,filter(lambda i:i%2==0,L3))))"
   ]
  },
  {
   "cell_type": "code",
   "execution_count": null,
   "id": "1d731da8",
   "metadata": {},
   "outputs": [
    {
     "name": "stdout",
     "output_type": "stream",
     "text": [
      "220\n"
     ]
    }
   ],
   "source": [
    "# find the sum\n",
    "print(sum(list(map(lambda i:i*i,filter(lambda i:i%2==0,L3)))))"
   ]
  },
  {
   "cell_type": "code",
   "execution_count": null,
   "id": "59f29d4e",
   "metadata": {},
   "outputs": [],
   "source": []
  },
  {
   "cell_type": "markdown",
   "id": "6c765856",
   "metadata": {},
   "source": [
    "# reduce() "
   ]
  },
  {
   "cell_type": "code",
   "execution_count": null,
   "id": "310b0994",
   "metadata": {},
   "outputs": [],
   "source": [
    "# reduce # aggregations\n",
    "# reduce(function, iter_items)  return a single value"
   ]
  },
  {
   "cell_type": "code",
   "execution_count": 2,
   "id": "7a35adcf",
   "metadata": {},
   "outputs": [],
   "source": [
    "L3=[1,2,3,4,5,6,7,8,9,10]\n",
    "# find the sum of square of even numbers"
   ]
  },
  {
   "cell_type": "code",
   "execution_count": null,
   "id": "382b0cdc",
   "metadata": {},
   "outputs": [
    {
     "name": "stdout",
     "output_type": "stream",
     "text": [
      "[4, 16, 36, 64, 100]\n"
     ]
    }
   ],
   "source": [
    "# we will obtain the square of even numbers using map and filter\n",
    "print(list(map(lambda i:i*i,filter(lambda i:i%2==0,L3))))"
   ]
  },
  {
   "cell_type": "code",
   "execution_count": null,
   "id": "2fdb8266",
   "metadata": {},
   "outputs": [],
   "source": [
    "x + y  x=0 y=4\n",
    "0 + 4=4\n",
    "4 + 16=20\n",
    "20 + 36=56\n",
    "56 + 64=120\n",
    "120 + 100=220\n",
    "220"
   ]
  },
  {
   "cell_type": "code",
   "execution_count": null,
   "id": "34b19a69",
   "metadata": {},
   "outputs": [
    {
     "ename": "NameError",
     "evalue": "name 'reduce' is not defined",
     "output_type": "error",
     "traceback": [
      "\u001b[1;31m---------------------------------------------------------------------------\u001b[0m",
      "\u001b[1;31mNameError\u001b[0m                                 Traceback (most recent call last)",
      "Cell \u001b[1;32mIn[24], line 1\u001b[0m\n\u001b[1;32m----> 1\u001b[0m \u001b[38;5;28mprint\u001b[39m(reduce(\u001b[38;5;28;01mlambda\u001b[39;00m x,y:x\u001b[38;5;241m+\u001b[39my,\u001b[38;5;28mlist\u001b[39m(\u001b[38;5;28mmap\u001b[39m(\u001b[38;5;28;01mlambda\u001b[39;00m i:i\u001b[38;5;241m*\u001b[39mi,\u001b[38;5;28mfilter\u001b[39m(\u001b[38;5;28;01mlambda\u001b[39;00m i:i\u001b[38;5;241m%\u001b[39m\u001b[38;5;241m2\u001b[39m\u001b[38;5;241m==\u001b[39m\u001b[38;5;241m0\u001b[39m,L3)))))\n",
      "\u001b[1;31mNameError\u001b[0m: name 'reduce' is not defined"
     ]
    }
   ],
   "source": [
    "print(reduce(lambda x,y:x+y,list(map(lambda i:i*i,filter(lambda i:i%2==0,L3)))))"
   ]
  },
  {
   "cell_type": "code",
   "execution_count": 3,
   "id": "5f72e154",
   "metadata": {},
   "outputs": [
    {
     "name": "stdout",
     "output_type": "stream",
     "text": [
      "220\n"
     ]
    }
   ],
   "source": [
    "from functools import reduce\n",
    "print(reduce(lambda x,y:x+y,list(map(lambda i:i*i,filter(lambda i:i%2==0,L3)))))"
   ]
  },
  {
   "cell_type": "code",
   "execution_count": null,
   "id": "2ff1e05f",
   "metadata": {},
   "outputs": [],
   "source": [
    "# wraps()\n",
    "# cache()"
   ]
  },
  {
   "cell_type": "code",
   "execution_count": null,
   "id": "42376b0d",
   "metadata": {},
   "outputs": [],
   "source": [
    "L=[1,2,3,4,5] ((((1+2)+3)+4)+5)"
   ]
  }
 ],
 "metadata": {
  "kernelspec": {
   "display_name": "Python 3 (ipykernel)",
   "language": "python",
   "name": "python3"
  },
  "language_info": {
   "codemirror_mode": {
    "name": "ipython",
    "version": 3
   },
   "file_extension": ".py",
   "mimetype": "text/x-python",
   "name": "python",
   "nbconvert_exporter": "python",
   "pygments_lexer": "ipython3",
   "version": "3.10.6"
  }
 },
 "nbformat": 4,
 "nbformat_minor": 5
}
