{
 "cells": [
  {
   "cell_type": "markdown",
   "id": "0e0e8284",
   "metadata": {},
   "source": [
    "# Statistics"
   ]
  },
  {
   "cell_type": "code",
   "execution_count": null,
   "id": "36ec2ea7",
   "metadata": {},
   "outputs": [],
   "source": [
    "# Descritive Statistics\n",
    "# Probability Distribution\n",
    "# Inferential Statistics : Hypothesis Testing (t-test, f-test, z-test, chi-square, ANOVA....)\n",
    "# Estimation\n",
    "# sampling\n",
    "# Regression and correlation\n",
    "# Data Visualization"
   ]
  },
  {
   "cell_type": "code",
   "execution_count": null,
   "id": "4181bef7",
   "metadata": {},
   "outputs": [],
   "source": [
    "# Descritive Statistics : \n",
    "# Summary (describe)\n",
    "# pandas numpy scipy"
   ]
  },
  {
   "cell_type": "code",
   "execution_count": null,
   "id": "de3c8e55",
   "metadata": {},
   "outputs": [],
   "source": [
    "# Descritive Statistics\n"
   ]
  },
  {
   "cell_type": "code",
   "execution_count": 8,
   "id": "cf003af3",
   "metadata": {},
   "outputs": [],
   "source": [
    "# Import the required packages\n",
    "import pandas as pd\n",
    "import numpy as np\n",
    "\n",
    "import warnings\n",
    "warnings.filterwarnings(\"ignore\")"
   ]
  },
  {
   "cell_type": "code",
   "execution_count": 2,
   "id": "c81ae310",
   "metadata": {},
   "outputs": [],
   "source": [
    "# Load the dataset\n",
    "data=pd.read_csv(\"Store.csv\")"
   ]
  },
  {
   "cell_type": "code",
   "execution_count": 3,
   "id": "c13262b9",
   "metadata": {},
   "outputs": [
    {
     "data": {
      "text/html": [
       "<div>\n",
       "<style scoped>\n",
       "    .dataframe tbody tr th:only-of-type {\n",
       "        vertical-align: middle;\n",
       "    }\n",
       "\n",
       "    .dataframe tbody tr th {\n",
       "        vertical-align: top;\n",
       "    }\n",
       "\n",
       "    .dataframe thead th {\n",
       "        text-align: right;\n",
       "    }\n",
       "</style>\n",
       "<table border=\"1\" class=\"dataframe\">\n",
       "  <thead>\n",
       "    <tr style=\"text-align: right;\">\n",
       "      <th></th>\n",
       "      <th>Unnamed: 0</th>\n",
       "      <th>Row ID</th>\n",
       "      <th>Postal Code</th>\n",
       "      <th>Sales</th>\n",
       "      <th>Quantity</th>\n",
       "      <th>Discount</th>\n",
       "      <th>Profit</th>\n",
       "    </tr>\n",
       "  </thead>\n",
       "  <tbody>\n",
       "    <tr>\n",
       "      <th>count</th>\n",
       "      <td>9994.000000</td>\n",
       "      <td>9994.000000</td>\n",
       "      <td>9994.000000</td>\n",
       "      <td>9994.000000</td>\n",
       "      <td>9994.000000</td>\n",
       "      <td>9994.000000</td>\n",
       "      <td>9994.000000</td>\n",
       "    </tr>\n",
       "    <tr>\n",
       "      <th>mean</th>\n",
       "      <td>4996.500000</td>\n",
       "      <td>4997.500000</td>\n",
       "      <td>55190.379428</td>\n",
       "      <td>229.858001</td>\n",
       "      <td>3.789574</td>\n",
       "      <td>0.156203</td>\n",
       "      <td>28.656896</td>\n",
       "    </tr>\n",
       "    <tr>\n",
       "      <th>std</th>\n",
       "      <td>2885.163629</td>\n",
       "      <td>2885.163629</td>\n",
       "      <td>32063.693350</td>\n",
       "      <td>623.245101</td>\n",
       "      <td>2.225110</td>\n",
       "      <td>0.206452</td>\n",
       "      <td>234.260108</td>\n",
       "    </tr>\n",
       "    <tr>\n",
       "      <th>min</th>\n",
       "      <td>0.000000</td>\n",
       "      <td>1.000000</td>\n",
       "      <td>1040.000000</td>\n",
       "      <td>0.444000</td>\n",
       "      <td>1.000000</td>\n",
       "      <td>0.000000</td>\n",
       "      <td>-6599.978000</td>\n",
       "    </tr>\n",
       "    <tr>\n",
       "      <th>25%</th>\n",
       "      <td>2498.250000</td>\n",
       "      <td>2499.250000</td>\n",
       "      <td>23223.000000</td>\n",
       "      <td>17.280000</td>\n",
       "      <td>2.000000</td>\n",
       "      <td>0.000000</td>\n",
       "      <td>1.728750</td>\n",
       "    </tr>\n",
       "    <tr>\n",
       "      <th>50%</th>\n",
       "      <td>4996.500000</td>\n",
       "      <td>4997.500000</td>\n",
       "      <td>56430.500000</td>\n",
       "      <td>54.490000</td>\n",
       "      <td>3.000000</td>\n",
       "      <td>0.200000</td>\n",
       "      <td>8.666500</td>\n",
       "    </tr>\n",
       "    <tr>\n",
       "      <th>75%</th>\n",
       "      <td>7494.750000</td>\n",
       "      <td>7495.750000</td>\n",
       "      <td>90008.000000</td>\n",
       "      <td>209.940000</td>\n",
       "      <td>5.000000</td>\n",
       "      <td>0.200000</td>\n",
       "      <td>29.364000</td>\n",
       "    </tr>\n",
       "    <tr>\n",
       "      <th>max</th>\n",
       "      <td>9993.000000</td>\n",
       "      <td>9994.000000</td>\n",
       "      <td>99301.000000</td>\n",
       "      <td>22638.480000</td>\n",
       "      <td>14.000000</td>\n",
       "      <td>0.800000</td>\n",
       "      <td>8399.976000</td>\n",
       "    </tr>\n",
       "  </tbody>\n",
       "</table>\n",
       "</div>"
      ],
      "text/plain": [
       "        Unnamed: 0       Row ID   Postal Code         Sales     Quantity  \\\n",
       "count  9994.000000  9994.000000   9994.000000   9994.000000  9994.000000   \n",
       "mean   4996.500000  4997.500000  55190.379428    229.858001     3.789574   \n",
       "std    2885.163629  2885.163629  32063.693350    623.245101     2.225110   \n",
       "min       0.000000     1.000000   1040.000000      0.444000     1.000000   \n",
       "25%    2498.250000  2499.250000  23223.000000     17.280000     2.000000   \n",
       "50%    4996.500000  4997.500000  56430.500000     54.490000     3.000000   \n",
       "75%    7494.750000  7495.750000  90008.000000    209.940000     5.000000   \n",
       "max    9993.000000  9994.000000  99301.000000  22638.480000    14.000000   \n",
       "\n",
       "          Discount       Profit  \n",
       "count  9994.000000  9994.000000  \n",
       "mean      0.156203    28.656896  \n",
       "std       0.206452   234.260108  \n",
       "min       0.000000 -6599.978000  \n",
       "25%       0.000000     1.728750  \n",
       "50%       0.200000     8.666500  \n",
       "75%       0.200000    29.364000  \n",
       "max       0.800000  8399.976000  "
      ]
     },
     "execution_count": 3,
     "metadata": {},
     "output_type": "execute_result"
    }
   ],
   "source": [
    "# Summary\n",
    "data.describe()"
   ]
  },
  {
   "cell_type": "code",
   "execution_count": 4,
   "id": "1d46dd00",
   "metadata": {},
   "outputs": [
    {
     "data": {
      "text/plain": [
       "Unnamed: 0      4996.500000\n",
       "Row ID          4997.500000\n",
       "Postal Code    55190.379428\n",
       "Sales            229.858001\n",
       "Quantity           3.789574\n",
       "Discount           0.156203\n",
       "Profit            28.656896\n",
       "dtype: float64"
      ]
     },
     "execution_count": 4,
     "metadata": {},
     "output_type": "execute_result"
    }
   ],
   "source": [
    "#mean\n",
    "data.mean()"
   ]
  },
  {
   "cell_type": "code",
   "execution_count": 6,
   "id": "cc27e598",
   "metadata": {},
   "outputs": [
    {
     "data": {
      "text/plain": [
       "Unnamed: 0      4996.5000\n",
       "Row ID          4997.5000\n",
       "Postal Code    56430.5000\n",
       "Sales             54.4900\n",
       "Quantity           3.0000\n",
       "Discount           0.2000\n",
       "Profit             8.6665\n",
       "dtype: float64"
      ]
     },
     "execution_count": 6,
     "metadata": {},
     "output_type": "execute_result"
    }
   ],
   "source": [
    "data.median()"
   ]
  },
  {
   "cell_type": "code",
   "execution_count": null,
   "id": "8a7874bd",
   "metadata": {},
   "outputs": [],
   "source": [
    "# min max std var mode median mean \n"
   ]
  },
  {
   "cell_type": "code",
   "execution_count": null,
   "id": "1f8d29db",
   "metadata": {},
   "outputs": [],
   "source": [
    "Quantile and Percentile data distribution "
   ]
  },
  {
   "cell_type": "code",
   "execution_count": 10,
   "id": "000c2bf5",
   "metadata": {},
   "outputs": [],
   "source": [
    "df=np.array([10,20,30,40,50,60,70,80,90,100])"
   ]
  },
  {
   "cell_type": "code",
   "execution_count": 12,
   "id": "60f99ae5",
   "metadata": {},
   "outputs": [
    {
     "data": {
      "text/plain": [
       "array([ 10,  20,  30,  40,  50,  60,  70,  80,  90, 100])"
      ]
     },
     "execution_count": 12,
     "metadata": {},
     "output_type": "execute_result"
    }
   ],
   "source": [
    "df"
   ]
  },
  {
   "cell_type": "code",
   "execution_count": null,
   "id": "e75f6054",
   "metadata": {},
   "outputs": [],
   "source": [
    "# Quartile\n",
    "# 1st Q1 hold 25 th percentile\n",
    "# 2nd Q2 hold 50th percentile\n",
    "# 3rd Q3 hold 75th percentile"
   ]
  },
  {
   "cell_type": "code",
   "execution_count": 14,
   "id": "c3aa1a34",
   "metadata": {},
   "outputs": [
    {
     "ename": "AttributeError",
     "evalue": "'numpy.ndarray' object has no attribute 'quantile'",
     "output_type": "error",
     "traceback": [
      "\u001b[1;31m---------------------------------------------------------------------------\u001b[0m",
      "\u001b[1;31mAttributeError\u001b[0m                            Traceback (most recent call last)",
      "Cell \u001b[1;32mIn[14], line 1\u001b[0m\n\u001b[1;32m----> 1\u001b[0m df\u001b[38;5;241m.\u001b[39mquantile(\u001b[38;5;241m0.25\u001b[39m)\n",
      "\u001b[1;31mAttributeError\u001b[0m: 'numpy.ndarray' object has no attribute 'quantile'"
     ]
    }
   ],
   "source": [
    "df.quantile(0.25)"
   ]
  },
  {
   "cell_type": "code",
   "execution_count": 15,
   "id": "4ca11a82",
   "metadata": {},
   "outputs": [
    {
     "data": {
      "text/plain": [
       "32.5"
      ]
     },
     "execution_count": 15,
     "metadata": {},
     "output_type": "execute_result"
    }
   ],
   "source": [
    "np.percentile(df,25) #Q1"
   ]
  },
  {
   "cell_type": "code",
   "execution_count": 16,
   "id": "7123265e",
   "metadata": {},
   "outputs": [
    {
     "data": {
      "text/plain": [
       "55.0"
      ]
     },
     "execution_count": 16,
     "metadata": {},
     "output_type": "execute_result"
    }
   ],
   "source": [
    "np.percentile(df,50) #Q2"
   ]
  },
  {
   "cell_type": "code",
   "execution_count": 18,
   "id": "b95dfb61",
   "metadata": {},
   "outputs": [
    {
     "data": {
      "text/plain": [
       "55.0"
      ]
     },
     "execution_count": 18,
     "metadata": {},
     "output_type": "execute_result"
    }
   ],
   "source": [
    "np.median(df)"
   ]
  },
  {
   "cell_type": "code",
   "execution_count": null,
   "id": "1004d978",
   "metadata": {},
   "outputs": [],
   "source": [
    "# Quartiles 4 parts\n",
    "# deciles 10 parts\n",
    "# percentiles 100 parts"
   ]
  },
  {
   "cell_type": "code",
   "execution_count": null,
   "id": "e4a51b0c",
   "metadata": {},
   "outputs": [],
   "source": [
    "Dataframe .quantile\n",
    "numpy .percentile"
   ]
  },
  {
   "cell_type": "code",
   "execution_count": 23,
   "id": "b46e7760",
   "metadata": {},
   "outputs": [
    {
     "data": {
      "text/plain": [
       "Index(['Unnamed: 0', 'Row ID', 'Order ID', 'Order Date', 'Ship Date',\n",
       "       'Ship Mode', 'Customer ID', 'Customer Name', 'Segment', 'Country',\n",
       "       'City', 'State', 'Postal Code', 'Region', 'Product ID', 'Category',\n",
       "       'Sub-Category', 'Product Name', 'Sales', 'Quantity', 'Discount',\n",
       "       'Profit'],\n",
       "      dtype='object')"
      ]
     },
     "execution_count": 23,
     "metadata": {},
     "output_type": "execute_result"
    }
   ],
   "source": [
    "data.columns"
   ]
  },
  {
   "cell_type": "code",
   "execution_count": 24,
   "id": "82c8ab2d",
   "metadata": {},
   "outputs": [
    {
     "data": {
      "text/plain": [
       "54.489999999999995"
      ]
     },
     "execution_count": 24,
     "metadata": {},
     "output_type": "execute_result"
    }
   ],
   "source": [
    "data['Sales'].quantile(0.5)"
   ]
  },
  {
   "cell_type": "code",
   "execution_count": 25,
   "id": "36285a2a",
   "metadata": {},
   "outputs": [
    {
     "data": {
      "text/plain": [
       "54.489999999999995"
      ]
     },
     "execution_count": 25,
     "metadata": {},
     "output_type": "execute_result"
    }
   ],
   "source": [
    "data['Sales'].median()"
   ]
  },
  {
   "cell_type": "code",
   "execution_count": 26,
   "id": "dc694849",
   "metadata": {},
   "outputs": [
    {
     "data": {
      "text/plain": [
       "34.248"
      ]
     },
     "execution_count": 26,
     "metadata": {},
     "output_type": "execute_result"
    }
   ],
   "source": [
    "data['Sales'].quantile(0.4) 40th percentile"
   ]
  },
  {
   "cell_type": "code",
   "execution_count": null,
   "id": "8a8d93ad",
   "metadata": {},
   "outputs": [],
   "source": []
  }
 ],
 "metadata": {
  "kernelspec": {
   "display_name": "Python 3 (ipykernel)",
   "language": "python",
   "name": "python3"
  },
  "language_info": {
   "codemirror_mode": {
    "name": "ipython",
    "version": 3
   },
   "file_extension": ".py",
   "mimetype": "text/x-python",
   "name": "python",
   "nbconvert_exporter": "python",
   "pygments_lexer": "ipython3",
   "version": "3.11.5"
  }
 },
 "nbformat": 4,
 "nbformat_minor": 5
}
