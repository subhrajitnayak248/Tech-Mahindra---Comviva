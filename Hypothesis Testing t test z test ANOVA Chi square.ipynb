{
 "cells": [
  {
   "cell_type": "markdown",
   "id": "0166e246",
   "metadata": {},
   "source": [
    "# Hypothesis Testing "
   ]
  },
  {
   "cell_type": "code",
   "execution_count": 2,
   "id": "f000cc2e",
   "metadata": {},
   "outputs": [],
   "source": [
    "# Hypothesis (assumption)\n",
    "# Part of Inferential statistics\n",
    "# used to make inferences / conclusions / decisions from the sample data\n",
    "# Null Hypothesis \n",
    "# Alternative Hypothesis\n",
    "# statistical tests"
   ]
  },
  {
   "cell_type": "code",
   "execution_count": 3,
   "id": "c98b2ff9",
   "metadata": {},
   "outputs": [],
   "source": [
    "# t-test : numerical variables \n",
    "# one sample : test the mean of one group against a constant value\n",
    "# one sample: whether the population mean is different than the sample mean\n",
    "# two sample : test the difference of means between two groups\n",
    "# paired sample : test the difference between two measurements of the same variable\n",
    "# z-test : numerical variables\n",
    "# ANOVA  : numerical variables\n",
    "# Chi-square: categorical variables"
   ]
  },
  {
   "cell_type": "code",
   "execution_count": 4,
   "id": "fa03b8cb",
   "metadata": {},
   "outputs": [],
   "source": [
    "import numpy as np\n",
    "import pandas as pd\n",
    "\n",
    "import scipy.stats as st\n",
    "from scipy.stats import ttest_1samp"
   ]
  },
  {
   "cell_type": "code",
   "execution_count": 5,
   "id": "c9afac1c",
   "metadata": {},
   "outputs": [],
   "source": [
    "# age of employee dataset\n",
    "data=np.genfromtxt(\"ages.csv\")"
   ]
  },
  {
   "cell_type": "code",
   "execution_count": 6,
   "id": "ae4220b4",
   "metadata": {},
   "outputs": [
    {
     "data": {
      "text/plain": [
       "array([32., 34., 29., 29., 22., 39., 38., 37., 38., 36., 30., 26., 22.,\n",
       "       22.])"
      ]
     },
     "execution_count": 6,
     "metadata": {},
     "output_type": "execute_result"
    }
   ],
   "source": [
    "data"
   ]
  },
  {
   "cell_type": "code",
   "execution_count": 7,
   "id": "cd0e4467",
   "metadata": {},
   "outputs": [
    {
     "data": {
      "text/plain": [
       "(14,)"
      ]
     },
     "execution_count": 7,
     "metadata": {},
     "output_type": "execute_result"
    }
   ],
   "source": [
    "data.shape"
   ]
  },
  {
   "cell_type": "code",
   "execution_count": 8,
   "id": "542c6beb",
   "metadata": {},
   "outputs": [],
   "source": [
    "# State the hypothesis\n",
    "# Null Hypothes is H0: Average age of employee is 40  : mu =40\n",
    "# Altenative Hypothesis is H1: Average age of employee is no equal to 40 : mu!=40"
   ]
  },
  {
   "cell_type": "code",
   "execution_count": 9,
   "id": "04aecdc2",
   "metadata": {},
   "outputs": [],
   "source": [
    "mu=np.mean(data)"
   ]
  },
  {
   "cell_type": "code",
   "execution_count": 10,
   "id": "c84fc22e",
   "metadata": {},
   "outputs": [
    {
     "data": {
      "text/plain": [
       "31.0"
      ]
     },
     "execution_count": 10,
     "metadata": {},
     "output_type": "execute_result"
    }
   ],
   "source": [
    "mu"
   ]
  },
  {
   "cell_type": "code",
   "execution_count": 11,
   "id": "958111eb",
   "metadata": {},
   "outputs": [],
   "source": [
    "t_stat,pval=ttest_1samp(data,40)"
   ]
  },
  {
   "cell_type": "code",
   "execution_count": 12,
   "id": "75f69337",
   "metadata": {},
   "outputs": [
    {
     "name": "stdout",
     "output_type": "stream",
     "text": [
      "-5.376419101310944 0.0001261384429324314\n"
     ]
    }
   ],
   "source": [
    "print(t_stat,pval)"
   ]
  },
  {
   "cell_type": "code",
   "execution_count": 13,
   "id": "a0c9360e",
   "metadata": {},
   "outputs": [],
   "source": [
    "# statistic=-5.376419101310944, \n",
    "# this value implies that the sample mean is lower then the population mean"
   ]
  },
  {
   "cell_type": "code",
   "execution_count": 14,
   "id": "b03757b2",
   "metadata": {},
   "outputs": [],
   "source": [
    "# level of significance 5%=0.05(alpha)"
   ]
  },
  {
   "cell_type": "code",
   "execution_count": 15,
   "id": "e845f6d9",
   "metadata": {},
   "outputs": [
    {
     "name": "stdout",
     "output_type": "stream",
     "text": [
      "reject the null hypothesis considering the sample provided\n"
     ]
    }
   ],
   "source": [
    "# test the p value against the level of significance\n",
    "if pval<0.05 :\n",
    "    print(\"reject the null hypothesis considering the sample provided\")\n",
    "else:\n",
    "    print(\"accept the null hypothesis\")"
   ]
  },
  {
   "cell_type": "code",
   "execution_count": null,
   "id": "8a53b8fa",
   "metadata": {},
   "outputs": [],
   "source": []
  }
 ],
 "metadata": {
  "kernelspec": {
   "display_name": "Python 3 (ipykernel)",
   "language": "python",
   "name": "python3"
  },
  "language_info": {
   "codemirror_mode": {
    "name": "ipython",
    "version": 3
   },
   "file_extension": ".py",
   "mimetype": "text/x-python",
   "name": "python",
   "nbconvert_exporter": "python",
   "pygments_lexer": "ipython3",
   "version": "3.10.6"
  }
 },
 "nbformat": 4,
 "nbformat_minor": 5
}
