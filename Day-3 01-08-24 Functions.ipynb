{
 "cells": [
  {
   "cell_type": "markdown",
   "id": "73a48577",
   "metadata": {},
   "source": [
    "# User defined Functions"
   ]
  },
  {
   "cell_type": "code",
   "execution_count": 3,
   "id": "d6b257e2",
   "metadata": {},
   "outputs": [],
   "source": [
    "def hi():\n",
    "    print(\"Good evening all\")\n",
    "    print(\"We will start the session\")"
   ]
  },
  {
   "cell_type": "code",
   "execution_count": 4,
   "id": "fcfbaace",
   "metadata": {},
   "outputs": [
    {
     "name": "stdout",
     "output_type": "stream",
     "text": [
      "Good evening all\n",
      "We will start the session\n"
     ]
    }
   ],
   "source": [
    "hi()"
   ]
  },
  {
   "cell_type": "code",
   "execution_count": 5,
   "id": "083bfc34",
   "metadata": {},
   "outputs": [
    {
     "ename": "SyntaxError",
     "evalue": "unterminated string literal (detected at line 2) (1031081365.py, line 2)",
     "output_type": "error",
     "traceback": [
      "\u001b[1;36m  Cell \u001b[1;32mIn[5], line 2\u001b[1;36m\u001b[0m\n\u001b[1;33m    print(\"Good evening\",name\")\u001b[0m\n\u001b[1;37m                             ^\u001b[0m\n\u001b[1;31mSyntaxError\u001b[0m\u001b[1;31m:\u001b[0m unterminated string literal (detected at line 2)\n"
     ]
    }
   ],
   "source": [
    "def hi(name):\n",
    "    print(\"Good evening\",name\")\n",
    "    print(\"We will start the session\")"
   ]
  },
  {
   "cell_type": "code",
   "execution_count": 6,
   "id": "797e24b2",
   "metadata": {},
   "outputs": [],
   "source": [
    "def hi(name):\n",
    "    print(\"Good evening\",name)\n",
    "    print(\"We will start the session\")"
   ]
  },
  {
   "cell_type": "code",
   "execution_count": 7,
   "id": "790ac3c3",
   "metadata": {},
   "outputs": [
    {
     "name": "stdout",
     "output_type": "stream",
     "text": [
      "Good evening kumar\n",
      "We will start the session\n"
     ]
    }
   ],
   "source": [
    "hi('kumar')"
   ]
  },
  {
   "cell_type": "code",
   "execution_count": 8,
   "id": "bdcd4ee8",
   "metadata": {},
   "outputs": [],
   "source": [
    "L1=['sailaja','kumar','thakur','singh']"
   ]
  },
  {
   "cell_type": "code",
   "execution_count": 9,
   "id": "a74fec54",
   "metadata": {},
   "outputs": [
    {
     "data": {
      "text/plain": [
       "['sailaja', 'kumar', 'thakur', 'singh']"
      ]
     },
     "execution_count": 9,
     "metadata": {},
     "output_type": "execute_result"
    }
   ],
   "source": [
    "L1"
   ]
  },
  {
   "cell_type": "code",
   "execution_count": 10,
   "id": "82221e90",
   "metadata": {},
   "outputs": [
    {
     "name": "stdout",
     "output_type": "stream",
     "text": [
      "Good evening sailaja\n",
      "We will start the session\n",
      "Good evening kumar\n",
      "We will start the session\n",
      "Good evening thakur\n",
      "We will start the session\n",
      "Good evening singh\n",
      "We will start the session\n"
     ]
    }
   ],
   "source": [
    "for i in L1:\n",
    "    hi(i)"
   ]
  },
  {
   "cell_type": "code",
   "execution_count": 11,
   "id": "b40f1d58",
   "metadata": {},
   "outputs": [],
   "source": [
    "# add two numbers\n",
    "def add(x,y):\n",
    "    return (x+y)"
   ]
  },
  {
   "cell_type": "code",
   "execution_count": 12,
   "id": "f4714ede",
   "metadata": {},
   "outputs": [
    {
     "data": {
      "text/plain": [
       "30"
      ]
     },
     "execution_count": 12,
     "metadata": {},
     "output_type": "execute_result"
    }
   ],
   "source": [
    "add(10,20)"
   ]
  },
  {
   "cell_type": "code",
   "execution_count": null,
   "id": "ad8f6e2f",
   "metadata": {},
   "outputs": [],
   "source": [
    "# add numbers\n",
    "# arguments are variable\n",
    "# *args\n",
    "# variable length argument"
   ]
  },
  {
   "cell_type": "code",
   "execution_count": 13,
   "id": "8c900d75",
   "metadata": {},
   "outputs": [],
   "source": [
    "def add(*args):\n",
    "    res=0\n",
    "    for i in agrs:\n",
    "        res=res+i\n",
    "    return res\n"
   ]
  },
  {
   "cell_type": "code",
   "execution_count": 14,
   "id": "21a4f6bb",
   "metadata": {},
   "outputs": [
    {
     "ename": "NameError",
     "evalue": "name 'args' is not defined",
     "output_type": "error",
     "traceback": [
      "\u001b[1;31m---------------------------------------------------------------------------\u001b[0m",
      "\u001b[1;31mNameError\u001b[0m                                 Traceback (most recent call last)",
      "Cell \u001b[1;32mIn[14], line 1\u001b[0m\n\u001b[1;32m----> 1\u001b[0m add(\u001b[38;5;241m10\u001b[39m,\u001b[38;5;241m20\u001b[39m)\n",
      "Cell \u001b[1;32mIn[13], line 3\u001b[0m, in \u001b[0;36madd\u001b[1;34m(*agrs)\u001b[0m\n\u001b[0;32m      1\u001b[0m \u001b[38;5;28;01mdef\u001b[39;00m \u001b[38;5;21madd\u001b[39m(\u001b[38;5;241m*\u001b[39magrs):\n\u001b[0;32m      2\u001b[0m     res\u001b[38;5;241m=\u001b[39m\u001b[38;5;241m0\u001b[39m\n\u001b[1;32m----> 3\u001b[0m     \u001b[38;5;28;01mfor\u001b[39;00m i \u001b[38;5;129;01min\u001b[39;00m args:\n\u001b[0;32m      4\u001b[0m         res\u001b[38;5;241m=\u001b[39mres\u001b[38;5;241m+\u001b[39mi\n\u001b[0;32m      5\u001b[0m     \u001b[38;5;28;01mreturn\u001b[39;00m res\n",
      "\u001b[1;31mNameError\u001b[0m: name 'args' is not defined"
     ]
    }
   ],
   "source": [
    "add(10,20)"
   ]
  },
  {
   "cell_type": "code",
   "execution_count": 15,
   "id": "72255cac",
   "metadata": {},
   "outputs": [],
   "source": [
    "def add(*args):\n",
    "    res=0\n",
    "    for i in args:\n",
    "        res=res+i\n",
    "    return res\n"
   ]
  },
  {
   "cell_type": "code",
   "execution_count": 16,
   "id": "546225f5",
   "metadata": {},
   "outputs": [
    {
     "data": {
      "text/plain": [
       "30"
      ]
     },
     "execution_count": 16,
     "metadata": {},
     "output_type": "execute_result"
    }
   ],
   "source": [
    "add(10,20)"
   ]
  },
  {
   "cell_type": "code",
   "execution_count": 17,
   "id": "8e39b655",
   "metadata": {},
   "outputs": [
    {
     "data": {
      "text/plain": [
       "230"
      ]
     },
     "execution_count": 17,
     "metadata": {},
     "output_type": "execute_result"
    }
   ],
   "source": [
    "add(10,20,40,0,60,30,70)"
   ]
  },
  {
   "cell_type": "code",
   "execution_count": 22,
   "id": "a86dbeba",
   "metadata": {},
   "outputs": [
    {
     "data": {
      "text/plain": [
       "10"
      ]
     },
     "execution_count": 22,
     "metadata": {},
     "output_type": "execute_result"
    }
   ],
   "source": [
    "add(10)"
   ]
  },
  {
   "cell_type": "code",
   "execution_count": 19,
   "id": "ebd840a6",
   "metadata": {},
   "outputs": [],
   "source": [
    "# default argument\n",
    "def sal_cal(sal, inc=1000):\n",
    "    return(sal+inc)"
   ]
  },
  {
   "cell_type": "code",
   "execution_count": 20,
   "id": "e30daeb0",
   "metadata": {},
   "outputs": [
    {
     "data": {
      "text/plain": [
       "21000"
      ]
     },
     "execution_count": 20,
     "metadata": {},
     "output_type": "execute_result"
    }
   ],
   "source": [
    "sal_cal(20000)"
   ]
  },
  {
   "cell_type": "code",
   "execution_count": 21,
   "id": "58ea0c36",
   "metadata": {},
   "outputs": [
    {
     "data": {
      "text/plain": [
       "25000"
      ]
     },
     "execution_count": 21,
     "metadata": {},
     "output_type": "execute_result"
    }
   ],
   "source": [
    "sal_cal(20000,5000)"
   ]
  },
  {
   "cell_type": "code",
   "execution_count": null,
   "id": "c0828ad0",
   "metadata": {},
   "outputs": [],
   "source": []
  },
  {
   "cell_type": "code",
   "execution_count": 34,
   "id": "e0b9c27c",
   "metadata": {},
   "outputs": [],
   "source": [
    "def add(*args,temp=10):\n",
    "     res=temp+sum(args)\n",
    "     return res   "
   ]
  },
  {
   "cell_type": "code",
   "execution_count": 35,
   "id": "ddec1271",
   "metadata": {},
   "outputs": [
    {
     "data": {
      "text/plain": [
       "10"
      ]
     },
     "execution_count": 35,
     "metadata": {},
     "output_type": "execute_result"
    }
   ],
   "source": [
    "add()"
   ]
  },
  {
   "cell_type": "code",
   "execution_count": 36,
   "id": "5ab85ac4",
   "metadata": {},
   "outputs": [
    {
     "data": {
      "text/plain": [
       "30"
      ]
     },
     "execution_count": 36,
     "metadata": {},
     "output_type": "execute_result"
    }
   ],
   "source": [
    "add(20)"
   ]
  },
  {
   "cell_type": "code",
   "execution_count": 42,
   "id": "3ad88f15",
   "metadata": {},
   "outputs": [],
   "source": [
    "def demo(*args):\n",
    "    for i in args:\n",
    "        print(f\" Type of {type(i)} and the value is {i}\")"
   ]
  },
  {
   "cell_type": "code",
   "execution_count": 43,
   "id": "043a46e7",
   "metadata": {},
   "outputs": [
    {
     "name": "stdout",
     "output_type": "stream",
     "text": [
      " Type of <class 'int'> and the value is 1\n",
      " Type of <class 'str'> and the value is hi\n",
      " Type of <class 'bool'> and the value is True\n",
      " Type of <class 'float'> and the value is 5.2\n",
      " Type of <class 'list'> and the value is [20, 30, 50]\n",
      " Type of <class 'tuple'> and the value is (1, 2, 3)\n",
      " Type of <class 'set'> and the value is {3, 4, 5}\n",
      " Type of <class 'dict'> and the value is {'name': 'kumar'}\n"
     ]
    }
   ],
   "source": [
    "demo(1,'hi',True,5.2,[20,30,50],(1,2,3),{3,4,5},{'name':'kumar'})"
   ]
  },
  {
   "cell_type": "code",
   "execution_count": 53,
   "id": "011b6e9c",
   "metadata": {},
   "outputs": [
    {
     "ename": "SyntaxError",
     "evalue": "unterminated string literal (detected at line 4) (716892522.py, line 4)",
     "output_type": "error",
     "traceback": [
      "\u001b[1;36m  Cell \u001b[1;32mIn[53], line 4\u001b[1;36m\u001b[0m\n\u001b[1;33m    print(f\"key is : {k} and value is {v})\u001b[0m\n\u001b[1;37m          ^\u001b[0m\n\u001b[1;31mSyntaxError\u001b[0m\u001b[1;31m:\u001b[0m unterminated string literal (detected at line 4)\n"
     ]
    }
   ],
   "source": [
    "# Keyword arguments **kwargs  (key value)\n",
    "def f2(**kwargs):\n",
    "    for k,v in kwargs.items():\n",
    "        print(f\"key is : {k} and value is {v})"
   ]
  },
  {
   "cell_type": "code",
   "execution_count": 54,
   "id": "4e72754b",
   "metadata": {},
   "outputs": [],
   "source": [
    "# Keyword arguments **kwargs  (key value)\n",
    "def f2(**kwargs):\n",
    "    for k,v in kwargs.items():\n",
    "        print(f\"key is : {k} and value is {v}\")"
   ]
  },
  {
   "cell_type": "code",
   "execution_count": 55,
   "id": "48dddcda",
   "metadata": {},
   "outputs": [
    {
     "name": "stdout",
     "output_type": "stream",
     "text": [
      "key is : name and value is kumar\n",
      "key is : age and value is 49\n"
     ]
    }
   ],
   "source": [
    "f2(name='kumar',age=49)"
   ]
  },
  {
   "cell_type": "markdown",
   "id": "a851027a",
   "metadata": {},
   "source": [
    "# Anonymous function "
   ]
  },
  {
   "cell_type": "markdown",
   "id": "ec1d587f",
   "metadata": {},
   "source": [
    "# Lamdba"
   ]
  },
  {
   "cell_type": "code",
   "execution_count": 44,
   "id": "47e03c2b",
   "metadata": {},
   "outputs": [],
   "source": [
    "def f1(n):\n",
    "    return(n*n)"
   ]
  },
  {
   "cell_type": "code",
   "execution_count": 45,
   "id": "d5d8abc5",
   "metadata": {},
   "outputs": [
    {
     "data": {
      "text/plain": [
       "256"
      ]
     },
     "execution_count": 45,
     "metadata": {},
     "output_type": "execute_result"
    }
   ],
   "source": [
    "f1(16)"
   ]
  },
  {
   "cell_type": "code",
   "execution_count": 46,
   "id": "d26bcbf5",
   "metadata": {},
   "outputs": [
    {
     "data": {
      "text/plain": [
       "256"
      ]
     },
     "execution_count": 46,
     "metadata": {},
     "output_type": "execute_result"
    }
   ],
   "source": [
    "# lambda keyword\n",
    "# (lambda argument : expression)(input/parameter)\n",
    "(lambda n:n*n)(16)"
   ]
  },
  {
   "cell_type": "code",
   "execution_count": 47,
   "id": "5e921239",
   "metadata": {},
   "outputs": [
    {
     "data": {
      "text/plain": [
       "5"
      ]
     },
     "execution_count": 47,
     "metadata": {},
     "output_type": "execute_result"
    }
   ],
   "source": [
    "# add two numbers\n",
    "(lambda x,y:x+y)(2,3)"
   ]
  },
  {
   "cell_type": "code",
   "execution_count": 49,
   "id": "36f15e45",
   "metadata": {},
   "outputs": [
    {
     "data": {
      "text/plain": [
       "9"
      ]
     },
     "execution_count": 49,
     "metadata": {},
     "output_type": "execute_result"
    }
   ],
   "source": [
    "# max of two numbers\n",
    "(lambda x,y: x if x > y else y) (9,6)"
   ]
  },
  {
   "cell_type": "code",
   "execution_count": 47,
   "id": "f7a840e1",
   "metadata": {},
   "outputs": [
    {
     "data": {
      "text/plain": [
       "5"
      ]
     },
     "execution_count": 47,
     "metadata": {},
     "output_type": "execute_result"
    }
   ],
   "source": [
    "# add two numbers\n",
    "(lambda x,y:x+y)(2,3)"
   ]
  },
  {
   "cell_type": "code",
   "execution_count": 50,
   "id": "11dcb74e",
   "metadata": {},
   "outputs": [
    {
     "name": "stdout",
     "output_type": "stream",
     "text": [
      "9\n"
     ]
    }
   ],
   "source": [
    "res=lambda x,y:x+y\n",
    "print(res(4,5))"
   ]
  },
  {
   "cell_type": "code",
   "execution_count": 51,
   "id": "667c8bee",
   "metadata": {},
   "outputs": [],
   "source": [
    "L1=['sailaja','kumar','thakur','singh']"
   ]
  },
  {
   "cell_type": "code",
   "execution_count": 52,
   "id": "58e29271",
   "metadata": {},
   "outputs": [
    {
     "data": {
      "text/plain": [
       "4"
      ]
     },
     "execution_count": 52,
     "metadata": {},
     "output_type": "execute_result"
    }
   ],
   "source": [
    "# based on the length of the string sort the list\n",
    "(lambda i:len(i))(L1)"
   ]
  },
  {
   "cell_type": "code",
   "execution_count": null,
   "id": "068afae3",
   "metadata": {},
   "outputs": [],
   "source": [
    "map() reduce() filter()"
   ]
  }
 ],
 "metadata": {
  "kernelspec": {
   "display_name": "Python 3 (ipykernel)",
   "language": "python",
   "name": "python3"
  },
  "language_info": {
   "codemirror_mode": {
    "name": "ipython",
    "version": 3
   },
   "file_extension": ".py",
   "mimetype": "text/x-python",
   "name": "python",
   "nbconvert_exporter": "python",
   "pygments_lexer": "ipython3",
   "version": "3.11.5"
  }
 },
 "nbformat": 4,
 "nbformat_minor": 5
}
