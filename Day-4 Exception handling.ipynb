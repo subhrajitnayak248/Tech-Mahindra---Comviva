{
 "cells": [
  {
   "cell_type": "markdown",
   "id": "84e86798",
   "metadata": {},
   "source": [
    "# Exception Handling in Python"
   ]
  },
  {
   "cell_type": "code",
   "execution_count": null,
   "id": "23ef3af9",
   "metadata": {},
   "outputs": [],
   "source": [
    "# try except else finally are used to handle runtime errors"
   ]
  },
  {
   "cell_type": "code",
   "execution_count": null,
   "id": "97ea89fa",
   "metadata": {},
   "outputs": [],
   "source": [
    "# custom exceptions"
   ]
  },
  {
   "cell_type": "code",
   "execution_count": 2,
   "id": "42ca5f41",
   "metadata": {},
   "outputs": [
    {
     "ename": "ZeroDivisionError",
     "evalue": "division by zero",
     "output_type": "error",
     "traceback": [
      "\u001b[1;31m---------------------------------------------------------------------------\u001b[0m",
      "\u001b[1;31mZeroDivisionError\u001b[0m                         Traceback (most recent call last)",
      "Cell \u001b[1;32mIn[2], line 3\u001b[0m\n\u001b[0;32m      1\u001b[0m num\u001b[38;5;241m=\u001b[39m\u001b[38;5;241m10\u001b[39m\n\u001b[0;32m      2\u001b[0m den\u001b[38;5;241m=\u001b[39m\u001b[38;5;241m0\u001b[39m\n\u001b[1;32m----> 3\u001b[0m num\u001b[38;5;241m/\u001b[39mden\n\u001b[0;32m      4\u001b[0m \u001b[38;5;28mprint\u001b[39m(\u001b[38;5;124m\"\u001b[39m\u001b[38;5;124msuccess\u001b[39m\u001b[38;5;124m\"\u001b[39m)\n",
      "\u001b[1;31mZeroDivisionError\u001b[0m: division by zero"
     ]
    }
   ],
   "source": [
    "num=10\n",
    "den=0\n",
    "num/den\n",
    "print(\"success\")"
   ]
  },
  {
   "cell_type": "code",
   "execution_count": 3,
   "id": "49b9a739",
   "metadata": {},
   "outputs": [
    {
     "name": "stdout",
     "output_type": "stream",
     "text": [
      "Error in the logic please check\n"
     ]
    }
   ],
   "source": [
    "try:\n",
    "    num=10\n",
    "    den=0\n",
    "    num/den\n",
    "    print(\"success\")\n",
    "except:\n",
    "    print(\"Error in the logic please check\")"
   ]
  },
  {
   "cell_type": "code",
   "execution_count": 4,
   "id": "694f12b3",
   "metadata": {},
   "outputs": [
    {
     "name": "stdout",
     "output_type": "stream",
     "text": [
      "Denominator cannot be zero, please check\n"
     ]
    }
   ],
   "source": [
    "try:\n",
    "    num=10\n",
    "    den=0\n",
    "    num/den\n",
    "    print(\"success\")\n",
    "except ZeroDivisionError:\n",
    "    print(\"Denominator cannot be zero, please check\")"
   ]
  },
  {
   "cell_type": "code",
   "execution_count": 5,
   "id": "982fb069",
   "metadata": {},
   "outputs": [
    {
     "ename": "NameError",
     "evalue": "name 'a' is not defined",
     "output_type": "error",
     "traceback": [
      "\u001b[1;31m---------------------------------------------------------------------------\u001b[0m",
      "\u001b[1;31mNameError\u001b[0m                                 Traceback (most recent call last)",
      "Cell \u001b[1;32mIn[5], line 4\u001b[0m\n\u001b[0;32m      2\u001b[0m num\u001b[38;5;241m=\u001b[39m\u001b[38;5;241m10\u001b[39m\n\u001b[0;32m      3\u001b[0m den\u001b[38;5;241m=\u001b[39m\u001b[38;5;241m0\u001b[39m\n\u001b[1;32m----> 4\u001b[0m num\u001b[38;5;241m/\u001b[39ma\n\u001b[0;32m      5\u001b[0m num\u001b[38;5;241m/\u001b[39mden\n\u001b[0;32m      6\u001b[0m \u001b[38;5;28mprint\u001b[39m(\u001b[38;5;124m\"\u001b[39m\u001b[38;5;124msuccess\u001b[39m\u001b[38;5;124m\"\u001b[39m)\n",
      "\u001b[1;31mNameError\u001b[0m: name 'a' is not defined"
     ]
    }
   ],
   "source": [
    "try:\n",
    "    num=10\n",
    "    den=0\n",
    "    num/a\n",
    "    num/den\n",
    "    print(\"success\")\n",
    "except ZeroDivisionError:\n",
    "    print(\"Denominator cannot be zero, please check\")"
   ]
  },
  {
   "cell_type": "code",
   "execution_count": 6,
   "id": "e00592d0",
   "metadata": {},
   "outputs": [
    {
     "name": "stdout",
     "output_type": "stream",
     "text": [
      "Denominator cannot be character, please check\n"
     ]
    }
   ],
   "source": [
    "try:\n",
    "    num=10\n",
    "    den=0\n",
    "    num/a\n",
    "    num/den\n",
    "    print(\"success\")\n",
    "\n",
    "except NameError:\n",
    "    print(\"Denominator cannot be character, please check\")\n",
    "\n",
    "except ZeroDivisionError:\n",
    "    print(\"Denominator cannot be zero, please check\")"
   ]
  },
  {
   "cell_type": "code",
   "execution_count": 7,
   "id": "de725811",
   "metadata": {},
   "outputs": [
    {
     "name": "stdout",
     "output_type": "stream",
     "text": [
      "name 'a' is not defined\n",
      "Denominator cannot be character, please check\n"
     ]
    }
   ],
   "source": [
    "try:\n",
    "    num=10\n",
    "    den=0\n",
    "    num/a\n",
    "    num/den\n",
    "    print(\"success\")\n",
    "\n",
    "except NameError as e:\n",
    "    print(e)\n",
    "    print(\"Denominator cannot be character, please check\")\n",
    "\n",
    "except ZeroDivisionError:\n",
    "    print(\"Denominator cannot be zero, please check\")"
   ]
  },
  {
   "cell_type": "code",
   "execution_count": 8,
   "id": "c56bec45",
   "metadata": {},
   "outputs": [
    {
     "name": "stdout",
     "output_type": "stream",
     "text": [
      "name 'a' is not defined\n"
     ]
    }
   ],
   "source": [
    "try:\n",
    "    num=10\n",
    "    den=0\n",
    "    num/a\n",
    "    num/den\n",
    "    print(\"success\")\n",
    "\n",
    "except (NameError, ZeroDivisionError) as e:\n",
    "    print(e)\n",
    "    "
   ]
  },
  {
   "cell_type": "code",
   "execution_count": 10,
   "id": "329a2b8f",
   "metadata": {},
   "outputs": [
    {
     "name": "stdout",
     "output_type": "stream",
     "text": [
      "division not possible since denomiator is zero\n",
      "denominator is deleted\n"
     ]
    }
   ],
   "source": [
    "try:\n",
    "    num=10\n",
    "    den=0\n",
    "    num/den\n",
    "   \n",
    "except:\n",
    "    print(\"division not possible since denomiator is zero\")\n",
    "\n",
    "finally:\n",
    "    del den\n",
    "    print(\"denominator is deleted\")\n"
   ]
  },
  {
   "cell_type": "code",
   "execution_count": 11,
   "id": "eea50986",
   "metadata": {},
   "outputs": [
    {
     "name": "stdout",
     "output_type": "stream",
     "text": [
      "enter the denominator0\n",
      "division not possible since denomiator is zero\n",
      "denominator is deleted\n"
     ]
    }
   ],
   "source": [
    "n=int(input(\"enter the denominator\"))\n",
    "try:\n",
    "    num=10\n",
    "    den=n\n",
    "    res=num/den\n",
    "   \n",
    "except:\n",
    "    print(\"division not possible since denomiator is zero\")\n",
    "\n",
    "else:\n",
    "    print(res*10)     \n",
    "\n",
    "finally:\n",
    "    del den\n",
    "    print(\"denominator is deleted\")\n"
   ]
  },
  {
   "cell_type": "code",
   "execution_count": 13,
   "id": "4281c758",
   "metadata": {},
   "outputs": [
    {
     "name": "stdout",
     "output_type": "stream",
     "text": [
      "enter the denominator   5\n",
      "20.0\n",
      "denominator is deleted\n"
     ]
    }
   ],
   "source": [
    "n=int(input(\"enter the denominator   \"))\n",
    "try:\n",
    "    num=10\n",
    "    den=n\n",
    "    res=num/den\n",
    "   \n",
    "except:\n",
    "    print(\"division not possible since denomiator is zero\")\n",
    "\n",
    "else:\n",
    "    print(res*10)     \n",
    "\n",
    "finally:\n",
    "    del den\n",
    "    print(\"denominator is deleted\")\n"
   ]
  },
  {
   "cell_type": "code",
   "execution_count": null,
   "id": "2719a2f1",
   "metadata": {},
   "outputs": [],
   "source": []
  },
  {
   "cell_type": "code",
   "execution_count": null,
   "id": "ad44fd0f",
   "metadata": {},
   "outputs": [],
   "source": []
  },
  {
   "cell_type": "code",
   "execution_count": 14,
   "id": "0979a39c",
   "metadata": {},
   "outputs": [
    {
     "name": "stdout",
     "output_type": "stream",
     "text": [
      "name 'a' is not defined\n"
     ]
    }
   ],
   "source": [
    "try:\n",
    "    num=10\n",
    "    den=0\n",
    "    num/a\n",
    "    num/den\n",
    "    print(\"success\")\n",
    "\n",
    "except Exception as e:\n",
    "    print(e)"
   ]
  },
  {
   "cell_type": "code",
   "execution_count": 15,
   "id": "872b5815",
   "metadata": {},
   "outputs": [
    {
     "name": "stdout",
     "output_type": "stream",
     "text": [
      "division by zero\n"
     ]
    }
   ],
   "source": [
    "try:\n",
    "    num=10\n",
    "    den=0\n",
    "    #num/a\n",
    "    num/den\n",
    "    print(\"success\")\n",
    "\n",
    "except Exception as e:\n",
    "    print(e)"
   ]
  },
  {
   "cell_type": "code",
   "execution_count": 17,
   "id": "2e2259c6",
   "metadata": {},
   "outputs": [
    {
     "name": "stdout",
     "output_type": "stream",
     "text": [
      "unsupported operand type(s) for +: 'int' and 'str'\n"
     ]
    }
   ],
   "source": [
    "try:\n",
    "    num=10\n",
    "    den=0\n",
    "    #num/a\n",
    "    #num/den\n",
    "    10 + 'a'\n",
    "    print(\"success\")\n",
    "\n",
    "except Exception as e:\n",
    "    print(e)"
   ]
  },
  {
   "cell_type": "code",
   "execution_count": 18,
   "id": "f0d26d03",
   "metadata": {},
   "outputs": [
    {
     "ename": "TypeError",
     "evalue": "unsupported operand type(s) for +: 'int' and 'str'",
     "output_type": "error",
     "traceback": [
      "\u001b[1;31m---------------------------------------------------------------------------\u001b[0m",
      "\u001b[1;31mTypeError\u001b[0m                                 Traceback (most recent call last)",
      "Cell \u001b[1;32mIn[18], line 1\u001b[0m\n\u001b[1;32m----> 1\u001b[0m \u001b[38;5;241m10\u001b[39m \u001b[38;5;241m+\u001b[39m \u001b[38;5;124m'\u001b[39m\u001b[38;5;124ma\u001b[39m\u001b[38;5;124m'\u001b[39m\n",
      "\u001b[1;31mTypeError\u001b[0m: unsupported operand type(s) for +: 'int' and 'str'"
     ]
    }
   ],
   "source": [
    "10  + 'a'    "
   ]
  },
  {
   "cell_type": "code",
   "execution_count": null,
   "id": "f0cacc83",
   "metadata": {},
   "outputs": [],
   "source": [
    "# Custom Exceptions"
   ]
  },
  {
   "cell_type": "code",
   "execution_count": 22,
   "id": "0aad48ee",
   "metadata": {},
   "outputs": [],
   "source": [
    "class AgeException(Exception):\n",
    "    def __init__(self,age):\n",
    "        self.age=age\n",
    "    \n",
    "    def __str__(self):\n",
    "        return f\"Sorry, You are not eligible to vote this time, try next time since age must be >=18\""
   ]
  },
  {
   "cell_type": "code",
   "execution_count": 23,
   "id": "3e3a753e",
   "metadata": {},
   "outputs": [],
   "source": [
    "def validate_Age(age):\n",
    "    if age<18:\n",
    "        raise AgeException(age)\n",
    "    else:\n",
    "        print(\"Thank you for your valuable vote\")"
   ]
  },
  {
   "cell_type": "code",
   "execution_count": 24,
   "id": "b6929133",
   "metadata": {},
   "outputs": [
    {
     "name": "stdout",
     "output_type": "stream",
     "text": [
      "enter your age12\n",
      "Sorry, You are not eligible to vote this time, try next time since age must be >=18\n"
     ]
    }
   ],
   "source": [
    "try:\n",
    "    age=int(input(\"enter your age \"))\n",
    "    validate_Age(age)\n",
    "    \n",
    "except AgeException as e:\n",
    "    print(e)"
   ]
  },
  {
   "cell_type": "code",
   "execution_count": null,
   "id": "5a154e6b",
   "metadata": {},
   "outputs": [],
   "source": []
  },
  {
   "cell_type": "code",
   "execution_count": 25,
   "id": "80a147e4",
   "metadata": {},
   "outputs": [
    {
     "name": "stdout",
     "output_type": "stream",
     "text": [
      "enter your age 20\n",
      "Thank you for your valuable vote\n"
     ]
    }
   ],
   "source": [
    "try:\n",
    "    age=int(input(\"enter your age \"))\n",
    "    validate_Age(age)\n",
    "    \n",
    "except AgeException as e:\n",
    "    print(e)"
   ]
  },
  {
   "cell_type": "code",
   "execution_count": 26,
   "id": "a44202da",
   "metadata": {},
   "outputs": [
    {
     "name": "stdout",
     "output_type": "stream",
     "text": [
      "enter your age 12\n",
      "bye\n"
     ]
    }
   ],
   "source": [
    "try:\n",
    "    age=int(input(\"enter your age \"))\n",
    "    validate_Age(age)\n",
    "    \n",
    "except:\n",
    "    print(\"bye\")"
   ]
  },
  {
   "cell_type": "code",
   "execution_count": 27,
   "id": "d182fcfe",
   "metadata": {},
   "outputs": [
    {
     "name": "stdout",
     "output_type": "stream",
     "text": [
      "enter your age 49\n",
      "Thank you for your valuable vote\n"
     ]
    }
   ],
   "source": [
    "try:\n",
    "    age=int(input(\"enter your age \"))\n",
    "    validate_Age(age)\n",
    "    \n",
    "except:\n",
    "    print(\"bye\")"
   ]
  },
  {
   "cell_type": "code",
   "execution_count": null,
   "id": "b6591da0",
   "metadata": {},
   "outputs": [],
   "source": [
    "# Banking domain case study"
   ]
  }
 ],
 "metadata": {
  "kernelspec": {
   "display_name": "Python 3 (ipykernel)",
   "language": "python",
   "name": "python3"
  },
  "language_info": {
   "codemirror_mode": {
    "name": "ipython",
    "version": 3
   },
   "file_extension": ".py",
   "mimetype": "text/x-python",
   "name": "python",
   "nbconvert_exporter": "python",
   "pygments_lexer": "ipython3",
   "version": "3.11.5"
  }
 },
 "nbformat": 4,
 "nbformat_minor": 5
}
