{
 "cells": [
  {
   "attachments": {
    "Python.jpeg": {
     "image/jpeg": "[encoded data removed]"
    }
   },
   "cell_type": "markdown",
   "id": "9576ab79",
   "metadata": {},
   "source": [
    "![Python.jpeg](attachment:Python.jpeg)"
   ]
  },
  {
   "cell_type": "markdown",
   "id": "555a666b",
   "metadata": {},
   "source": [
    "# Python Course"
   ]
  },
  {
   "cell_type": "markdown",
   "id": "409728a0",
   "metadata": {},
   "source": [
    "* Data Types\n",
    "* Input output Statements\n",
    "* Operators\n",
    "* Arithmetic\n",
    "* Comparison\n",
    "* logical \n",
    "* bitwise"
   ]
  },
  {
   "cell_type": "markdown",
   "id": "f129749c",
   "metadata": {},
   "source": [
    "<a class='anchor' id=\"0.1\"> </a>\n",
    "## Data Structures\n",
    "* ### [1.1 List](#1.1) \n",
    "* ### [1.2 Set](#1.2)\n",
    "* ### [1.3 Dictionary](#1.3)\n",
    "* ### [1.4 Tuple](#1.4)"
   ]
  },
  {
   "cell_type": "markdown",
   "id": "24041e9c",
   "metadata": {},
   "source": [
    "## Input Output Statements"
   ]
  },
  {
   "cell_type": "markdown",
   "id": "c5455e84",
   "metadata": {},
   "source": [
    "### print() Function "
   ]
  },
  {
   "cell_type": "code",
   "execution_count": 4,
   "id": "67e34e5c",
   "metadata": {},
   "outputs": [
    {
     "name": "stdout",
     "output_type": "stream",
     "text": [
      "hi\n"
     ]
    }
   ],
   "source": [
    "print(\"hi\")"
   ]
  },
  {
   "cell_type": "code",
   "execution_count": 5,
   "id": "95ae6863",
   "metadata": {},
   "outputs": [
    {
     "name": "stdout",
     "output_type": "stream",
     "text": [
      "Hi Students\n"
     ]
    }
   ],
   "source": [
    "print(\"Hi\",\"Students\")"
   ]
  },
  {
   "cell_type": "code",
   "execution_count": 6,
   "id": "20c87b4b",
   "metadata": {},
   "outputs": [
    {
     "name": "stdout",
     "output_type": "stream",
     "text": [
      "hi!Students\n"
     ]
    }
   ],
   "source": [
    "print(\"hi\",\"Students\", sep='!')"
   ]
  },
  {
   "cell_type": "code",
   "execution_count": 7,
   "id": "cd14984f",
   "metadata": {},
   "outputs": [
    {
     "name": "stdout",
     "output_type": "stream",
     "text": [
      "30/07/2024\n"
     ]
    }
   ],
   "source": [
    "print(\"30\",\"07\",\"2024\", sep='/')"
   ]
  },
  {
   "cell_type": "code",
   "execution_count": 8,
   "id": "548fad78",
   "metadata": {},
   "outputs": [
    {
     "name": "stdout",
     "output_type": "stream",
     "text": [
      "hi\n",
      "Students\n"
     ]
    }
   ],
   "source": [
    "print(\"hi\")\n",
    "print(\"Students\")"
   ]
  },
  {
   "cell_type": "code",
   "execution_count": 9,
   "id": "1d2b671f",
   "metadata": {},
   "outputs": [
    {
     "name": "stdout",
     "output_type": "stream",
     "text": [
      "hi\n",
      "Students\n",
      "Session started\n"
     ]
    }
   ],
   "source": [
    "print(\"hi\")\n",
    "print(\"Students\")\n",
    "print(\"Session started\")"
   ]
  },
  {
   "cell_type": "code",
   "execution_count": 10,
   "id": "db08b768",
   "metadata": {},
   "outputs": [
    {
     "name": "stdout",
     "output_type": "stream",
     "text": [
      "hi,Students,Session started\n"
     ]
    }
   ],
   "source": [
    "print(\"hi\",end=',')\n",
    "print(\"Students\",end=',')\n",
    "print(\"Session started\")"
   ]
  },
  {
   "cell_type": "code",
   "execution_count": 11,
   "id": "fe007ef1",
   "metadata": {},
   "outputs": [
    {
     "name": "stdout",
     "output_type": "stream",
     "text": [
      "hi Students Session started\n"
     ]
    }
   ],
   "source": [
    "print(\"hi\",end=' ')\n",
    "print(\"Students\",end=' ')\n",
    "print(\"Session started\")"
   ]
  },
  {
   "cell_type": "code",
   "execution_count": 12,
   "id": "10e62824",
   "metadata": {},
   "outputs": [
    {
     "name": "stdout",
     "output_type": "stream",
     "text": [
      "hi Students!Session started\n"
     ]
    }
   ],
   "source": [
    "print(\"hi\",end=' ')\n",
    "print(\"Students\",end='!')\n",
    "print(\"Session started\")"
   ]
  },
  {
   "cell_type": "code",
   "execution_count": 13,
   "id": "b4b30f53",
   "metadata": {},
   "outputs": [
    {
     "name": "stdout",
     "output_type": "stream",
     "text": [
      "Hello, Students\n"
     ]
    }
   ],
   "source": [
    "print(\"Hello, Students\")"
   ]
  },
  {
   "cell_type": "code",
   "execution_count": 22,
   "id": "4278cb3b",
   "metadata": {},
   "outputs": [
    {
     "name": "stdout",
     "output_type": "stream",
     "text": [
      "SAILAJA\n"
     ]
    }
   ],
   "source": [
    "name = \"Sailaja\"\n",
    "print(name.upper())"
   ]
  },
  {
   "cell_type": "markdown",
   "id": "cdf01494",
   "metadata": {},
   "source": [
    "## type() function"
   ]
  },
  {
   "cell_type": "code",
   "execution_count": 15,
   "id": "7654a56e",
   "metadata": {},
   "outputs": [
    {
     "data": {
      "text/plain": [
       "str"
      ]
     },
     "execution_count": 15,
     "metadata": {},
     "output_type": "execute_result"
    }
   ],
   "source": [
    "type(name)"
   ]
  },
  {
   "cell_type": "code",
   "execution_count": 16,
   "id": "e2c0a2ca",
   "metadata": {},
   "outputs": [
    {
     "ename": "NameError",
     "evalue": "name 'dtype' is not defined",
     "output_type": "error",
     "traceback": [
      "\u001b[1;31m---------------------------------------------------------------------------\u001b[0m",
      "\u001b[1;31mNameError\u001b[0m                                 Traceback (most recent call last)",
      "Cell \u001b[1;32mIn[16], line 1\u001b[0m\n\u001b[1;32m----> 1\u001b[0m dtype(name)\n",
      "\u001b[1;31mNameError\u001b[0m: name 'dtype' is not defined"
     ]
    }
   ],
   "source": [
    "dtype(name)"
   ]
  },
  {
   "cell_type": "code",
   "execution_count": 17,
   "id": "68b2ac49",
   "metadata": {},
   "outputs": [],
   "source": [
    "age = 49"
   ]
  },
  {
   "cell_type": "code",
   "execution_count": 18,
   "id": "be4298a7",
   "metadata": {},
   "outputs": [
    {
     "data": {
      "text/plain": [
       "int"
      ]
     },
     "execution_count": 18,
     "metadata": {},
     "output_type": "execute_result"
    }
   ],
   "source": [
    "type(age)"
   ]
  },
  {
   "cell_type": "code",
   "execution_count": 19,
   "id": "2e9cfae9",
   "metadata": {},
   "outputs": [
    {
     "data": {
      "text/plain": [
       "float"
      ]
     },
     "execution_count": 19,
     "metadata": {},
     "output_type": "execute_result"
    }
   ],
   "source": [
    "height = 5.1\n",
    "type(height)"
   ]
  },
  {
   "cell_type": "code",
   "execution_count": 20,
   "id": "16d9e3fe",
   "metadata": {},
   "outputs": [
    {
     "data": {
      "text/plain": [
       "str"
      ]
     },
     "execution_count": 20,
     "metadata": {},
     "output_type": "execute_result"
    }
   ],
   "source": [
    "gender = 'f'\n",
    "type(gender)"
   ]
  },
  {
   "cell_type": "code",
   "execution_count": null,
   "id": "2329e5da",
   "metadata": {},
   "outputs": [],
   "source": [
    "# a+ib \n",
    "# a real part\n",
    "# b imaginary part"
   ]
  },
  {
   "cell_type": "code",
   "execution_count": 21,
   "id": "acb217b0",
   "metadata": {},
   "outputs": [
    {
     "data": {
      "text/plain": [
       "complex"
      ]
     },
     "execution_count": 21,
     "metadata": {},
     "output_type": "execute_result"
    }
   ],
   "source": [
    "# a+jb\n",
    "C1=1+2j\n",
    "type(C1)"
   ]
  },
  {
   "cell_type": "code",
   "execution_count": null,
   "id": "a44355e5",
   "metadata": {},
   "outputs": [],
   "source": []
  },
  {
   "cell_type": "markdown",
   "id": "b909b3d7",
   "metadata": {},
   "source": [
    "## input() function"
   ]
  },
  {
   "cell_type": "code",
   "execution_count": 23,
   "id": "4b9fba91",
   "metadata": {},
   "outputs": [
    {
     "name": "stdout",
     "output_type": "stream",
     "text": [
      "enter your nameSailaja\n"
     ]
    },
    {
     "data": {
      "text/plain": [
       "'Sailaja'"
      ]
     },
     "execution_count": 23,
     "metadata": {},
     "output_type": "execute_result"
    }
   ],
   "source": [
    "input(\"enter your name\")"
   ]
  },
  {
   "cell_type": "code",
   "execution_count": 24,
   "id": "8424c2c1",
   "metadata": {},
   "outputs": [
    {
     "name": "stdout",
     "output_type": "stream",
     "text": [
      "enter your namesailaja\n"
     ]
    }
   ],
   "source": [
    "name=input(\"enter your name\")"
   ]
  },
  {
   "cell_type": "code",
   "execution_count": 25,
   "id": "e1d91240",
   "metadata": {},
   "outputs": [
    {
     "name": "stdout",
     "output_type": "stream",
     "text": [
      "SAILAJA\n"
     ]
    }
   ],
   "source": [
    "print(name.upper())"
   ]
  },
  {
   "cell_type": "code",
   "execution_count": 26,
   "id": "8b9b11ab",
   "metadata": {},
   "outputs": [
    {
     "name": "stdout",
     "output_type": "stream",
     "text": [
      "Welcome SAILAJA\n"
     ]
    }
   ],
   "source": [
    "print(\"Welcome\", name.upper())"
   ]
  },
  {
   "cell_type": "code",
   "execution_count": 27,
   "id": "f8642b15",
   "metadata": {},
   "outputs": [
    {
     "name": "stdout",
     "output_type": "stream",
     "text": [
      "enter your age49\n",
      "You are 49 years old\n"
     ]
    }
   ],
   "source": [
    "age=input(\"enter your age\")\n",
    "print(\"You are\",age, \"years old\")"
   ]
  },
  {
   "cell_type": "code",
   "execution_count": 28,
   "id": "a0825d58",
   "metadata": {},
   "outputs": [
    {
     "ename": "TypeError",
     "evalue": "can only concatenate str (not \"int\") to str",
     "output_type": "error",
     "traceback": [
      "\u001b[1;31m---------------------------------------------------------------------------\u001b[0m",
      "\u001b[1;31mTypeError\u001b[0m                                 Traceback (most recent call last)",
      "Cell \u001b[1;32mIn[28], line 2\u001b[0m\n\u001b[0;32m      1\u001b[0m \u001b[38;5;66;03m# what will be my age after 5 years\u001b[39;00m\n\u001b[1;32m----> 2\u001b[0m \u001b[38;5;28mprint\u001b[39m(\u001b[38;5;124m\"\u001b[39m\u001b[38;5;124mAfter 5 years my age is\u001b[39m\u001b[38;5;124m\"\u001b[39m, age\u001b[38;5;241m+\u001b[39m\u001b[38;5;241m5\u001b[39m, \u001b[38;5;124m\"\u001b[39m\u001b[38;5;124myears\u001b[39m\u001b[38;5;124m\"\u001b[39m)\n",
      "\u001b[1;31mTypeError\u001b[0m: can only concatenate str (not \"int\") to str"
     ]
    }
   ],
   "source": [
    "# what will be my age after 5 years\n",
    "print(\"After 5 years my age is\", age+5, \"years\")"
   ]
  },
  {
   "cell_type": "code",
   "execution_count": 29,
   "id": "d8364c66",
   "metadata": {},
   "outputs": [
    {
     "data": {
      "text/plain": [
       "str"
      ]
     },
     "execution_count": 29,
     "metadata": {},
     "output_type": "execute_result"
    }
   ],
   "source": [
    "type(age)"
   ]
  },
  {
   "cell_type": "markdown",
   "id": "c4d4b1f3",
   "metadata": {},
   "source": [
    "## Explicit and implicit conversion"
   ]
  },
  {
   "cell_type": "code",
   "execution_count": null,
   "id": "96451d32",
   "metadata": {},
   "outputs": [],
   "source": [
    "# convert string to integer"
   ]
  },
  {
   "cell_type": "code",
   "execution_count": 30,
   "id": "f5aaf377",
   "metadata": {},
   "outputs": [
    {
     "name": "stdout",
     "output_type": "stream",
     "text": [
      "enter your age49\n",
      "You are 49 years old\n"
     ]
    }
   ],
   "source": [
    "age=int(input(\"enter your age\"))\n",
    "print(\"You are\",age, \"years old\")"
   ]
  },
  {
   "cell_type": "code",
   "execution_count": 31,
   "id": "b3293498",
   "metadata": {},
   "outputs": [
    {
     "data": {
      "text/plain": [
       "int"
      ]
     },
     "execution_count": 31,
     "metadata": {},
     "output_type": "execute_result"
    }
   ],
   "source": [
    "type(age)"
   ]
  },
  {
   "cell_type": "code",
   "execution_count": 32,
   "id": "f01f760c",
   "metadata": {},
   "outputs": [
    {
     "name": "stdout",
     "output_type": "stream",
     "text": [
      "After 5 years my age is 54 years\n"
     ]
    }
   ],
   "source": [
    "# what will be my age after 5 years\n",
    "print(\"After 5 years my age is\", age+5, \"years\")"
   ]
  },
  {
   "cell_type": "code",
   "execution_count": 33,
   "id": "ba3bd950",
   "metadata": {},
   "outputs": [],
   "source": [
    "a=0"
   ]
  },
  {
   "cell_type": "code",
   "execution_count": 34,
   "id": "5fb70743",
   "metadata": {},
   "outputs": [
    {
     "data": {
      "text/plain": [
       "int"
      ]
     },
     "execution_count": 34,
     "metadata": {},
     "output_type": "execute_result"
    }
   ],
   "source": [
    "type(a)"
   ]
  },
  {
   "cell_type": "code",
   "execution_count": 35,
   "id": "61f50c8d",
   "metadata": {},
   "outputs": [
    {
     "data": {
      "text/plain": [
       "False"
      ]
     },
     "execution_count": 35,
     "metadata": {},
     "output_type": "execute_result"
    }
   ],
   "source": [
    "bool(a)"
   ]
  },
  {
   "cell_type": "code",
   "execution_count": 36,
   "id": "ef1eda93",
   "metadata": {},
   "outputs": [
    {
     "data": {
      "text/plain": [
       "True"
      ]
     },
     "execution_count": 36,
     "metadata": {},
     "output_type": "execute_result"
    }
   ],
   "source": [
    "bool(age)"
   ]
  },
  {
   "cell_type": "code",
   "execution_count": 37,
   "id": "bc2a39df",
   "metadata": {},
   "outputs": [
    {
     "data": {
      "text/plain": [
       "bool"
      ]
     },
     "execution_count": 37,
     "metadata": {},
     "output_type": "execute_result"
    }
   ],
   "source": [
    "a=True\n",
    "type(a)"
   ]
  },
  {
   "cell_type": "code",
   "execution_count": 38,
   "id": "9d8ed8ae",
   "metadata": {},
   "outputs": [
    {
     "data": {
      "text/plain": [
       "bool"
      ]
     },
     "execution_count": 38,
     "metadata": {},
     "output_type": "execute_result"
    }
   ],
   "source": [
    "a=False\n",
    "type(a)"
   ]
  },
  {
   "cell_type": "code",
   "execution_count": 39,
   "id": "9900bc44",
   "metadata": {},
   "outputs": [
    {
     "data": {
      "text/plain": [
       "True"
      ]
     },
     "execution_count": 39,
     "metadata": {},
     "output_type": "execute_result"
    }
   ],
   "source": [
    "bool(-1)"
   ]
  },
  {
   "cell_type": "code",
   "execution_count": 40,
   "id": "98a3a3f5",
   "metadata": {},
   "outputs": [
    {
     "data": {
      "text/plain": [
       "False"
      ]
     },
     "execution_count": 40,
     "metadata": {},
     "output_type": "execute_result"
    }
   ],
   "source": [
    "bool(0)"
   ]
  },
  {
   "cell_type": "code",
   "execution_count": 42,
   "id": "9a75661e",
   "metadata": {},
   "outputs": [
    {
     "data": {
      "text/plain": [
       "True"
      ]
     },
     "execution_count": 42,
     "metadata": {},
     "output_type": "execute_result"
    }
   ],
   "source": [
    "bool(-0.1)"
   ]
  },
  {
   "cell_type": "code",
   "execution_count": 43,
   "id": "999c99ea",
   "metadata": {},
   "outputs": [
    {
     "data": {
      "text/plain": [
       "False"
      ]
     },
     "execution_count": 43,
     "metadata": {},
     "output_type": "execute_result"
    }
   ],
   "source": [
    "bool(0.0)"
   ]
  },
  {
   "cell_type": "code",
   "execution_count": null,
   "id": "6aefb879",
   "metadata": {},
   "outputs": [],
   "source": []
  },
  {
   "cell_type": "markdown",
   "id": "2e25d1bf",
   "metadata": {},
   "source": [
    "## Operators\n",
    "* Arithmetic\n",
    "* Assignment\n",
    "* Logical\n",
    "* Comparison\n",
    "* Identity\n",
    "* Bitwise\n",
    "* Membership"
   ]
  },
  {
   "cell_type": "code",
   "execution_count": null,
   "id": "e76094f7",
   "metadata": {},
   "outputs": [],
   "source": []
  },
  {
   "cell_type": "markdown",
   "id": "1eea2021",
   "metadata": {},
   "source": [
    "### Arithmetic: + - * / // % **"
   ]
  },
  {
   "cell_type": "code",
   "execution_count": 46,
   "id": "1278d340",
   "metadata": {},
   "outputs": [],
   "source": [
    "x = 10\n",
    "y = 10"
   ]
  },
  {
   "cell_type": "code",
   "execution_count": 51,
   "id": "571c203b",
   "metadata": {},
   "outputs": [
    {
     "name": "stdout",
     "output_type": "stream",
     "text": [
      "x+y 20\n",
      "x-y 0\n",
      "x*y 100\n",
      "x/y 1.0\n",
      "x//y 1\n",
      "x**y 10000000000\n",
      "x%y 0\n"
     ]
    }
   ],
   "source": [
    "print('x+y', x+y)\n",
    "print('x-y',x-y)\n",
    "print('x*y',x*y)\n",
    "print('x/y',x/y)\n",
    "print('x//y',x//y)\n",
    "print('x**y',x**y)\n",
    "print('x%y',x%y)"
   ]
  },
  {
   "cell_type": "code",
   "execution_count": 53,
   "id": "b070ec23",
   "metadata": {},
   "outputs": [
    {
     "name": "stdout",
     "output_type": "stream",
     "text": [
      "x/y 7.5\n",
      "x//y 7\n",
      "x%y 1\n"
     ]
    }
   ],
   "source": [
    "x = 15\n",
    "y = 2\n",
    "print('x/y',x/y)  # Division\n",
    "print('x//y',x//y)# Floor Division\n",
    "print('x%y',x%y)# Modulus "
   ]
  },
  {
   "cell_type": "code",
   "execution_count": 55,
   "id": "7e1d9e8e",
   "metadata": {},
   "outputs": [
    {
     "name": "stdout",
     "output_type": "stream",
     "text": [
      "x/y 5.666666666666667\n",
      "x//y 5\n",
      "x%y 2\n"
     ]
    }
   ],
   "source": [
    "x = 17\n",
    "y = 3\n",
    "print('x/y',x/y)  # Division floating -point\n",
    "print('x//y',x//y)# Floor Division (largest integer less than or euqual to 5.666666666)\n",
    "print('x%y',x%y)# Modulus "
   ]
  },
  {
   "cell_type": "code",
   "execution_count": null,
   "id": "aed11b65",
   "metadata": {},
   "outputs": [],
   "source": [
    "\n"
   ]
  },
  {
   "cell_type": "markdown",
   "id": "b95c7a03",
   "metadata": {},
   "source": [
    "## Assignment = += -= *= /="
   ]
  },
  {
   "cell_type": "code",
   "execution_count": 59,
   "id": "67678f01",
   "metadata": {},
   "outputs": [],
   "source": [
    "# x = 10\n",
    "age = 49"
   ]
  },
  {
   "cell_type": "code",
   "execution_count": 56,
   "id": "e674d42c",
   "metadata": {},
   "outputs": [],
   "source": [
    "new_age = age + 1"
   ]
  },
  {
   "cell_type": "code",
   "execution_count": 57,
   "id": "c608cf95",
   "metadata": {},
   "outputs": [
    {
     "name": "stdout",
     "output_type": "stream",
     "text": [
      "49\n",
      "50\n"
     ]
    }
   ],
   "source": [
    "print(age)\n",
    "print(new_age)"
   ]
  },
  {
   "cell_type": "code",
   "execution_count": 58,
   "id": "c4a7eeed",
   "metadata": {},
   "outputs": [
    {
     "name": "stdout",
     "output_type": "stream",
     "text": [
      "50\n"
     ]
    }
   ],
   "source": [
    "age = age + 1\n",
    "print(age)"
   ]
  },
  {
   "cell_type": "code",
   "execution_count": 60,
   "id": "6f3c678f",
   "metadata": {},
   "outputs": [],
   "source": [
    "age +=1"
   ]
  },
  {
   "cell_type": "code",
   "execution_count": 61,
   "id": "250cd748",
   "metadata": {},
   "outputs": [
    {
     "data": {
      "text/plain": [
       "50"
      ]
     },
     "execution_count": 61,
     "metadata": {},
     "output_type": "execute_result"
    }
   ],
   "source": [
    "age"
   ]
  },
  {
   "cell_type": "code",
   "execution_count": 62,
   "id": "2a5e85db",
   "metadata": {},
   "outputs": [
    {
     "data": {
      "text/plain": [
       "49"
      ]
     },
     "execution_count": 62,
     "metadata": {},
     "output_type": "execute_result"
    }
   ],
   "source": [
    "age -=1\n",
    "age"
   ]
  },
  {
   "cell_type": "code",
   "execution_count": 63,
   "id": "ca11d55d",
   "metadata": {},
   "outputs": [
    {
     "data": {
      "text/plain": [
       "5.0"
      ]
     },
     "execution_count": 63,
     "metadata": {},
     "output_type": "execute_result"
    }
   ],
   "source": [
    "x = 10\n",
    "x /=2\n",
    "x"
   ]
  },
  {
   "cell_type": "code",
   "execution_count": null,
   "id": "8f167ea4",
   "metadata": {},
   "outputs": [],
   "source": []
  },
  {
   "cell_type": "code",
   "execution_count": null,
   "id": "33708079",
   "metadata": {},
   "outputs": [],
   "source": [
    "## logical AND OR NOT\n",
    "# state: True False"
   ]
  },
  {
   "cell_type": "code",
   "execution_count": 64,
   "id": "47d9ea0c",
   "metadata": {},
   "outputs": [
    {
     "data": {
      "text/plain": [
       "3"
      ]
     },
     "execution_count": 64,
     "metadata": {},
     "output_type": "execute_result"
    }
   ],
   "source": [
    "2 and 3"
   ]
  },
  {
   "cell_type": "code",
   "execution_count": 65,
   "id": "025900e4",
   "metadata": {},
   "outputs": [
    {
     "name": "stdout",
     "output_type": "stream",
     "text": [
      "3\n"
     ]
    }
   ],
   "source": [
    "print( 2 and 3)"
   ]
  },
  {
   "cell_type": "code",
   "execution_count": 66,
   "id": "20fdde32",
   "metadata": {},
   "outputs": [
    {
     "data": {
      "text/plain": [
       "0"
      ]
     },
     "execution_count": 66,
     "metadata": {},
     "output_type": "execute_result"
    }
   ],
   "source": [
    "0 and 3"
   ]
  },
  {
   "cell_type": "code",
   "execution_count": 67,
   "id": "1d3abe5d",
   "metadata": {},
   "outputs": [
    {
     "data": {
      "text/plain": [
       "5"
      ]
     },
     "execution_count": 67,
     "metadata": {},
     "output_type": "execute_result"
    }
   ],
   "source": [
    "12345 and 5"
   ]
  },
  {
   "cell_type": "code",
   "execution_count": 68,
   "id": "cd8f1b50",
   "metadata": {},
   "outputs": [
    {
     "data": {
      "text/plain": [
       "5"
      ]
     },
     "execution_count": 68,
     "metadata": {},
     "output_type": "execute_result"
    }
   ],
   "source": [
    "1 and 2 and 3 and 4 and 5"
   ]
  },
  {
   "cell_type": "code",
   "execution_count": 69,
   "id": "74a77e41",
   "metadata": {},
   "outputs": [
    {
     "data": {
      "text/plain": [
       "0"
      ]
     },
     "execution_count": 69,
     "metadata": {},
     "output_type": "execute_result"
    }
   ],
   "source": [
    "0 and 2 and 3 and 4 and 5"
   ]
  },
  {
   "cell_type": "code",
   "execution_count": 70,
   "id": "c25bf3d3",
   "metadata": {},
   "outputs": [
    {
     "data": {
      "text/plain": [
       "2"
      ]
     },
     "execution_count": 70,
     "metadata": {},
     "output_type": "execute_result"
    }
   ],
   "source": [
    "2 or 3"
   ]
  },
  {
   "cell_type": "code",
   "execution_count": null,
   "id": "386b4c5a",
   "metadata": {},
   "outputs": [],
   "source": [
    "# or Truth Table\n",
    "T T T\n",
    "T F T\n",
    "F T T\n",
    "F F F"
   ]
  },
  {
   "cell_type": "code",
   "execution_count": null,
   "id": "621a4760",
   "metadata": {},
   "outputs": [],
   "source": [
    "# and Truth Table\n",
    "T T T\n",
    "T F F\n",
    "F T F\n",
    "F F F"
   ]
  },
  {
   "cell_type": "code",
   "execution_count": 71,
   "id": "ce9d00da",
   "metadata": {},
   "outputs": [
    {
     "data": {
      "text/plain": [
       "11"
      ]
     },
     "execution_count": 71,
     "metadata": {},
     "output_type": "execute_result"
    }
   ],
   "source": [
    "## Logical Expressions\n",
    "2+3 and 5+6"
   ]
  },
  {
   "cell_type": "code",
   "execution_count": null,
   "id": "296ac41e",
   "metadata": {},
   "outputs": [],
   "source": []
  },
  {
   "cell_type": "code",
   "execution_count": 72,
   "id": "d4b6f2f7",
   "metadata": {},
   "outputs": [],
   "source": [
    "# Comparison < > <= >= != ==\n",
    "# result is boolean (true false)"
   ]
  },
  {
   "cell_type": "code",
   "execution_count": 73,
   "id": "f9ddec29",
   "metadata": {},
   "outputs": [
    {
     "data": {
      "text/plain": [
       "True"
      ]
     },
     "execution_count": 73,
     "metadata": {},
     "output_type": "execute_result"
    }
   ],
   "source": [
    "5 == 5"
   ]
  },
  {
   "cell_type": "code",
   "execution_count": 74,
   "id": "03b498f8",
   "metadata": {},
   "outputs": [
    {
     "data": {
      "text/plain": [
       "False"
      ]
     },
     "execution_count": 74,
     "metadata": {},
     "output_type": "execute_result"
    }
   ],
   "source": [
    "5 != 5"
   ]
  },
  {
   "cell_type": "code",
   "execution_count": 75,
   "id": "e51b7aa0",
   "metadata": {},
   "outputs": [
    {
     "data": {
      "text/plain": [
       "False"
      ]
     },
     "execution_count": 75,
     "metadata": {},
     "output_type": "execute_result"
    }
   ],
   "source": [
    "5 > 5"
   ]
  },
  {
   "cell_type": "code",
   "execution_count": 76,
   "id": "945dbd57",
   "metadata": {},
   "outputs": [
    {
     "data": {
      "text/plain": [
       "True"
      ]
     },
     "execution_count": 76,
     "metadata": {},
     "output_type": "execute_result"
    }
   ],
   "source": [
    "5 >= 5  # 5 > 5 or 5 == 5"
   ]
  },
  {
   "cell_type": "code",
   "execution_count": null,
   "id": "50efa5c6",
   "metadata": {},
   "outputs": [],
   "source": []
  },
  {
   "cell_type": "code",
   "execution_count": null,
   "id": "b6b99399",
   "metadata": {},
   "outputs": [],
   "source": [
    "## Bitwise  &(and) |(or) ^(xor) ~(not) leftshift (<<)  rightshift(>>) "
   ]
  },
  {
   "cell_type": "code",
   "execution_count": 78,
   "id": "278d69e1",
   "metadata": {},
   "outputs": [
    {
     "data": {
      "text/plain": [
       "'0b101'"
      ]
     },
     "execution_count": 78,
     "metadata": {},
     "output_type": "execute_result"
    }
   ],
   "source": [
    "# 5 & 3\n",
    "# binary form of 5  \n",
    "bin(5)"
   ]
  },
  {
   "cell_type": "code",
   "execution_count": 80,
   "id": "53675090",
   "metadata": {},
   "outputs": [
    {
     "data": {
      "text/plain": [
       "'101'"
      ]
     },
     "execution_count": 80,
     "metadata": {},
     "output_type": "execute_result"
    }
   ],
   "source": [
    "# eliminate the prefix 0b\n",
    "n1=bin(5)[2:]\n",
    "n1"
   ]
  },
  {
   "cell_type": "code",
   "execution_count": 81,
   "id": "fff6e5cb",
   "metadata": {},
   "outputs": [
    {
     "data": {
      "text/plain": [
       "'11'"
      ]
     },
     "execution_count": 81,
     "metadata": {},
     "output_type": "execute_result"
    }
   ],
   "source": [
    "n2=bin(3)[2:]\n",
    "n2"
   ]
  },
  {
   "cell_type": "code",
   "execution_count": 82,
   "id": "9257f381",
   "metadata": {},
   "outputs": [
    {
     "data": {
      "text/plain": [
       "'0b11'"
      ]
     },
     "execution_count": 82,
     "metadata": {},
     "output_type": "execute_result"
    }
   ],
   "source": [
    "bin(3)"
   ]
  },
  {
   "cell_type": "code",
   "execution_count": null,
   "id": "5747f1d8",
   "metadata": {},
   "outputs": [],
   "source": [
    "# 0101 & 0011  4-bit representation\n",
    "# rightmost (least significant bit)\n",
    "# leftmost  (most significant bit)\n",
    "# if both bits are 1 then result is 1 otherwise 0 \n",
    "# 0 0 0\n",
    "# 1 0 0\n",
    "# 0 1 0 \n",
    "# 1 1 1"
   ]
  },
  {
   "cell_type": "code",
   "execution_count": 83,
   "id": "c50c121a",
   "metadata": {},
   "outputs": [
    {
     "data": {
      "text/plain": [
       "'0b100011'"
      ]
     },
     "execution_count": 83,
     "metadata": {},
     "output_type": "execute_result"
    }
   ],
   "source": [
    "35 & 53\n",
    "bin(35)"
   ]
  },
  {
   "cell_type": "code",
   "execution_count": 84,
   "id": "eb556061",
   "metadata": {},
   "outputs": [
    {
     "data": {
      "text/plain": [
       "'0b110101'"
      ]
     },
     "execution_count": 84,
     "metadata": {},
     "output_type": "execute_result"
    }
   ],
   "source": [
    "bin(53)"
   ]
  },
  {
   "cell_type": "code",
   "execution_count": null,
   "id": "dd298b9f",
   "metadata": {},
   "outputs": [],
   "source": [
    "# 100011 & 110101 6-bit representation\n",
    "100011 \n",
    "110101 \n",
    "------\n",
    "100001\n",
    "------\n",
    "\n",
    "decimal is 33"
   ]
  },
  {
   "cell_type": "code",
   "execution_count": 86,
   "id": "42633979",
   "metadata": {},
   "outputs": [],
   "source": [
    "# OR |\n",
    "# if both bits are 0 then result is 0 otherwise 1\n",
    "# 0 0 0\n",
    "# 1 0 1\n",
    "# 0 1 1 \n",
    "# 1 1 1"
   ]
  },
  {
   "cell_type": "code",
   "execution_count": null,
   "id": "ce486631",
   "metadata": {},
   "outputs": [],
   "source": [
    "# 35 | 53\n",
    "# 100011 | 110101 6-bit representation\n",
    "100011 \n",
    "110101 \n",
    "------\n",
    "110111\n",
    "------\n",
    "\n",
    "decimal is 55"
   ]
  },
  {
   "cell_type": "code",
   "execution_count": 87,
   "id": "eb0f08ba",
   "metadata": {},
   "outputs": [
    {
     "ename": "TypeError",
     "evalue": "int() can't convert non-string with explicit base",
     "output_type": "error",
     "traceback": [
      "\u001b[1;31m---------------------------------------------------------------------------\u001b[0m",
      "\u001b[1;31mTypeError\u001b[0m                                 Traceback (most recent call last)",
      "Cell \u001b[1;32mIn[87], line 1\u001b[0m\n\u001b[1;32m----> 1\u001b[0m ans\u001b[38;5;241m=\u001b[39m \u001b[38;5;28mint\u001b[39m(\u001b[38;5;241m100011\u001b[39m,\u001b[38;5;241m2\u001b[39m)\n\u001b[0;32m      2\u001b[0m ans\n",
      "\u001b[1;31mTypeError\u001b[0m: int() can't convert non-string with explicit base"
     ]
    }
   ],
   "source": [
    "ans= int(100011,2)\n",
    "ans"
   ]
  },
  {
   "cell_type": "code",
   "execution_count": 90,
   "id": "49926ae0",
   "metadata": {},
   "outputs": [
    {
     "data": {
      "text/plain": [
       "35"
      ]
     },
     "execution_count": 90,
     "metadata": {},
     "output_type": "execute_result"
    }
   ],
   "source": [
    "ans= int('100011',2)  #Binary to decimal \n",
    "ans"
   ]
  },
  {
   "cell_type": "code",
   "execution_count": 89,
   "id": "286e9f39",
   "metadata": {},
   "outputs": [
    {
     "data": {
      "text/plain": [
       "55"
      ]
     },
     "execution_count": 89,
     "metadata": {},
     "output_type": "execute_result"
    }
   ],
   "source": [
    "# 110111\n",
    "ans= int('110111',2)\n",
    "ans"
   ]
  },
  {
   "cell_type": "code",
   "execution_count": null,
   "id": "6aae83f0",
   "metadata": {},
   "outputs": [],
   "source": []
  },
  {
   "cell_type": "code",
   "execution_count": null,
   "id": "a5280e26",
   "metadata": {},
   "outputs": [],
   "source": [
    "1001 & 1000"
   ]
  },
  {
   "cell_type": "code",
   "execution_count": null,
   "id": "fd639000",
   "metadata": {},
   "outputs": [],
   "source": [
    "Input output\n",
    "Type()\n",
    "upper()\n",
    "sep\n",
    "end\n",
    "explicit type casting int()\n",
    "data types\n",
    "int\n",
    "float\n",
    "bool\n",
    "str\n",
    "complex\n",
    "operators\n",
    "arithmetic\n",
    "logical\n",
    "comparison\n",
    "Assignment\n",
    "bitwise\n",
    "\n"
   ]
  },
  {
   "cell_type": "code",
   "execution_count": null,
   "id": "31ae1337",
   "metadata": {},
   "outputs": [],
   "source": [
    "Bitwise & | "
   ]
  },
  {
   "cell_type": "code",
   "execution_count": 2,
   "id": "bf626547",
   "metadata": {},
   "outputs": [
    {
     "name": "stdout",
     "output_type": "stream",
     "text": [
      "-11\n"
     ]
    }
   ],
   "source": [
    "# not ~ flip one's complement of the number\n",
    "a=10      \n",
    "# 1010 in binary   00000000 00000000 00000000 00001010\n",
    "result=~a\n",
    "print(result) # in two's comlement that means the result is -11\n",
    "\n",
    "# 1010\n",
    "# 11111111 11111111 11111111 11110101 \n",
    "# -(a+1)"
   ]
  },
  {
   "cell_type": "code",
   "execution_count": 3,
   "id": "83c7a993",
   "metadata": {},
   "outputs": [
    {
     "data": {
      "text/plain": [
       "'-0b1011'"
      ]
     },
     "execution_count": 3,
     "metadata": {},
     "output_type": "execute_result"
    }
   ],
   "source": [
    "bin(result)"
   ]
  },
  {
   "cell_type": "code",
   "execution_count": null,
   "id": "59ba7033",
   "metadata": {},
   "outputs": [],
   "source": [
    "^ XOR\n",
    "0 0 0\n",
    "0 1 1\n",
    "1 0 1\n",
    "1 1 0\n"
   ]
  },
  {
   "cell_type": "code",
   "execution_count": 6,
   "id": "cd22e164",
   "metadata": {},
   "outputs": [
    {
     "data": {
      "text/plain": [
       "'0b1101'"
      ]
     },
     "execution_count": 6,
     "metadata": {},
     "output_type": "execute_result"
    }
   ],
   "source": [
    "a=10\n",
    "# 1010\n",
    "b=7\n",
    "# 0111\n",
    "a^b\n",
    "bin(a^b)"
   ]
  },
  {
   "cell_type": "code",
   "execution_count": 7,
   "id": "bdeae0a1",
   "metadata": {},
   "outputs": [
    {
     "data": {
      "text/plain": [
       "13"
      ]
     },
     "execution_count": 7,
     "metadata": {},
     "output_type": "execute_result"
    }
   ],
   "source": [
    "a^b"
   ]
  },
  {
   "cell_type": "code",
   "execution_count": 9,
   "id": "44b9d12d",
   "metadata": {},
   "outputs": [
    {
     "data": {
      "text/plain": [
       "20"
      ]
     },
     "execution_count": 9,
     "metadata": {},
     "output_type": "execute_result"
    }
   ],
   "source": [
    "# leftshift(<<) \n",
    "# shifts the bits to the left by the specified number of positions\n",
    "a = 5\n",
    "a<<2"
   ]
  },
  {
   "cell_type": "code",
   "execution_count": 10,
   "id": "d4913e2b",
   "metadata": {},
   "outputs": [
    {
     "data": {
      "text/plain": [
       "20"
      ]
     },
     "execution_count": 10,
     "metadata": {},
     "output_type": "execute_result"
    }
   ],
   "source": [
    "# a=5 \n",
    "# 101\n",
    "# 10100\n",
    "# 1(16)+0(8)+1(4)+0(2)+0(1)=20\n",
    "5 * (2**2)"
   ]
  },
  {
   "cell_type": "code",
   "execution_count": 11,
   "id": "fc2b58af",
   "metadata": {},
   "outputs": [
    {
     "data": {
      "text/plain": [
       "40"
      ]
     },
     "execution_count": 11,
     "metadata": {},
     "output_type": "execute_result"
    }
   ],
   "source": [
    "a<<3"
   ]
  },
  {
   "cell_type": "code",
   "execution_count": null,
   "id": "510983ad",
   "metadata": {},
   "outputs": [],
   "source": [
    "5 * (2**3)\n",
    "\n",
    "# 101000\n",
    "# 1+(32)+0(16)+1(8)+0(4)+0(2)+0(1)=40"
   ]
  },
  {
   "cell_type": "code",
   "execution_count": null,
   "id": "b8a44883",
   "metadata": {},
   "outputs": [],
   "source": [
    "# right shift(>>)\n",
    "# shifts the bits to the right by the specified number of positions"
   ]
  },
  {
   "cell_type": "code",
   "execution_count": 12,
   "id": "624fb762",
   "metadata": {},
   "outputs": [
    {
     "data": {
      "text/plain": [
       "5"
      ]
     },
     "execution_count": 12,
     "metadata": {},
     "output_type": "execute_result"
    }
   ],
   "source": [
    "a"
   ]
  },
  {
   "cell_type": "code",
   "execution_count": 13,
   "id": "1428bf0a",
   "metadata": {},
   "outputs": [],
   "source": [
    "a=20"
   ]
  },
  {
   "cell_type": "code",
   "execution_count": 14,
   "id": "a8780d0f",
   "metadata": {},
   "outputs": [
    {
     "data": {
      "text/plain": [
       "20"
      ]
     },
     "execution_count": 14,
     "metadata": {},
     "output_type": "execute_result"
    }
   ],
   "source": [
    "a"
   ]
  },
  {
   "cell_type": "code",
   "execution_count": 15,
   "id": "1637c816",
   "metadata": {},
   "outputs": [
    {
     "data": {
      "text/plain": [
       "5"
      ]
     },
     "execution_count": 15,
     "metadata": {},
     "output_type": "execute_result"
    }
   ],
   "source": [
    "a=20\n",
    "# 10100\n",
    "\n",
    "a>>2"
   ]
  },
  {
   "cell_type": "code",
   "execution_count": 16,
   "id": "7a85b547",
   "metadata": {},
   "outputs": [
    {
     "data": {
      "text/plain": [
       "2"
      ]
     },
     "execution_count": 16,
     "metadata": {},
     "output_type": "execute_result"
    }
   ],
   "source": [
    "a>>3"
   ]
  },
  {
   "cell_type": "code",
   "execution_count": 17,
   "id": "4ee9ecc4",
   "metadata": {},
   "outputs": [
    {
     "data": {
      "text/plain": [
       "2"
      ]
     },
     "execution_count": 17,
     "metadata": {},
     "output_type": "execute_result"
    }
   ],
   "source": [
    "20 // (2**3)"
   ]
  },
  {
   "cell_type": "code",
   "execution_count": 18,
   "id": "8646a120",
   "metadata": {},
   "outputs": [],
   "source": [
    "a = -5"
   ]
  },
  {
   "cell_type": "code",
   "execution_count": 19,
   "id": "b7648c0a",
   "metadata": {},
   "outputs": [
    {
     "data": {
      "text/plain": [
       "-5"
      ]
     },
     "execution_count": 19,
     "metadata": {},
     "output_type": "execute_result"
    }
   ],
   "source": [
    "a"
   ]
  },
  {
   "cell_type": "code",
   "execution_count": 20,
   "id": "a69f436d",
   "metadata": {},
   "outputs": [
    {
     "data": {
      "text/plain": [
       "-10"
      ]
     },
     "execution_count": 20,
     "metadata": {},
     "output_type": "execute_result"
    }
   ],
   "source": [
    "a<<1"
   ]
  },
  {
   "cell_type": "code",
   "execution_count": null,
   "id": "d1971cd7",
   "metadata": {},
   "outputs": [],
   "source": [
    "# a=5\n",
    "# 00000101\n",
    "# 11111010\n",
    "# add 1\n",
    "# 11111010+1=11111011=a=-5\n",
    "\n",
    "# Left shif\n",
    "# 11111011 shift by 1 bit\n",
    "# 11110110"
   ]
  },
  {
   "cell_type": "code",
   "execution_count": null,
   "id": "2124b1a3",
   "metadata": {},
   "outputs": [],
   "source": [
    "# a=5\n",
    "# 00000101\n",
    "# 11111010\n",
    "# add 1\n",
    "# 11111010+1=11111011=a=-5\n",
    "\n",
    "# right shift\n",
    "# 11111011 shift by 1 bit\n",
    "# 11111101"
   ]
  },
  {
   "cell_type": "code",
   "execution_count": 21,
   "id": "2708b8f5",
   "metadata": {},
   "outputs": [],
   "source": [
    "a=-5"
   ]
  },
  {
   "cell_type": "code",
   "execution_count": 22,
   "id": "6591086e",
   "metadata": {},
   "outputs": [
    {
     "data": {
      "text/plain": [
       "-3"
      ]
     },
     "execution_count": 22,
     "metadata": {},
     "output_type": "execute_result"
    }
   ],
   "source": [
    "a>>1"
   ]
  },
  {
   "cell_type": "code",
   "execution_count": 23,
   "id": "393ba697",
   "metadata": {},
   "outputs": [
    {
     "data": {
      "text/plain": [
       "-1"
      ]
     },
     "execution_count": 23,
     "metadata": {},
     "output_type": "execute_result"
    }
   ],
   "source": [
    "a>>4"
   ]
  },
  {
   "cell_type": "markdown",
   "id": "ac029919",
   "metadata": {},
   "source": [
    "# Format output"
   ]
  },
  {
   "cell_type": "code",
   "execution_count": null,
   "id": "996ff312",
   "metadata": {},
   "outputs": [],
   "source": [
    "# Format()\n",
    "# f {}"
   ]
  },
  {
   "cell_type": "code",
   "execution_count": 24,
   "id": "b636148c",
   "metadata": {},
   "outputs": [],
   "source": [
    "price=100\n",
    "qty=10\n",
    "totalprice=100*10"
   ]
  },
  {
   "cell_type": "code",
   "execution_count": 25,
   "id": "47d07cd8",
   "metadata": {},
   "outputs": [
    {
     "data": {
      "text/plain": [
       "1000"
      ]
     },
     "execution_count": 25,
     "metadata": {},
     "output_type": "execute_result"
    }
   ],
   "source": [
    "totalprice"
   ]
  },
  {
   "cell_type": "code",
   "execution_count": 28,
   "id": "87abd4dc",
   "metadata": {},
   "outputs": [
    {
     "name": "stdout",
     "output_type": "stream",
     "text": [
      "the total price of  10 items is :  1000\n"
     ]
    }
   ],
   "source": [
    "print(\"the total price of \", qty, \"items is : \", totalprice)"
   ]
  },
  {
   "cell_type": "code",
   "execution_count": 27,
   "id": "4bf0dca1",
   "metadata": {},
   "outputs": [
    {
     "name": "stdout",
     "output_type": "stream",
     "text": [
      "The total price of 10 items is : 1000\n"
     ]
    }
   ],
   "source": [
    "print(f\"The total price of {qty} items is : {totalprice}\")"
   ]
  },
  {
   "cell_type": "code",
   "execution_count": 30,
   "id": "b24c8b37",
   "metadata": {},
   "outputs": [
    {
     "name": "stdout",
     "output_type": "stream",
     "text": [
      "The total price for 10 items at price 100 is : 1000\n"
     ]
    }
   ],
   "source": [
    "print(f\"The total price for {qty} items at price {price} is : {totalprice}\")"
   ]
  },
  {
   "cell_type": "code",
   "execution_count": 32,
   "id": "0b618997",
   "metadata": {},
   "outputs": [
    {
     "name": "stdout",
     "output_type": "stream",
     "text": [
      "The total price for 10 items at price 100 is :$ 1000\n"
     ]
    }
   ],
   "source": [
    "symbol=\"$\"\n",
    "print(\"The total price for {0} items at price {1} is :{2} {3}\".format(qty,price,symbol,totalprice))"
   ]
  },
  {
   "cell_type": "code",
   "execution_count": 33,
   "id": "e0f558cc",
   "metadata": {},
   "outputs": [
    {
     "data": {
      "text/plain": [
       "'2+4=6'"
      ]
     },
     "execution_count": 33,
     "metadata": {},
     "output_type": "execute_result"
    }
   ],
   "source": [
    "a=2\n",
    "b=4\n",
    "result=\"{}+{}={}\".format(a,b,a+b)\n",
    "result"
   ]
  },
  {
   "cell_type": "code",
   "execution_count": 34,
   "id": "dd686da6",
   "metadata": {},
   "outputs": [
    {
     "data": {
      "text/plain": [
       "1.23456789"
      ]
     },
     "execution_count": 34,
     "metadata": {},
     "output_type": "execute_result"
    }
   ],
   "source": [
    "x=1.23456789\n",
    "x"
   ]
  },
  {
   "cell_type": "code",
   "execution_count": 36,
   "id": "6361cd2c",
   "metadata": {},
   "outputs": [
    {
     "name": "stdout",
     "output_type": "stream",
     "text": [
      "output:1.23\n"
     ]
    }
   ],
   "source": [
    "print(f\"output:{x:.2f}\")"
   ]
  },
  {
   "cell_type": "code",
   "execution_count": 37,
   "id": "7d1864af",
   "metadata": {},
   "outputs": [
    {
     "data": {
      "text/plain": [
       "1.23656789"
      ]
     },
     "execution_count": 37,
     "metadata": {},
     "output_type": "execute_result"
    }
   ],
   "source": [
    "x=1.23656789\n",
    "x"
   ]
  },
  {
   "cell_type": "code",
   "execution_count": 38,
   "id": "3b463fbf",
   "metadata": {},
   "outputs": [
    {
     "name": "stdout",
     "output_type": "stream",
     "text": [
      "output:1.24\n"
     ]
    }
   ],
   "source": [
    "print(f\"output:{x:.2f}\")"
   ]
  },
  {
   "cell_type": "code",
   "execution_count": 42,
   "id": "b7a35697",
   "metadata": {},
   "outputs": [
    {
     "name": "stdout",
     "output_type": "stream",
     "text": [
      "enter your nameSK\n",
      "enter marks70\n",
      "student Name:SK, Marks:70%\n"
     ]
    }
   ],
   "source": [
    "name=input(\"enter your name\")\n",
    "marks=input(\"enter marks\")\n",
    "print(\"student Name:{Firstname}, Marks:{Result}%\".format(Firstname=name,Result=marks))"
   ]
  },
  {
   "cell_type": "code",
   "execution_count": null,
   "id": "c3c16aef",
   "metadata": {},
   "outputs": [],
   "source": []
  },
  {
   "cell_type": "markdown",
   "id": "855267d9",
   "metadata": {},
   "source": [
    "# Conditional Statements"
   ]
  },
  {
   "cell_type": "code",
   "execution_count": null,
   "id": "37fe0226",
   "metadata": {},
   "outputs": [],
   "source": [
    "# are used to control the flow of the program based on the certain conditions\n",
    "# if\n",
    "# if..else\n",
    "# if ..elif ..else\n",
    "# Nested if\n",
    "# ternary operator"
   ]
  },
  {
   "cell_type": "code",
   "execution_count": 44,
   "id": "f5ba9fab",
   "metadata": {},
   "outputs": [
    {
     "name": "stdout",
     "output_type": "stream",
     "text": [
      "eligible to vote\n"
     ]
    }
   ],
   "source": [
    "age=18\n",
    "if (age>=18):\n",
    "    print(\"eligible to vote\")\n",
    "\n",
    "    \n"
   ]
  },
  {
   "cell_type": "code",
   "execution_count": 45,
   "id": "b75538f0",
   "metadata": {},
   "outputs": [
    {
     "name": "stdout",
     "output_type": "stream",
     "text": [
      "eligible to vote\n",
      "eligible for loan also\n"
     ]
    }
   ],
   "source": [
    "age=18\n",
    "if (age>=18):\n",
    "    print(\"eligible to vote\")\n",
    "    print(\"eligible for loan also\") \n",
    "\n",
    "    \n"
   ]
  },
  {
   "cell_type": "code",
   "execution_count": 48,
   "id": "4c29a969",
   "metadata": {},
   "outputs": [
    {
     "name": "stdout",
     "output_type": "stream",
     "text": [
      "not eligible to vote\n",
      "not eligible for loan also\n",
      "thank you\n"
     ]
    }
   ],
   "source": [
    "age=17\n",
    "if (age>=18):\n",
    "    print(\"eligible to vote\")\n",
    "    print(\"eligible for loan also\")\n",
    "else:\n",
    "    print(\"not eligible to vote\")\n",
    "    print(\"not eligible for loan also\")\n",
    "    \n",
    "print(\"thank you\")\n",
    "\n",
    "    \n"
   ]
  },
  {
   "cell_type": "code",
   "execution_count": 49,
   "id": "fee5e6fa",
   "metadata": {},
   "outputs": [
    {
     "name": "stdout",
     "output_type": "stream",
     "text": [
      "eligible to vote\n",
      "eligible for loan also\n",
      "thank you\n"
     ]
    }
   ],
   "source": [
    "age=18\n",
    "if (age>=18):\n",
    "    print(\"eligible to vote\")\n",
    "    print(\"eligible for loan also\")\n",
    "else:\n",
    "    print(\"not eligible to vote\")\n",
    "    print(\"not eligible for loan also\")\n",
    "    \n",
    "print(\"thank you\")    \n"
   ]
  },
  {
   "cell_type": "code",
   "execution_count": 51,
   "id": "8a91a685",
   "metadata": {},
   "outputs": [
    {
     "name": "stdout",
     "output_type": "stream",
     "text": [
      "eligible to vote\n",
      "eligible for loan also\n",
      "thank you\n"
     ]
    }
   ],
   "source": [
    "age=18\n",
    "if (age>=18):\n",
    "        print(\"eligible to vote\")\n",
    "        print(\"eligible for loan also\")\n",
    "else:\n",
    "    print(\"not eligible to vote\")\n",
    "    print(\"not eligible for loan also\")\n",
    "    \n",
    "print(\"thank you\")    \n"
   ]
  },
  {
   "cell_type": "code",
   "execution_count": 51,
   "id": "e0f321eb",
   "metadata": {},
   "outputs": [
    {
     "name": "stdout",
     "output_type": "stream",
     "text": [
      "eligible to vote\n",
      "eligible for loan also\n",
      "thank you\n"
     ]
    }
   ],
   "source": [
    "age=18\n",
    "if (age>=18):\n",
    "        print(\"eligible to vote\")\n",
    "        print(\"eligible for loan also\")\n",
    "else:\n",
    "    print(\"not eligible to vote\")\n",
    "    print(\"not eligible for loan also\")\n",
    "    \n",
    "print(\"thank you\")    \n"
   ]
  },
  {
   "cell_type": "code",
   "execution_count": null,
   "id": "15b66d27",
   "metadata": {},
   "outputs": [],
   "source": [
    "# loop constructs\n",
    "# for, while nested"
   ]
  },
  {
   "cell_type": "code",
   "execution_count": 52,
   "id": "514731af",
   "metadata": {},
   "outputs": [
    {
     "name": "stdout",
     "output_type": "stream",
     "text": [
      "index 0\n",
      "hi\n",
      "index 1\n",
      "hi\n",
      "index 2\n",
      "hi\n",
      "index 3\n",
      "hi\n",
      "index 4\n",
      "hi\n",
      "index 5\n",
      "hi\n",
      "index 6\n",
      "hi\n"
     ]
    }
   ],
   "source": [
    "for i in range(7):   # 0,1,2,3,4,5,6   0 to 7-1\n",
    "    print(\"index\",i)\n",
    "    print(\"hi\")"
   ]
  },
  {
   "cell_type": "code",
   "execution_count": 53,
   "id": "3da986b4",
   "metadata": {},
   "outputs": [
    {
     "data": {
      "text/plain": [
       "range(0, 7)"
      ]
     },
     "execution_count": 53,
     "metadata": {},
     "output_type": "execute_result"
    }
   ],
   "source": [
    "range(7)"
   ]
  },
  {
   "cell_type": "code",
   "execution_count": 54,
   "id": "157a6536",
   "metadata": {},
   "outputs": [
    {
     "name": "stdout",
     "output_type": "stream",
     "text": [
      "range(0, 7)\n"
     ]
    }
   ],
   "source": [
    "print(range(7))"
   ]
  },
  {
   "cell_type": "code",
   "execution_count": 55,
   "id": "ab7c8bec",
   "metadata": {},
   "outputs": [
    {
     "data": {
      "text/plain": [
       "[5, 6, 7, 8, 9, 10]"
      ]
     },
     "execution_count": 55,
     "metadata": {},
     "output_type": "execute_result"
    }
   ],
   "source": [
    "list(range(5,11))"
   ]
  },
  {
   "cell_type": "code",
   "execution_count": 56,
   "id": "e10a23ea",
   "metadata": {},
   "outputs": [
    {
     "data": {
      "text/plain": [
       "[5, 7, 9]"
      ]
     },
     "execution_count": 56,
     "metadata": {},
     "output_type": "execute_result"
    }
   ],
   "source": [
    "list(range(5,11,2))"
   ]
  },
  {
   "cell_type": "code",
   "execution_count": null,
   "id": "667a145e",
   "metadata": {},
   "outputs": [],
   "source": [
    "for intr_var in sequence:\n",
    "    #logic block"
   ]
  },
  {
   "cell_type": "code",
   "execution_count": 57,
   "id": "e4405d9e",
   "metadata": {},
   "outputs": [
    {
     "name": "stdout",
     "output_type": "stream",
     "text": [
      "h\n",
      "i\n",
      " \n",
      "s\n",
      "t\n",
      "u\n",
      "d\n",
      "e\n",
      "n\n",
      "t\n",
      "s\n"
     ]
    }
   ],
   "source": [
    "for i in \"hi students\":\n",
    "    print(i)"
   ]
  },
  {
   "cell_type": "code",
   "execution_count": 59,
   "id": "78c73c6b",
   "metadata": {},
   "outputs": [
    {
     "name": "stdout",
     "output_type": "stream",
     "text": [
      "hi good morning\n",
      "hi good morning\n",
      "hi good morning\n",
      "hi good morning\n",
      "joined late for the session\n"
     ]
    }
   ],
   "source": [
    "i=1\n",
    "while i < 5:\n",
    "    print(\"hi good morning\")\n",
    "    i=i+1\n",
    "else:\n",
    "    print(\"joined late for the session\")"
   ]
  },
  {
   "cell_type": "code",
   "execution_count": 60,
   "id": "4f18b392",
   "metadata": {},
   "outputs": [
    {
     "name": "stdout",
     "output_type": "stream",
     "text": [
      "1 \n",
      "1 2 \n",
      "1 2 3 \n",
      "1 2 3 4 \n",
      "1 2 3 4 5 \n"
     ]
    }
   ],
   "source": [
    "for r in range(1,6):\n",
    "    for c in range(1,r+1):\n",
    "        print(c,end=\" \")\n",
    "    print()"
   ]
  },
  {
   "cell_type": "code",
   "execution_count": null,
   "id": "42818d28",
   "metadata": {},
   "outputs": [],
   "source": []
  },
  {
   "cell_type": "code",
   "execution_count": null,
   "id": "08f16b7b",
   "metadata": {},
   "outputs": [],
   "source": [
    "# Data Structures\n",
    "# lists\n",
    "# tuple\n",
    "# set\n",
    "# frozenset\n",
    "# dictionary\n",
    "# Strings\n",
    "# Arrays\n",
    "# Deque\n",
    "# enum\n",
    "# tree\n",
    "# Hash map\n",
    "\n",
    "collections\n",
    "# Named Tuples\n",
    "# Defaultdict\n",
    "# counter\n",
    "# ordereddict\n",
    "# Chainmap\n",
    "# Heapq\n",
    "\n",
    "\n",
    "\n",
    "    "
   ]
  },
  {
   "cell_type": "code",
   "execution_count": null,
   "id": "8a4d732c",
   "metadata": {},
   "outputs": [],
   "source": []
  },
  {
   "cell_type": "code",
   "execution_count": null,
   "id": "cb0cc79a",
   "metadata": {},
   "outputs": [],
   "source": [
    "# Basic types:\n",
    "# Container Types: list, tuple, set, dictionary, string\n",
    "# mutable immutable\n",
    "# Mutable : Address, contact :list, partially tuple, set, dictionary, string\n",
    "# Immutable: Aadhar,PAN :tuple"
   ]
  },
  {
   "cell_type": "markdown",
   "id": "187ddc80",
   "metadata": {},
   "source": [
    "## 1.1 List <a class=\"anchor\" id=\"1.1\"></a>\n",
    "[Back to Data Structures](#0.1)"
   ]
  },
  {
   "cell_type": "code",
   "execution_count": null,
   "id": "6a76d63f",
   "metadata": {},
   "outputs": [],
   "source": [
    "# list []: contains Heterogeneous data types\n",
    "# list are indexed (starts from 0.....n-1 )\n",
    "std_info=[]  # empty list"
   ]
  },
  {
   "cell_type": "code",
   "execution_count": 62,
   "id": "a47733a5",
   "metadata": {},
   "outputs": [
    {
     "data": {
      "text/plain": [
       "[]"
      ]
     },
     "execution_count": 62,
     "metadata": {},
     "output_type": "execute_result"
    }
   ],
   "source": [
    "std_info"
   ]
  },
  {
   "cell_type": "code",
   "execution_count": 63,
   "id": "7617b9a9",
   "metadata": {},
   "outputs": [
    {
     "data": {
      "text/plain": [
       "list"
      ]
     },
     "execution_count": 63,
     "metadata": {},
     "output_type": "execute_result"
    }
   ],
   "source": [
    "type(std_info)"
   ]
  },
  {
   "cell_type": "code",
   "execution_count": 64,
   "id": "738d511b",
   "metadata": {},
   "outputs": [
    {
     "data": {
      "text/plain": [
       "2103202056576"
      ]
     },
     "execution_count": 64,
     "metadata": {},
     "output_type": "execute_result"
    }
   ],
   "source": [
    "id(std_info)"
   ]
  },
  {
   "cell_type": "code",
   "execution_count": 65,
   "id": "73e7ab5f",
   "metadata": {},
   "outputs": [],
   "source": [
    "std_info=['sk',49,5.2,True,\"Trainer\"]"
   ]
  },
  {
   "cell_type": "code",
   "execution_count": 66,
   "id": "0880e11a",
   "metadata": {},
   "outputs": [
    {
     "data": {
      "text/plain": [
       "['sk', 49, 5.2, True, 'Trainer']"
      ]
     },
     "execution_count": 66,
     "metadata": {},
     "output_type": "execute_result"
    }
   ],
   "source": [
    "std_info"
   ]
  },
  {
   "cell_type": "code",
   "execution_count": 67,
   "id": "05e87946",
   "metadata": {},
   "outputs": [
    {
     "data": {
      "text/plain": [
       "list"
      ]
     },
     "execution_count": 67,
     "metadata": {},
     "output_type": "execute_result"
    }
   ],
   "source": [
    "type(std_info)"
   ]
  },
  {
   "cell_type": "code",
   "execution_count": null,
   "id": "518f6d61",
   "metadata": {},
   "outputs": [],
   "source": [
    "append()\n",
    "extend()\n",
    "index()\n",
    "insert()\n",
    "remove()\n",
    "count()\n",
    "pop()\n",
    "sort()\n",
    "reverse()\n",
    "copy()\n",
    "shallowcopy()\n",
    "deepcopy()\n",
    "sum()\n",
    "clear()\n",
    "min()\n",
    "max()\n",
    "len()"
   ]
  },
  {
   "cell_type": "code",
   "execution_count": null,
   "id": "07ce9ccc",
   "metadata": {},
   "outputs": [],
   "source": [
    "list comprehensions (concise way compact way ) "
   ]
  },
  {
   "cell_type": "code",
   "execution_count": 68,
   "id": "1dc63ae3",
   "metadata": {},
   "outputs": [],
   "source": [
    "# append() add a single element (item))\n",
    "L=[]"
   ]
  },
  {
   "cell_type": "code",
   "execution_count": 69,
   "id": "946b31ac",
   "metadata": {},
   "outputs": [
    {
     "data": {
      "text/plain": [
       "[]"
      ]
     },
     "execution_count": 69,
     "metadata": {},
     "output_type": "execute_result"
    }
   ],
   "source": [
    "L"
   ]
  },
  {
   "cell_type": "code",
   "execution_count": 70,
   "id": "4cdc98c6",
   "metadata": {},
   "outputs": [],
   "source": [
    "L.append(10)"
   ]
  },
  {
   "cell_type": "code",
   "execution_count": 71,
   "id": "0dd704e7",
   "metadata": {},
   "outputs": [
    {
     "data": {
      "text/plain": [
       "[10]"
      ]
     },
     "execution_count": 71,
     "metadata": {},
     "output_type": "execute_result"
    }
   ],
   "source": [
    "L"
   ]
  },
  {
   "cell_type": "code",
   "execution_count": 72,
   "id": "ab03a8ba",
   "metadata": {},
   "outputs": [],
   "source": [
    "L.append(20)"
   ]
  },
  {
   "cell_type": "code",
   "execution_count": 73,
   "id": "0d0fa37b",
   "metadata": {},
   "outputs": [
    {
     "data": {
      "text/plain": [
       "[10, 20]"
      ]
     },
     "execution_count": 73,
     "metadata": {},
     "output_type": "execute_result"
    }
   ],
   "source": [
    "L"
   ]
  },
  {
   "cell_type": "code",
   "execution_count": 74,
   "id": "bf763911",
   "metadata": {},
   "outputs": [
    {
     "data": {
      "text/plain": [
       "20"
      ]
     },
     "execution_count": 74,
     "metadata": {},
     "output_type": "execute_result"
    }
   ],
   "source": [
    "L[1]"
   ]
  },
  {
   "cell_type": "code",
   "execution_count": 75,
   "id": "04907264",
   "metadata": {},
   "outputs": [],
   "source": [
    "L.append(\"Python\")"
   ]
  },
  {
   "cell_type": "code",
   "execution_count": 76,
   "id": "369e7a21",
   "metadata": {},
   "outputs": [
    {
     "data": {
      "text/plain": [
       "[10, 20, 'Python']"
      ]
     },
     "execution_count": 76,
     "metadata": {},
     "output_type": "execute_result"
    }
   ],
   "source": [
    "L"
   ]
  },
  {
   "cell_type": "code",
   "execution_count": 77,
   "id": "716d5ab4",
   "metadata": {},
   "outputs": [],
   "source": [
    "L.append([1,2,3,4,5])"
   ]
  },
  {
   "cell_type": "code",
   "execution_count": 78,
   "id": "1cd503db",
   "metadata": {},
   "outputs": [
    {
     "data": {
      "text/plain": [
       "[10, 20, 'Python', [1, 2, 3, 4, 5]]"
      ]
     },
     "execution_count": 78,
     "metadata": {},
     "output_type": "execute_result"
    }
   ],
   "source": [
    "L"
   ]
  },
  {
   "cell_type": "code",
   "execution_count": 79,
   "id": "929ec72f",
   "metadata": {},
   "outputs": [
    {
     "data": {
      "text/plain": [
       "[1, 2, 3, 4, 5]"
      ]
     },
     "execution_count": 79,
     "metadata": {},
     "output_type": "execute_result"
    }
   ],
   "source": [
    "L[3]"
   ]
  },
  {
   "cell_type": "code",
   "execution_count": null,
   "id": "66c848a3",
   "metadata": {},
   "outputs": [],
   "source": [
    "[10, 20, 'Python',1, 2, 3, 4, 5]"
   ]
  },
  {
   "cell_type": "code",
   "execution_count": 80,
   "id": "e8a1140c",
   "metadata": {},
   "outputs": [
    {
     "data": {
      "text/plain": [
       "[10, 20, 'Python', [1, 2, 3, 4, 5]]"
      ]
     },
     "execution_count": 80,
     "metadata": {},
     "output_type": "execute_result"
    }
   ],
   "source": []
  },
  {
   "cell_type": "code",
   "execution_count": 81,
   "id": "b459f815",
   "metadata": {},
   "outputs": [
    {
     "data": {
      "text/plain": [
       "[1, 2, 3, 4, 5]"
      ]
     },
     "execution_count": 81,
     "metadata": {},
     "output_type": "execute_result"
    }
   ],
   "source": [
    "# pop() removes and returns the last element if index is not provided\n",
    "L.pop()"
   ]
  },
  {
   "cell_type": "code",
   "execution_count": 82,
   "id": "518d99ea",
   "metadata": {},
   "outputs": [
    {
     "data": {
      "text/plain": [
       "[10, 20, 'Python']"
      ]
     },
     "execution_count": 82,
     "metadata": {},
     "output_type": "execute_result"
    }
   ],
   "source": [
    "L"
   ]
  },
  {
   "cell_type": "code",
   "execution_count": 83,
   "id": "29ba703e",
   "metadata": {},
   "outputs": [
    {
     "data": {
      "text/plain": [
       "20"
      ]
     },
     "execution_count": 83,
     "metadata": {},
     "output_type": "execute_result"
    }
   ],
   "source": [
    "L.pop(1)"
   ]
  },
  {
   "cell_type": "code",
   "execution_count": 84,
   "id": "f1ec42a3",
   "metadata": {},
   "outputs": [
    {
     "data": {
      "text/plain": [
       "[10, 'Python']"
      ]
     },
     "execution_count": 84,
     "metadata": {},
     "output_type": "execute_result"
    }
   ],
   "source": [
    "L"
   ]
  },
  {
   "cell_type": "code",
   "execution_count": 85,
   "id": "54e1a748",
   "metadata": {},
   "outputs": [],
   "source": [
    "# extend() for exending the list by appending from another container\n",
    "L.extend([1,2,3,4,5])"
   ]
  },
  {
   "cell_type": "code",
   "execution_count": 86,
   "id": "c73bf3ae",
   "metadata": {},
   "outputs": [
    {
     "data": {
      "text/plain": [
       "[10, 'Python', 1, 2, 3, 4, 5]"
      ]
     },
     "execution_count": 86,
     "metadata": {},
     "output_type": "execute_result"
    }
   ],
   "source": [
    "L"
   ]
  },
  {
   "cell_type": "code",
   "execution_count": 87,
   "id": "0f620b82",
   "metadata": {},
   "outputs": [],
   "source": [
    "# copy()\n",
    "L1=L.copy()"
   ]
  },
  {
   "cell_type": "code",
   "execution_count": 88,
   "id": "7756add4",
   "metadata": {},
   "outputs": [
    {
     "data": {
      "text/plain": [
       "[10, 'Python', 1, 2, 3, 4, 5]"
      ]
     },
     "execution_count": 88,
     "metadata": {},
     "output_type": "execute_result"
    }
   ],
   "source": [
    "L1"
   ]
  },
  {
   "cell_type": "code",
   "execution_count": 89,
   "id": "a87d5de9",
   "metadata": {},
   "outputs": [
    {
     "data": {
      "text/plain": [
       "5"
      ]
     },
     "execution_count": 89,
     "metadata": {},
     "output_type": "execute_result"
    }
   ],
   "source": [
    "L.pop()"
   ]
  },
  {
   "cell_type": "code",
   "execution_count": 90,
   "id": "e8130768",
   "metadata": {},
   "outputs": [
    {
     "data": {
      "text/plain": [
       "[10, 'Python', 1, 2, 3, 4]"
      ]
     },
     "execution_count": 90,
     "metadata": {},
     "output_type": "execute_result"
    }
   ],
   "source": [
    "L"
   ]
  },
  {
   "cell_type": "code",
   "execution_count": 91,
   "id": "8b1cab33",
   "metadata": {},
   "outputs": [
    {
     "data": {
      "text/plain": [
       "[10, 'Python', 1, 2, 3, 4, 5]"
      ]
     },
     "execution_count": 91,
     "metadata": {},
     "output_type": "execute_result"
    }
   ],
   "source": [
    "L1"
   ]
  },
  {
   "cell_type": "code",
   "execution_count": 92,
   "id": "c28f8e47",
   "metadata": {},
   "outputs": [],
   "source": [
    "L1.append(6)"
   ]
  },
  {
   "cell_type": "code",
   "execution_count": 93,
   "id": "5ce0f4e6",
   "metadata": {},
   "outputs": [
    {
     "data": {
      "text/plain": [
       "[10, 'Python', 1, 2, 3, 4, 5, 6]"
      ]
     },
     "execution_count": 93,
     "metadata": {},
     "output_type": "execute_result"
    }
   ],
   "source": [
    "L1"
   ]
  },
  {
   "cell_type": "code",
   "execution_count": 94,
   "id": "a57a79ea",
   "metadata": {},
   "outputs": [
    {
     "data": {
      "text/plain": [
       "[10, 'Python', 1, 2, 3, 4]"
      ]
     },
     "execution_count": 94,
     "metadata": {},
     "output_type": "execute_result"
    }
   ],
   "source": [
    "L"
   ]
  },
  {
   "cell_type": "code",
   "execution_count": 95,
   "id": "91f4cfca",
   "metadata": {},
   "outputs": [
    {
     "data": {
      "text/plain": [
       "[[1, 2, 3], [4, 5, 6]]"
      ]
     },
     "execution_count": 95,
     "metadata": {},
     "output_type": "execute_result"
    }
   ],
   "source": [
    "# Shallow copy()\n",
    "L2=[[1,2,3],[4,5,6]]\n",
    "L2"
   ]
  },
  {
   "cell_type": "code",
   "execution_count": 96,
   "id": "939d20b3",
   "metadata": {},
   "outputs": [
    {
     "data": {
      "text/plain": [
       "[[1, 2, 3], [4, 5, 6]]"
      ]
     },
     "execution_count": 96,
     "metadata": {},
     "output_type": "execute_result"
    }
   ],
   "source": [
    "import copy as cp\n",
    "L22=cp.copy(L2)\n",
    "L22"
   ]
  },
  {
   "cell_type": "code",
   "execution_count": 97,
   "id": "78ee83e0",
   "metadata": {},
   "outputs": [
    {
     "data": {
      "text/plain": [
       "[[1, 20, 3], [4, 5, 6]]"
      ]
     },
     "execution_count": 97,
     "metadata": {},
     "output_type": "execute_result"
    }
   ],
   "source": [
    "L2[0][1]=20\n",
    "L2"
   ]
  },
  {
   "cell_type": "code",
   "execution_count": 98,
   "id": "ac3af3e0",
   "metadata": {},
   "outputs": [
    {
     "data": {
      "text/plain": [
       "[[1, 20, 3], [4, 5, 6]]"
      ]
     },
     "execution_count": 98,
     "metadata": {},
     "output_type": "execute_result"
    }
   ],
   "source": [
    "L22"
   ]
  },
  {
   "cell_type": "code",
   "execution_count": 99,
   "id": "ff92d199",
   "metadata": {},
   "outputs": [
    {
     "data": {
      "text/plain": [
       "[[1, 20, 3], [4, 5, 6]]"
      ]
     },
     "execution_count": 99,
     "metadata": {},
     "output_type": "execute_result"
    }
   ],
   "source": [
    "# Deep copy\n",
    "L2"
   ]
  },
  {
   "cell_type": "code",
   "execution_count": 100,
   "id": "34e78280",
   "metadata": {},
   "outputs": [
    {
     "data": {
      "text/plain": [
       "[[1, 20, 3], [4, 5, 6]]"
      ]
     },
     "execution_count": 100,
     "metadata": {},
     "output_type": "execute_result"
    }
   ],
   "source": [
    "L22"
   ]
  },
  {
   "cell_type": "code",
   "execution_count": 101,
   "id": "8dd52cef",
   "metadata": {},
   "outputs": [],
   "source": [
    "L33=cp.deepcopy(L2)"
   ]
  },
  {
   "cell_type": "code",
   "execution_count": 102,
   "id": "f24f2fe1",
   "metadata": {},
   "outputs": [
    {
     "data": {
      "text/plain": [
       "[[1, 20, 3], [4, 5, 6]]"
      ]
     },
     "execution_count": 102,
     "metadata": {},
     "output_type": "execute_result"
    }
   ],
   "source": [
    "L33"
   ]
  },
  {
   "cell_type": "code",
   "execution_count": 103,
   "id": "c8ffdfa9",
   "metadata": {},
   "outputs": [
    {
     "data": {
      "text/plain": [
       "[[1, 20, 30], [4, 5, 6]]"
      ]
     },
     "execution_count": 103,
     "metadata": {},
     "output_type": "execute_result"
    }
   ],
   "source": [
    "L33[0][2]=30\n",
    "L33"
   ]
  },
  {
   "cell_type": "code",
   "execution_count": 104,
   "id": "db684fc4",
   "metadata": {},
   "outputs": [
    {
     "data": {
      "text/plain": [
       "[[1, 20, 3], [4, 5, 6]]"
      ]
     },
     "execution_count": 104,
     "metadata": {},
     "output_type": "execute_result"
    }
   ],
   "source": [
    "L2"
   ]
  },
  {
   "cell_type": "code",
   "execution_count": null,
   "id": "d1443fef",
   "metadata": {},
   "outputs": [],
   "source": []
  },
  {
   "cell_type": "markdown",
   "id": "dbc2e5b4",
   "metadata": {},
   "source": [
    "#  01-08-2024"
   ]
  },
  {
   "cell_type": "markdown",
   "id": "1b24d34b",
   "metadata": {},
   "source": [
    "# Set { }"
   ]
  },
  {
   "cell_type": "code",
   "execution_count": null,
   "id": "952a45bb",
   "metadata": {},
   "outputs": [],
   "source": [
    "# unique element\n",
    "# no duplication \n",
    "# sort the elements"
   ]
  },
  {
   "cell_type": "code",
   "execution_count": 1,
   "id": "8e6104ce",
   "metadata": {},
   "outputs": [],
   "source": [
    "S1=set([1,2,3])"
   ]
  },
  {
   "cell_type": "code",
   "execution_count": 2,
   "id": "76de417e",
   "metadata": {},
   "outputs": [
    {
     "data": {
      "text/plain": [
       "{1, 2, 3}"
      ]
     },
     "execution_count": 2,
     "metadata": {},
     "output_type": "execute_result"
    }
   ],
   "source": [
    "S1"
   ]
  },
  {
   "cell_type": "code",
   "execution_count": 3,
   "id": "8fb06282",
   "metadata": {},
   "outputs": [
    {
     "data": {
      "text/plain": [
       "{1, 2, 3}"
      ]
     },
     "execution_count": 3,
     "metadata": {},
     "output_type": "execute_result"
    }
   ],
   "source": [
    "S2=set([1,2,3,3,2])\n",
    "S2"
   ]
  },
  {
   "cell_type": "code",
   "execution_count": 4,
   "id": "51f2fa91",
   "metadata": {},
   "outputs": [
    {
     "data": {
      "text/plain": [
       "set"
      ]
     },
     "execution_count": 4,
     "metadata": {},
     "output_type": "execute_result"
    }
   ],
   "source": [
    "type(S2)"
   ]
  },
  {
   "cell_type": "code",
   "execution_count": null,
   "id": "ab571dc6",
   "metadata": {},
   "outputs": [],
   "source": [
    "# operations\n",
    "# union |\n",
    "# intersection &\n",
    "# difference -\n",
    "# symmetric difference ^\n",
    "# subset <\n",
    "# superset"
   ]
  },
  {
   "cell_type": "code",
   "execution_count": 5,
   "id": "06735e04",
   "metadata": {},
   "outputs": [
    {
     "data": {
      "text/plain": [
       "{1, 2, 3}"
      ]
     },
     "execution_count": 5,
     "metadata": {},
     "output_type": "execute_result"
    }
   ],
   "source": [
    "S1 | S2"
   ]
  },
  {
   "cell_type": "code",
   "execution_count": 6,
   "id": "a98afeda",
   "metadata": {},
   "outputs": [
    {
     "data": {
      "text/plain": [
       "{1, 2, 3}"
      ]
     },
     "execution_count": 6,
     "metadata": {},
     "output_type": "execute_result"
    }
   ],
   "source": [
    "S1 & S2"
   ]
  },
  {
   "cell_type": "code",
   "execution_count": 7,
   "id": "45befd97",
   "metadata": {},
   "outputs": [
    {
     "data": {
      "text/plain": [
       "set()"
      ]
     },
     "execution_count": 7,
     "metadata": {},
     "output_type": "execute_result"
    }
   ],
   "source": [
    "S2 - S1"
   ]
  },
  {
   "cell_type": "code",
   "execution_count": 8,
   "id": "01405052",
   "metadata": {},
   "outputs": [
    {
     "data": {
      "text/plain": [
       "set()"
      ]
     },
     "execution_count": 8,
     "metadata": {},
     "output_type": "execute_result"
    }
   ],
   "source": [
    "S1 - S2"
   ]
  },
  {
   "cell_type": "code",
   "execution_count": 9,
   "id": "4be5bcb5",
   "metadata": {},
   "outputs": [
    {
     "data": {
      "text/plain": [
       "set()"
      ]
     },
     "execution_count": 9,
     "metadata": {},
     "output_type": "execute_result"
    }
   ],
   "source": [
    "# a-b union b-a\n",
    "S1 ^ S2\n"
   ]
  },
  {
   "cell_type": "code",
   "execution_count": 10,
   "id": "0ea72553",
   "metadata": {},
   "outputs": [
    {
     "data": {
      "text/plain": [
       "False"
      ]
     },
     "execution_count": 10,
     "metadata": {},
     "output_type": "execute_result"
    }
   ],
   "source": [
    "S1 < S2"
   ]
  },
  {
   "cell_type": "code",
   "execution_count": 12,
   "id": "f9323e18",
   "metadata": {},
   "outputs": [
    {
     "data": {
      "text/plain": [
       "True"
      ]
     },
     "execution_count": 12,
     "metadata": {},
     "output_type": "execute_result"
    }
   ],
   "source": [
    "S2.issuperset(S1)"
   ]
  },
  {
   "cell_type": "code",
   "execution_count": 13,
   "id": "a887eed7",
   "metadata": {},
   "outputs": [
    {
     "data": {
      "text/plain": [
       "True"
      ]
     },
     "execution_count": 13,
     "metadata": {},
     "output_type": "execute_result"
    }
   ],
   "source": [
    "S1.issuperset(S2)"
   ]
  },
  {
   "cell_type": "code",
   "execution_count": 14,
   "id": "58bff304",
   "metadata": {},
   "outputs": [
    {
     "data": {
      "text/plain": [
       "set()"
      ]
     },
     "execution_count": 14,
     "metadata": {},
     "output_type": "execute_result"
    }
   ],
   "source": [
    "S1.difference(S2)"
   ]
  },
  {
   "cell_type": "code",
   "execution_count": 17,
   "id": "2c2ad827",
   "metadata": {},
   "outputs": [],
   "source": [
    "S1=[\"red\",\"Black\",\"yellow\",\"White\",\"Green\",\"White\",\"Yellow\"]"
   ]
  },
  {
   "cell_type": "code",
   "execution_count": 18,
   "id": "d4d823e9",
   "metadata": {},
   "outputs": [
    {
     "data": {
      "text/plain": [
       "['red', 'Black', 'yellow', 'White', 'Green', 'White', 'Yellow']"
      ]
     },
     "execution_count": 18,
     "metadata": {},
     "output_type": "execute_result"
    }
   ],
   "source": [
    "S1"
   ]
  },
  {
   "cell_type": "code",
   "execution_count": 19,
   "id": "2a4ea66d",
   "metadata": {},
   "outputs": [
    {
     "data": {
      "text/plain": [
       "{'Black', 'Green', 'White', 'Yellow', 'red', 'yellow'}"
      ]
     },
     "execution_count": 19,
     "metadata": {},
     "output_type": "execute_result"
    }
   ],
   "source": [
    "set(S1)"
   ]
  },
  {
   "cell_type": "code",
   "execution_count": 20,
   "id": "0d0cb4f3",
   "metadata": {},
   "outputs": [],
   "source": [
    "S1=[\"Red\",\"Black\",\"Yellow\",\"White\",\"Green\",\"White\",\"Yellow\"]"
   ]
  },
  {
   "cell_type": "code",
   "execution_count": 21,
   "id": "f8b65639",
   "metadata": {},
   "outputs": [
    {
     "data": {
      "text/plain": [
       "{'Black', 'Green', 'Red', 'White', 'Yellow'}"
      ]
     },
     "execution_count": 21,
     "metadata": {},
     "output_type": "execute_result"
    }
   ],
   "source": [
    "set(S1)"
   ]
  },
  {
   "cell_type": "code",
   "execution_count": null,
   "id": "c61aa18c",
   "metadata": {},
   "outputs": [],
   "source": [
    "# Consider a large set of email repository (Email_all) and a smaller set of emails which are not in use(Email_not_use) \n",
    "# Count how many emails which are not in use exists in Complete Email repository."
   ]
  },
  {
   "cell_type": "code",
   "execution_count": null,
   "id": "c437e5c8",
   "metadata": {},
   "outputs": [],
   "source": [
    "# The logic is capable of searching 1,000 elements large set of email repository of 10,000,000 items\n",
    "# Takes about 0.3 milliseconds—that’s close to 0.3 microseconds per element."
   ]
  },
  {
   "cell_type": "markdown",
   "id": "35e37574",
   "metadata": {},
   "source": [
    "# Frozenset()"
   ]
  },
  {
   "cell_type": "code",
   "execution_count": null,
   "id": "ab9072fd",
   "metadata": {},
   "outputs": [],
   "source": [
    "# set is mutable\n",
    "# An immutable version of set"
   ]
  },
  {
   "cell_type": "code",
   "execution_count": 22,
   "id": "965d6b1b",
   "metadata": {},
   "outputs": [
    {
     "data": {
      "text/plain": [
       "frozenset({0, 1, 2, 3, 4, 5, 6, 7, 8, 9})"
      ]
     },
     "execution_count": 22,
     "metadata": {},
     "output_type": "execute_result"
    }
   ],
   "source": [
    "S3=frozenset(range(10))\n",
    "S3"
   ]
  },
  {
   "cell_type": "code",
   "execution_count": 23,
   "id": "16e8342d",
   "metadata": {},
   "outputs": [
    {
     "ename": "AttributeError",
     "evalue": "'frozenset' object has no attribute 'pop'",
     "output_type": "error",
     "traceback": [
      "\u001b[1;31m---------------------------------------------------------------------------\u001b[0m",
      "\u001b[1;31mAttributeError\u001b[0m                            Traceback (most recent call last)",
      "Cell \u001b[1;32mIn[23], line 1\u001b[0m\n\u001b[1;32m----> 1\u001b[0m S3\u001b[38;5;241m.\u001b[39mpop()\n",
      "\u001b[1;31mAttributeError\u001b[0m: 'frozenset' object has no attribute 'pop'"
     ]
    }
   ],
   "source": [
    "S3.pop()"
   ]
  },
  {
   "cell_type": "code",
   "execution_count": 24,
   "id": "6d3d1c0a",
   "metadata": {},
   "outputs": [
    {
     "ename": "AttributeError",
     "evalue": "'frozenset' object has no attribute 'add'",
     "output_type": "error",
     "traceback": [
      "\u001b[1;31m---------------------------------------------------------------------------\u001b[0m",
      "\u001b[1;31mAttributeError\u001b[0m                            Traceback (most recent call last)",
      "Cell \u001b[1;32mIn[24], line 1\u001b[0m\n\u001b[1;32m----> 1\u001b[0m S3\u001b[38;5;241m.\u001b[39m add(\u001b[38;5;241m10\u001b[39m)\n",
      "\u001b[1;31mAttributeError\u001b[0m: 'frozenset' object has no attribute 'add'"
     ]
    }
   ],
   "source": [
    "S3.add(10)"
   ]
  },
  {
   "cell_type": "code",
   "execution_count": 25,
   "id": "d178aeb5",
   "metadata": {},
   "outputs": [],
   "source": [
    "S4=frozenset(range(8,12))"
   ]
  },
  {
   "cell_type": "code",
   "execution_count": 26,
   "id": "13e28356",
   "metadata": {},
   "outputs": [
    {
     "data": {
      "text/plain": [
       "frozenset({8, 9, 10, 11})"
      ]
     },
     "execution_count": 26,
     "metadata": {},
     "output_type": "execute_result"
    }
   ],
   "source": [
    "S4"
   ]
  },
  {
   "cell_type": "code",
   "execution_count": 27,
   "id": "68e2bdc4",
   "metadata": {},
   "outputs": [
    {
     "data": {
      "text/plain": [
       "frozenset({0, 1, 2, 3, 4, 5, 6, 7, 8, 9, 10, 11})"
      ]
     },
     "execution_count": 27,
     "metadata": {},
     "output_type": "execute_result"
    }
   ],
   "source": [
    "S3.union(S4)"
   ]
  },
  {
   "cell_type": "code",
   "execution_count": null,
   "id": "51b9209d",
   "metadata": {},
   "outputs": [],
   "source": []
  },
  {
   "cell_type": "markdown",
   "id": "4acc8037",
   "metadata": {},
   "source": [
    "# Dictionary {}"
   ]
  },
  {
   "cell_type": "code",
   "execution_count": null,
   "id": "476ac5ad",
   "metadata": {},
   "outputs": [],
   "source": [
    "\n",
    "# key:value pairs\n",
    "# {}\n",
    "#{key1:valye,key2:value}\n",
    "# no duplicate keys\n",
    "# no order"
   ]
  },
  {
   "cell_type": "code",
   "execution_count": 28,
   "id": "06e9f257",
   "metadata": {},
   "outputs": [
    {
     "data": {
      "text/plain": [
       "{'name': 'sk', 'course': 'AIML', 'age': 49, 'handled': True}"
      ]
     },
     "execution_count": 28,
     "metadata": {},
     "output_type": "execute_result"
    }
   ],
   "source": [
    "D1={'name':\"sk\",'course':'AIML','age':49,'handled':True}\n",
    "D1"
   ]
  },
  {
   "cell_type": "code",
   "execution_count": 29,
   "id": "fa0bf4fe",
   "metadata": {},
   "outputs": [
    {
     "data": {
      "text/plain": [
       "'sk'"
      ]
     },
     "execution_count": 29,
     "metadata": {},
     "output_type": "execute_result"
    }
   ],
   "source": [
    "D1['name']"
   ]
  },
  {
   "cell_type": "code",
   "execution_count": 30,
   "id": "b66879d8",
   "metadata": {},
   "outputs": [
    {
     "data": {
      "text/plain": [
       "dict_keys(['name', 'course', 'age', 'handled'])"
      ]
     },
     "execution_count": 30,
     "metadata": {},
     "output_type": "execute_result"
    }
   ],
   "source": [
    "D1.keys()"
   ]
  },
  {
   "cell_type": "code",
   "execution_count": 31,
   "id": "a1d9c6ca",
   "metadata": {},
   "outputs": [
    {
     "data": {
      "text/plain": [
       "dict_values(['sk', 'AIML', 49, True])"
      ]
     },
     "execution_count": 31,
     "metadata": {},
     "output_type": "execute_result"
    }
   ],
   "source": [
    "D1.values()"
   ]
  },
  {
   "cell_type": "code",
   "execution_count": 32,
   "id": "e8609a87",
   "metadata": {},
   "outputs": [
    {
     "data": {
      "text/plain": [
       "dict_items([('name', 'sk'), ('course', 'AIML'), ('age', 49), ('handled', True)])"
      ]
     },
     "execution_count": 32,
     "metadata": {},
     "output_type": "execute_result"
    }
   ],
   "source": [
    "D1.items()"
   ]
  },
  {
   "cell_type": "code",
   "execution_count": null,
   "id": "946b6a49",
   "metadata": {},
   "outputs": [],
   "source": [
    "# get()\n",
    "# copy()\n",
    "# clear()\n",
    "# del()\n",
    "# pop()"
   ]
  },
  {
   "cell_type": "code",
   "execution_count": 33,
   "id": "c4947397",
   "metadata": {},
   "outputs": [
    {
     "data": {
      "text/plain": [
       "4"
      ]
     },
     "execution_count": 33,
     "metadata": {},
     "output_type": "execute_result"
    }
   ],
   "source": [
    "len(D1)"
   ]
  },
  {
   "cell_type": "code",
   "execution_count": 34,
   "id": "38dbd971",
   "metadata": {},
   "outputs": [],
   "source": [
    "D2={}"
   ]
  },
  {
   "cell_type": "code",
   "execution_count": 35,
   "id": "f4b347d1",
   "metadata": {},
   "outputs": [
    {
     "data": {
      "text/plain": [
       "{}"
      ]
     },
     "execution_count": 35,
     "metadata": {},
     "output_type": "execute_result"
    }
   ],
   "source": [
    "D2"
   ]
  },
  {
   "cell_type": "code",
   "execution_count": null,
   "id": "53112a24",
   "metadata": {},
   "outputs": [],
   "source": [
    "# keys are immutable"
   ]
  },
  {
   "cell_type": "code",
   "execution_count": 36,
   "id": "d54b2bf7",
   "metadata": {},
   "outputs": [],
   "source": [
    "D1['name']='sailaja kumar'"
   ]
  },
  {
   "cell_type": "code",
   "execution_count": 37,
   "id": "613a3058",
   "metadata": {},
   "outputs": [
    {
     "data": {
      "text/plain": [
       "{'name': 'sailaja kumar', 'course': 'AIML', 'age': 49, 'handled': True}"
      ]
     },
     "execution_count": 37,
     "metadata": {},
     "output_type": "execute_result"
    }
   ],
   "source": [
    "D1"
   ]
  },
  {
   "cell_type": "code",
   "execution_count": 38,
   "id": "cc8b5610",
   "metadata": {},
   "outputs": [],
   "source": [
    "D2={'Feddback':[10,8,9]}"
   ]
  },
  {
   "cell_type": "code",
   "execution_count": 39,
   "id": "fddb8c86",
   "metadata": {},
   "outputs": [
    {
     "data": {
      "text/plain": [
       "{'Feddback': [10, 8, 9]}"
      ]
     },
     "execution_count": 39,
     "metadata": {},
     "output_type": "execute_result"
    }
   ],
   "source": [
    "D2"
   ]
  },
  {
   "cell_type": "code",
   "execution_count": 40,
   "id": "ad43b8bc",
   "metadata": {},
   "outputs": [],
   "source": [
    "D1.update(D2)"
   ]
  },
  {
   "cell_type": "code",
   "execution_count": 41,
   "id": "5d0e52c2",
   "metadata": {},
   "outputs": [
    {
     "data": {
      "text/plain": [
       "{'name': 'sailaja kumar',\n",
       " 'course': 'AIML',\n",
       " 'age': 49,\n",
       " 'handled': True,\n",
       " 'Feddback': [10, 8, 9]}"
      ]
     },
     "execution_count": 41,
     "metadata": {},
     "output_type": "execute_result"
    }
   ],
   "source": [
    "D1"
   ]
  },
  {
   "cell_type": "code",
   "execution_count": 42,
   "id": "ce4720a1",
   "metadata": {},
   "outputs": [
    {
     "data": {
      "text/plain": [
       "'AIML'"
      ]
     },
     "execution_count": 42,
     "metadata": {},
     "output_type": "execute_result"
    }
   ],
   "source": [
    "D1.get('course')"
   ]
  },
  {
   "cell_type": "code",
   "execution_count": 43,
   "id": "e1e43f7b",
   "metadata": {},
   "outputs": [],
   "source": [
    "D2.get('course')"
   ]
  },
  {
   "cell_type": "code",
   "execution_count": null,
   "id": "74deb04e",
   "metadata": {},
   "outputs": [],
   "source": []
  },
  {
   "cell_type": "code",
   "execution_count": 44,
   "id": "41dabd5d",
   "metadata": {},
   "outputs": [
    {
     "data": {
      "text/plain": [
       "'Not specified'"
      ]
     },
     "execution_count": 44,
     "metadata": {},
     "output_type": "execute_result"
    }
   ],
   "source": [
    "D2.get('course','Not specified')"
   ]
  },
  {
   "cell_type": "code",
   "execution_count": 45,
   "id": "0990f9c5",
   "metadata": {},
   "outputs": [
    {
     "name": "stdout",
     "output_type": "stream",
     "text": [
      "the deleted item is [10, 8, 9]\n"
     ]
    }
   ],
   "source": [
    "i='Feddback'\n",
    "if i in D1:\n",
    "    temp=D1[i]\n",
    "    del D1[i]\n",
    "    print(\"the deleted item is\",temp)\n",
    "else:\n",
    "    print(\"the item does not exists\")"
   ]
  },
  {
   "cell_type": "code",
   "execution_count": 46,
   "id": "caf45cdd",
   "metadata": {},
   "outputs": [
    {
     "data": {
      "text/plain": [
       "['course']"
      ]
     },
     "execution_count": 46,
     "metadata": {},
     "output_type": "execute_result"
    }
   ],
   "source": [
    "value='AIML'\n",
    "ky=[key for key, val in D1.items() if val==value]\n",
    "ky"
   ]
  },
  {
   "cell_type": "code",
   "execution_count": 47,
   "id": "2dc121c8",
   "metadata": {},
   "outputs": [],
   "source": [
    "for k in ky:\n",
    "    del D1[k]    "
   ]
  },
  {
   "cell_type": "code",
   "execution_count": 48,
   "id": "7057ddf5",
   "metadata": {},
   "outputs": [
    {
     "data": {
      "text/plain": [
       "{'name': 'sailaja kumar', 'age': 49, 'handled': True}"
      ]
     },
     "execution_count": 48,
     "metadata": {},
     "output_type": "execute_result"
    }
   ],
   "source": [
    "D1"
   ]
  },
  {
   "cell_type": "code",
   "execution_count": null,
   "id": "de1f87a9",
   "metadata": {},
   "outputs": [],
   "source": []
  },
  {
   "cell_type": "markdown",
   "id": "0a9ae71b",
   "metadata": {},
   "source": [
    "## 1.4 Tuple <a class=\"anchor\" id=\"1.4\"></a>\n",
    "[Back to Data Structures](#0.1)"
   ]
  },
  {
   "cell_type": "code",
   "execution_count": null,
   "id": "4a078f3b",
   "metadata": {},
   "outputs": [],
   "source": [
    "# immutable\n",
    "# ()"
   ]
  },
  {
   "cell_type": "code",
   "execution_count": 49,
   "id": "c65b1f92",
   "metadata": {},
   "outputs": [],
   "source": [
    "T1=(1,2,3)"
   ]
  },
  {
   "cell_type": "code",
   "execution_count": 50,
   "id": "c3cecd22",
   "metadata": {},
   "outputs": [
    {
     "data": {
      "text/plain": [
       "(1, 2, 3)"
      ]
     },
     "execution_count": 50,
     "metadata": {},
     "output_type": "execute_result"
    }
   ],
   "source": [
    "T1"
   ]
  },
  {
   "cell_type": "code",
   "execution_count": 51,
   "id": "b714df61",
   "metadata": {},
   "outputs": [
    {
     "data": {
      "text/plain": [
       "tuple"
      ]
     },
     "execution_count": 51,
     "metadata": {},
     "output_type": "execute_result"
    }
   ],
   "source": [
    "type(T1)"
   ]
  },
  {
   "cell_type": "code",
   "execution_count": 52,
   "id": "bef1d8da",
   "metadata": {},
   "outputs": [
    {
     "data": {
      "text/plain": [
       "1"
      ]
     },
     "execution_count": 52,
     "metadata": {},
     "output_type": "execute_result"
    }
   ],
   "source": [
    "T1[0]"
   ]
  },
  {
   "cell_type": "code",
   "execution_count": 53,
   "id": "d8d3e636",
   "metadata": {},
   "outputs": [
    {
     "data": {
      "text/plain": [
       "3"
      ]
     },
     "execution_count": 53,
     "metadata": {},
     "output_type": "execute_result"
    }
   ],
   "source": [
    "len(T1)"
   ]
  },
  {
   "cell_type": "code",
   "execution_count": 54,
   "id": "6a58a8c5",
   "metadata": {},
   "outputs": [
    {
     "ename": "TypeError",
     "evalue": "'tuple' object does not support item assignment",
     "output_type": "error",
     "traceback": [
      "\u001b[1;31m---------------------------------------------------------------------------\u001b[0m",
      "\u001b[1;31mTypeError\u001b[0m                                 Traceback (most recent call last)",
      "Cell \u001b[1;32mIn[54], line 1\u001b[0m\n\u001b[1;32m----> 1\u001b[0m T1[\u001b[38;5;241m2\u001b[39m]\u001b[38;5;241m=\u001b[39m\u001b[38;5;241m30\u001b[39m\n",
      "\u001b[1;31mTypeError\u001b[0m: 'tuple' object does not support item assignment"
     ]
    }
   ],
   "source": [
    "T1[2]=30"
   ]
  },
  {
   "cell_type": "code",
   "execution_count": null,
   "id": "34ab5975",
   "metadata": {},
   "outputs": [],
   "source": [
    "# Tuple is partially immutable"
   ]
  },
  {
   "cell_type": "code",
   "execution_count": 55,
   "id": "82c0d638",
   "metadata": {},
   "outputs": [],
   "source": [
    "T2=(1,2,[3,4])"
   ]
  },
  {
   "cell_type": "code",
   "execution_count": 56,
   "id": "fc9cd038",
   "metadata": {},
   "outputs": [
    {
     "data": {
      "text/plain": [
       "(1, 2, [3, 4])"
      ]
     },
     "execution_count": 56,
     "metadata": {},
     "output_type": "execute_result"
    }
   ],
   "source": [
    "T2"
   ]
  },
  {
   "cell_type": "code",
   "execution_count": 57,
   "id": "39d7e7f1",
   "metadata": {},
   "outputs": [
    {
     "data": {
      "text/plain": [
       "tuple"
      ]
     },
     "execution_count": 57,
     "metadata": {},
     "output_type": "execute_result"
    }
   ],
   "source": [
    "type(T2)"
   ]
  },
  {
   "cell_type": "code",
   "execution_count": 58,
   "id": "28be3d24",
   "metadata": {},
   "outputs": [
    {
     "ename": "NameError",
     "evalue": "name 'T' is not defined",
     "output_type": "error",
     "traceback": [
      "\u001b[1;31m---------------------------------------------------------------------------\u001b[0m",
      "\u001b[1;31mNameError\u001b[0m                                 Traceback (most recent call last)",
      "Cell \u001b[1;32mIn[58], line 1\u001b[0m\n\u001b[1;32m----> 1\u001b[0m T[\u001b[38;5;241m2\u001b[39m][\u001b[38;5;241m1\u001b[39m]\n",
      "\u001b[1;31mNameError\u001b[0m: name 'T' is not defined"
     ]
    }
   ],
   "source": [
    "T[2][1]"
   ]
  },
  {
   "cell_type": "code",
   "execution_count": 59,
   "id": "ee532c62",
   "metadata": {},
   "outputs": [
    {
     "data": {
      "text/plain": [
       "4"
      ]
     },
     "execution_count": 59,
     "metadata": {},
     "output_type": "execute_result"
    }
   ],
   "source": [
    "T2[2][1]"
   ]
  },
  {
   "cell_type": "code",
   "execution_count": 60,
   "id": "5670b9f3",
   "metadata": {},
   "outputs": [],
   "source": [
    "T2[2][1]=40"
   ]
  },
  {
   "cell_type": "code",
   "execution_count": 61,
   "id": "2d054c8c",
   "metadata": {},
   "outputs": [
    {
     "data": {
      "text/plain": [
       "(1, 2, [3, 40])"
      ]
     },
     "execution_count": 61,
     "metadata": {},
     "output_type": "execute_result"
    }
   ],
   "source": [
    "T2"
   ]
  },
  {
   "cell_type": "code",
   "execution_count": null,
   "id": "27f0467f",
   "metadata": {},
   "outputs": [],
   "source": [
    "# allows duplicates"
   ]
  },
  {
   "cell_type": "code",
   "execution_count": 62,
   "id": "13046c0d",
   "metadata": {},
   "outputs": [
    {
     "data": {
      "text/plain": [
       "(1, 2, 1, 2, 1, 2)"
      ]
     },
     "execution_count": 62,
     "metadata": {},
     "output_type": "execute_result"
    }
   ],
   "source": [
    "T3=(1,2,1,2,1,2)\n",
    "T3"
   ]
  },
  {
   "cell_type": "code",
   "execution_count": 63,
   "id": "2bb6ba53",
   "metadata": {},
   "outputs": [],
   "source": [
    "L1=[3,4,5,6,7,8]"
   ]
  },
  {
   "cell_type": "code",
   "execution_count": 64,
   "id": "63c5f7fb",
   "metadata": {},
   "outputs": [
    {
     "data": {
      "text/plain": [
       "[3, 4, 5, 6, 7, 8]"
      ]
     },
     "execution_count": 64,
     "metadata": {},
     "output_type": "execute_result"
    }
   ],
   "source": [
    "L1"
   ]
  },
  {
   "cell_type": "code",
   "execution_count": 65,
   "id": "6222b076",
   "metadata": {},
   "outputs": [],
   "source": [
    "T5=tuple(L1)"
   ]
  },
  {
   "cell_type": "code",
   "execution_count": 66,
   "id": "1bfb6e5e",
   "metadata": {},
   "outputs": [
    {
     "data": {
      "text/plain": [
       "(3, 4, 5, 6, 7, 8)"
      ]
     },
     "execution_count": 66,
     "metadata": {},
     "output_type": "execute_result"
    }
   ],
   "source": [
    "T5"
   ]
  },
  {
   "cell_type": "code",
   "execution_count": 67,
   "id": "e4077088",
   "metadata": {},
   "outputs": [
    {
     "data": {
      "text/plain": [
       "tuple"
      ]
     },
     "execution_count": 67,
     "metadata": {},
     "output_type": "execute_result"
    }
   ],
   "source": [
    "type(T5)"
   ]
  },
  {
   "cell_type": "code",
   "execution_count": 68,
   "id": "8af55c59",
   "metadata": {},
   "outputs": [],
   "source": [
    "L2=list(T5)"
   ]
  },
  {
   "cell_type": "code",
   "execution_count": 69,
   "id": "72a8a504",
   "metadata": {},
   "outputs": [
    {
     "data": {
      "text/plain": [
       "[3, 4, 5, 6, 7, 8]"
      ]
     },
     "execution_count": 69,
     "metadata": {},
     "output_type": "execute_result"
    }
   ],
   "source": [
    "L2"
   ]
  },
  {
   "cell_type": "code",
   "execution_count": 70,
   "id": "2139ab84",
   "metadata": {},
   "outputs": [
    {
     "data": {
      "text/plain": [
       "list"
      ]
     },
     "execution_count": 70,
     "metadata": {},
     "output_type": "execute_result"
    }
   ],
   "source": [
    "type(L2)"
   ]
  },
  {
   "cell_type": "code",
   "execution_count": 71,
   "id": "40aa2bcc",
   "metadata": {},
   "outputs": [
    {
     "data": {
      "text/plain": [
       "{1, 2, 3}"
      ]
     },
     "execution_count": 71,
     "metadata": {},
     "output_type": "execute_result"
    }
   ],
   "source": [
    "S1={1,2,3,2,3}\n",
    "S1"
   ]
  },
  {
   "cell_type": "code",
   "execution_count": 72,
   "id": "f270f74c",
   "metadata": {},
   "outputs": [],
   "source": [
    "T6=tuple(S1)"
   ]
  },
  {
   "cell_type": "code",
   "execution_count": 73,
   "id": "e6683caf",
   "metadata": {},
   "outputs": [
    {
     "data": {
      "text/plain": [
       "(1, 2, 3)"
      ]
     },
     "execution_count": 73,
     "metadata": {},
     "output_type": "execute_result"
    }
   ],
   "source": [
    "T6"
   ]
  },
  {
   "cell_type": "code",
   "execution_count": 74,
   "id": "6878e0d0",
   "metadata": {},
   "outputs": [
    {
     "data": {
      "text/plain": [
       "tuple"
      ]
     },
     "execution_count": 74,
     "metadata": {},
     "output_type": "execute_result"
    }
   ],
   "source": [
    "type(T6)"
   ]
  },
  {
   "cell_type": "code",
   "execution_count": 75,
   "id": "d4e50e5c",
   "metadata": {},
   "outputs": [
    {
     "data": {
      "text/plain": [
       "(1, 2, 1, 2, 2, 4, 3, 4)"
      ]
     },
     "execution_count": 75,
     "metadata": {},
     "output_type": "execute_result"
    }
   ],
   "source": [
    "T7=(1,2,1,2,2,4,3,4)\n",
    "T7"
   ]
  },
  {
   "cell_type": "code",
   "execution_count": 76,
   "id": "39edb110",
   "metadata": {},
   "outputs": [
    {
     "data": {
      "text/plain": [
       "{1, 2, 3, 4}"
      ]
     },
     "execution_count": 76,
     "metadata": {},
     "output_type": "execute_result"
    }
   ],
   "source": [
    "S2=set(T7)\n",
    "S2"
   ]
  },
  {
   "cell_type": "code",
   "execution_count": null,
   "id": "0a212408",
   "metadata": {},
   "outputs": [],
   "source": []
  },
  {
   "cell_type": "markdown",
   "id": "8a44cfa6",
   "metadata": {},
   "source": [
    "# List Comprehensions"
   ]
  },
  {
   "cell_type": "code",
   "execution_count": null,
   "id": "4c6e32b8",
   "metadata": {},
   "outputs": [],
   "source": [
    "# List\n",
    "# Set\n",
    "# Dictionary\n",
    "# Generators"
   ]
  },
  {
   "cell_type": "code",
   "execution_count": null,
   "id": "880b0def",
   "metadata": {},
   "outputs": [],
   "source": [
    "# compact form\n",
    "[expression for item in iterable]\n",
    "[expression for item in iterable if condition]"
   ]
  },
  {
   "cell_type": "code",
   "execution_count": 77,
   "id": "f94fd016",
   "metadata": {},
   "outputs": [
    {
     "data": {
      "text/plain": [
       "[1, 2, 3, 4]"
      ]
     },
     "execution_count": 77,
     "metadata": {},
     "output_type": "execute_result"
    }
   ],
   "source": [
    "L1=[1,2,3,4]\n",
    "L1"
   ]
  },
  {
   "cell_type": "code",
   "execution_count": 78,
   "id": "15879899",
   "metadata": {},
   "outputs": [
    {
     "data": {
      "text/plain": [
       "10"
      ]
     },
     "execution_count": 78,
     "metadata": {},
     "output_type": "execute_result"
    }
   ],
   "source": [
    "sum(L1)"
   ]
  },
  {
   "cell_type": "code",
   "execution_count": 79,
   "id": "1c75a396",
   "metadata": {},
   "outputs": [
    {
     "name": "stdout",
     "output_type": "stream",
     "text": [
      "square of 1 is 1\n",
      "square of 2 is 4\n",
      "square of 3 is 9\n",
      "square of 4 is 16\n"
     ]
    }
   ],
   "source": [
    "# Find the square of each element [1,4,9,16]\n",
    "for i in L1:\n",
    "    print(f\"square of {i} is {i*i}\")"
   ]
  },
  {
   "cell_type": "code",
   "execution_count": 80,
   "id": "8ba29cf9",
   "metadata": {},
   "outputs": [
    {
     "data": {
      "text/plain": [
       "[1, 4, 9, 16]"
      ]
     },
     "execution_count": 80,
     "metadata": {},
     "output_type": "execute_result"
    }
   ],
   "source": [
    "# [expression for item in iterable]\n",
    "[i*i for i in L1]"
   ]
  },
  {
   "cell_type": "code",
   "execution_count": 81,
   "id": "750cf943",
   "metadata": {},
   "outputs": [
    {
     "name": "stdout",
     "output_type": "stream",
     "text": [
      "[1, 4, 9, 16]\n"
     ]
    }
   ],
   "source": [
    "L2=[]\n",
    "for i in L1:\n",
    "    L2.append(i*i)\n",
    "print(L2)"
   ]
  },
  {
   "cell_type": "code",
   "execution_count": 82,
   "id": "454f313a",
   "metadata": {},
   "outputs": [
    {
     "data": {
      "text/plain": [
       "[4, 16]"
      ]
     },
     "execution_count": 82,
     "metadata": {},
     "output_type": "execute_result"
    }
   ],
   "source": [
    "# Find the square of even element [4,16]\n",
    "[i*i for i in L1 if i % 2==0]"
   ]
  },
  {
   "cell_type": "code",
   "execution_count": 83,
   "id": "23cd2299",
   "metadata": {},
   "outputs": [],
   "source": [
    "L1=['sailaja','kumar','thakur','singh']"
   ]
  },
  {
   "cell_type": "code",
   "execution_count": 84,
   "id": "9e937831",
   "metadata": {},
   "outputs": [
    {
     "data": {
      "text/plain": [
       "['sailaja', 'kumar', 'thakur', 'singh']"
      ]
     },
     "execution_count": 84,
     "metadata": {},
     "output_type": "execute_result"
    }
   ],
   "source": [
    "L1"
   ]
  },
  {
   "cell_type": "code",
   "execution_count": 85,
   "id": "cb0b2610",
   "metadata": {},
   "outputs": [
    {
     "data": {
      "text/plain": [
       "['SAILAJA', 'KUMAR', 'THAKUR', 'SINGH']"
      ]
     },
     "execution_count": 85,
     "metadata": {},
     "output_type": "execute_result"
    }
   ],
   "source": [
    "[i.upper() for i in L1]"
   ]
  },
  {
   "cell_type": "code",
   "execution_count": 86,
   "id": "8d2330c5",
   "metadata": {},
   "outputs": [
    {
     "data": {
      "text/plain": [
       "['SAILAJA', 'KUMAR', 'THAKUR', 'SINGH']"
      ]
     },
     "execution_count": 86,
     "metadata": {},
     "output_type": "execute_result"
    }
   ],
   "source": [
    "L11=[i.upper() for i in L1]\n",
    "L11"
   ]
  },
  {
   "cell_type": "code",
   "execution_count": 87,
   "id": "648c0349",
   "metadata": {},
   "outputs": [
    {
     "data": {
      "text/plain": [
       "['Sailaja', 'Kumar', 'Thakur', 'Singh']"
      ]
     },
     "execution_count": 87,
     "metadata": {},
     "output_type": "execute_result"
    }
   ],
   "source": [
    "[i.title() for i in L1]"
   ]
  },
  {
   "cell_type": "code",
   "execution_count": null,
   "id": "2b330878",
   "metadata": {},
   "outputs": [],
   "source": [
    "# Userdefined function to convert given string to Camelcase"
   ]
  },
  {
   "cell_type": "code",
   "execution_count": 88,
   "id": "31086540",
   "metadata": {},
   "outputs": [
    {
     "data": {
      "text/plain": [
       "['SAILAJA', 'KUMAR', 'THAKUR', 'SINGH']"
      ]
     },
     "execution_count": 88,
     "metadata": {},
     "output_type": "execute_result"
    }
   ],
   "source": [
    "L1=['sailaja','kumar','thakur','singh']\n",
    "L1 = [i.upper() for i in L1]\n",
    "L1"
   ]
  },
  {
   "cell_type": "code",
   "execution_count": null,
   "id": "4194871a",
   "metadata": {},
   "outputs": [],
   "source": []
  },
  {
   "cell_type": "markdown",
   "id": "63da36e6",
   "metadata": {},
   "source": [
    "# Set Comprehensions\n"
   ]
  },
  {
   "cell_type": "code",
   "execution_count": 89,
   "id": "28334f5a",
   "metadata": {},
   "outputs": [
    {
     "data": {
      "text/plain": [
       "[1, 2, 3, 4]"
      ]
     },
     "execution_count": 89,
     "metadata": {},
     "output_type": "execute_result"
    }
   ],
   "source": [
    "L1=[1,2,3,4]\n",
    "L1"
   ]
  },
  {
   "cell_type": "code",
   "execution_count": 90,
   "id": "88bbc10b",
   "metadata": {},
   "outputs": [
    {
     "data": {
      "text/plain": [
       "{1, 4, 9, 16}"
      ]
     },
     "execution_count": 90,
     "metadata": {},
     "output_type": "execute_result"
    }
   ],
   "source": [
    "# set containing square of each element\n",
    "S1={a*a for a in L1}\n",
    "S1"
   ]
  },
  {
   "cell_type": "code",
   "execution_count": 91,
   "id": "aa552032",
   "metadata": {},
   "outputs": [
    {
     "data": {
      "text/plain": [
       "set"
      ]
     },
     "execution_count": 91,
     "metadata": {},
     "output_type": "execute_result"
    }
   ],
   "source": [
    "type(S1)"
   ]
  },
  {
   "cell_type": "code",
   "execution_count": 92,
   "id": "d14057d9",
   "metadata": {},
   "outputs": [
    {
     "data": {
      "text/plain": [
       "[81, 64, 49, 36, 25, 16, 9, 4, 1, 0, 1, 4, 9, 16, 25, 36, 49, 64, 81]"
      ]
     },
     "execution_count": 92,
     "metadata": {},
     "output_type": "execute_result"
    }
   ],
   "source": [
    "[a*a for a in range(-9, 10)]   # -9 -8 -7 -6 -5 -4 -1 0 1 2 3 4 5 6 7 8 9"
   ]
  },
  {
   "cell_type": "code",
   "execution_count": 93,
   "id": "2997cb9f",
   "metadata": {},
   "outputs": [
    {
     "data": {
      "text/plain": [
       "{0, 1, 4, 9, 16, 25, 36, 49, 64, 81}"
      ]
     },
     "execution_count": 93,
     "metadata": {},
     "output_type": "execute_result"
    }
   ],
   "source": [
    "{a*a for a in range(-9, 10)}"
   ]
  },
  {
   "cell_type": "code",
   "execution_count": null,
   "id": "5f71ab02",
   "metadata": {},
   "outputs": [],
   "source": []
  }
 ],
 "metadata": {
  "kernelspec": {
   "display_name": "Python 3 (ipykernel)",
   "language": "python",
   "name": "python3"
  },
  "language_info": {
   "codemirror_mode": {
    "name": "ipython",
    "version": 3
   },
   "file_extension": ".py",
   "mimetype": "text/x-python",
   "name": "python",
   "nbconvert_exporter": "python",
   "pygments_lexer": "ipython3",
   "version": "3.11.5"
  }
 },
 "nbformat": 4,
 "nbformat_minor": 5
}
