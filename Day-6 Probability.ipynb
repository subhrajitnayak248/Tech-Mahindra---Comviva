{
 "cells": [
  {
   "cell_type": "code",
   "execution_count": 2,
   "id": "6f67160e",
   "metadata": {},
   "outputs": [],
   "source": [
    "# Basics of Probability:\n",
    "# Experiment: tossing a coin - possible outcomes\n",
    "# Random Experiment: toss a coing- gives one of several possible outcomes \n",
    "# roll a die: 1,2,3,4,5,6    \n",
    "# Event: specific Getting Head, Getting 6\n",
    "# Experiment sample space S: {H,T} all possible outcomes from the experiment {1,2,3,4,5,6}\n",
    "# Cardinality |S|=2, |S|=6\n",
    "# Event Sample Space:{H}, {6}  all possible outcomes from the event\n",
    "# A:Getting head {H} |A|=1 \n",
    "# B:face of the die will have >3 ={4,5,6} |B|=3"
   ]
  },
  {
   "cell_type": "code",
   "execution_count": null,
   "id": "4ced0586",
   "metadata": {},
   "outputs": [],
   "source": [
    "# P(A)= |A| / |S|"
   ]
  },
  {
   "cell_type": "code",
   "execution_count": null,
   "id": "0950262b",
   "metadata": {},
   "outputs": [],
   "source": [
    "# Probability of getting head when a coin is tossed\n",
    "E: Toss a coin {H,T}, |S|=2\n",
    "A:Getting head {H}, |A|=1\n",
    "    \n",
    "P(A)=1/2=0.5"
   ]
  },
  {
   "cell_type": "code",
   "execution_count": null,
   "id": "0387c2b5",
   "metadata": {},
   "outputs": [],
   "source": [
    "# Probability of getting exactly two heads when a coin is tossed two times\n",
    "E:Toss two coins {HH,HT,TH,TT}, |S|=4\n",
    "A:Getting two heads {HH}, |A|=1\n",
    "    \n",
    "P(A)=1/4=0.25"
   ]
  },
  {
   "cell_type": "code",
   "execution_count": null,
   "id": "ab635c46",
   "metadata": {},
   "outputs": [],
   "source": [
    "# Probability of getting two heads when a coin is tossed two times\n",
    "E:Toss two coins {HH,HT,TH,TT}, |S|=4\n",
    "A:Getting one tail {HT,TH}, |A|=2\n",
    "    \n",
    "P(A)=2/4=0.5"
   ]
  },
  {
   "cell_type": "code",
   "execution_count": null,
   "id": "e8c6839b",
   "metadata": {},
   "outputs": [],
   "source": [
    "Binomial probability distribution\n",
    "number of tosses=20 n\n",
    "probability of getting 5 heads"
   ]
  },
  {
   "cell_type": "code",
   "execution_count": 3,
   "id": "f60fff50",
   "metadata": {},
   "outputs": [],
   "source": [
    "from scipy.stats import binom"
   ]
  },
  {
   "cell_type": "code",
   "execution_count": 4,
   "id": "0e1de10a",
   "metadata": {},
   "outputs": [
    {
     "name": "stdout",
     "output_type": "stream",
     "text": [
      "0.01478576660156255\n"
     ]
    }
   ],
   "source": [
    "# binom.pmf(x,n,p)\n",
    "n=20\n",
    "p=0.5 #probability of getting head when we toss a coin\n",
    "x=5\n",
    "result=binom.pmf(x,n,p)\n",
    "print(result)"
   ]
  },
  {
   "cell_type": "code",
   "execution_count": 5,
   "id": "a58ed2ca",
   "metadata": {},
   "outputs": [
    {
     "name": "stdout",
     "output_type": "stream",
     "text": [
      "0.25\n"
     ]
    }
   ],
   "source": [
    "# binom.pmf(x,n,p)\n",
    "n=2\n",
    "p=0.5 #probability of getting head when we toss a coin\n",
    "x=2\n",
    "result=binom.pmf(x,n,p)\n",
    "print(result)"
   ]
  },
  {
   "cell_type": "code",
   "execution_count": null,
   "id": "18333426",
   "metadata": {},
   "outputs": [],
   "source": []
  }
 ],
 "metadata": {
  "kernelspec": {
   "display_name": "Python 3 (ipykernel)",
   "language": "python",
   "name": "python3"
  },
  "language_info": {
   "codemirror_mode": {
    "name": "ipython",
    "version": 3
   },
   "file_extension": ".py",
   "mimetype": "text/x-python",
   "name": "python",
   "nbconvert_exporter": "python",
   "pygments_lexer": "ipython3",
   "version": "3.11.5"
  }
 },
 "nbformat": 4,
 "nbformat_minor": 5
}
